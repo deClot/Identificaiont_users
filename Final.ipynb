{
 "cells": [
  {
   "cell_type": "markdown",
   "metadata": {},
   "source": [
    "**Цель** - Идентификация пользователя по посещенным веб-страницам. Соревнование на Kaggle [тут](https://www.kaggle.com/c/catch-me-if-you-can-intruder-detection-through-webpage-session-tracking2)\n",
    "\n",
    "**Задачи:**\n",
    "* анализ признаков, создание новы и их предобработка\n",
    "* подбор гиперпараметров и моделей на кросс-валидации"
   ]
  },
  {
   "cell_type": "code",
   "execution_count": 315,
   "metadata": {},
   "outputs": [],
   "source": [
    "import pandas as pd\n",
    "import numpy as np\n",
    "import os\n",
    "import pickle\n",
    "\n",
    "import seaborn as sns\n",
    "sns.set()\n",
    "\n",
    "import matplotlib.pyplot as plt"
   ]
  },
  {
   "cell_type": "code",
   "execution_count": 316,
   "metadata": {},
   "outputs": [],
   "source": [
    "import IPython\n",
    "\n",
    "def display(*dfs):\n",
    "    for df in dfs:\n",
    "        IPython.display.display(df)"
   ]
  },
  {
   "cell_type": "code",
   "execution_count": 331,
   "metadata": {},
   "outputs": [],
   "source": [
    "PATH_TO_DATA = 'capstone_user_identification'\n",
    "train_df = pd.read_csv(os.path.join(PATH_TO_DATA, 'train_sessions.csv'),\n",
    "                       index_col='session_id')\n",
    "test_df = pd.read_csv(os.path.join(PATH_TO_DATA, 'test_sessions.csv'),\n",
    "                      index_col='session_id')"
   ]
  },
  {
   "cell_type": "code",
   "execution_count": 332,
   "metadata": {},
   "outputs": [
    {
     "data": {
      "text/html": [
       "<div>\n",
       "<style scoped>\n",
       "    .dataframe tbody tr th:only-of-type {\n",
       "        vertical-align: middle;\n",
       "    }\n",
       "\n",
       "    .dataframe tbody tr th {\n",
       "        vertical-align: top;\n",
       "    }\n",
       "\n",
       "    .dataframe thead th {\n",
       "        text-align: right;\n",
       "    }\n",
       "</style>\n",
       "<table border=\"1\" class=\"dataframe\">\n",
       "  <thead>\n",
       "    <tr style=\"text-align: right;\">\n",
       "      <th></th>\n",
       "      <th>site1</th>\n",
       "      <th>time1</th>\n",
       "      <th>site2</th>\n",
       "      <th>time2</th>\n",
       "      <th>site3</th>\n",
       "      <th>time3</th>\n",
       "      <th>site4</th>\n",
       "      <th>time4</th>\n",
       "      <th>site5</th>\n",
       "      <th>time5</th>\n",
       "      <th>...</th>\n",
       "      <th>time6</th>\n",
       "      <th>site7</th>\n",
       "      <th>time7</th>\n",
       "      <th>site8</th>\n",
       "      <th>time8</th>\n",
       "      <th>site9</th>\n",
       "      <th>time9</th>\n",
       "      <th>site10</th>\n",
       "      <th>time10</th>\n",
       "      <th>target</th>\n",
       "    </tr>\n",
       "    <tr>\n",
       "      <th>session_id</th>\n",
       "      <th></th>\n",
       "      <th></th>\n",
       "      <th></th>\n",
       "      <th></th>\n",
       "      <th></th>\n",
       "      <th></th>\n",
       "      <th></th>\n",
       "      <th></th>\n",
       "      <th></th>\n",
       "      <th></th>\n",
       "      <th></th>\n",
       "      <th></th>\n",
       "      <th></th>\n",
       "      <th></th>\n",
       "      <th></th>\n",
       "      <th></th>\n",
       "      <th></th>\n",
       "      <th></th>\n",
       "      <th></th>\n",
       "      <th></th>\n",
       "      <th></th>\n",
       "    </tr>\n",
       "  </thead>\n",
       "  <tbody>\n",
       "    <tr>\n",
       "      <th>1</th>\n",
       "      <td>718</td>\n",
       "      <td>2014-02-20 10:02:45</td>\n",
       "      <td>NaN</td>\n",
       "      <td>NaN</td>\n",
       "      <td>NaN</td>\n",
       "      <td>NaN</td>\n",
       "      <td>NaN</td>\n",
       "      <td>NaN</td>\n",
       "      <td>NaN</td>\n",
       "      <td>NaN</td>\n",
       "      <td>...</td>\n",
       "      <td>NaN</td>\n",
       "      <td>NaN</td>\n",
       "      <td>NaN</td>\n",
       "      <td>NaN</td>\n",
       "      <td>NaN</td>\n",
       "      <td>NaN</td>\n",
       "      <td>NaN</td>\n",
       "      <td>NaN</td>\n",
       "      <td>NaN</td>\n",
       "      <td>0</td>\n",
       "    </tr>\n",
       "    <tr>\n",
       "      <th>2</th>\n",
       "      <td>890</td>\n",
       "      <td>2014-02-22 11:19:50</td>\n",
       "      <td>941.0</td>\n",
       "      <td>2014-02-22 11:19:50</td>\n",
       "      <td>3847.0</td>\n",
       "      <td>2014-02-22 11:19:51</td>\n",
       "      <td>941.0</td>\n",
       "      <td>2014-02-22 11:19:51</td>\n",
       "      <td>942.0</td>\n",
       "      <td>2014-02-22 11:19:51</td>\n",
       "      <td>...</td>\n",
       "      <td>2014-02-22 11:19:51</td>\n",
       "      <td>3847.0</td>\n",
       "      <td>2014-02-22 11:19:52</td>\n",
       "      <td>3846.0</td>\n",
       "      <td>2014-02-22 11:19:52</td>\n",
       "      <td>1516.0</td>\n",
       "      <td>2014-02-22 11:20:15</td>\n",
       "      <td>1518.0</td>\n",
       "      <td>2014-02-22 11:20:16</td>\n",
       "      <td>0</td>\n",
       "    </tr>\n",
       "    <tr>\n",
       "      <th>3</th>\n",
       "      <td>14769</td>\n",
       "      <td>2013-12-16 16:40:17</td>\n",
       "      <td>39.0</td>\n",
       "      <td>2013-12-16 16:40:18</td>\n",
       "      <td>14768.0</td>\n",
       "      <td>2013-12-16 16:40:19</td>\n",
       "      <td>14769.0</td>\n",
       "      <td>2013-12-16 16:40:19</td>\n",
       "      <td>37.0</td>\n",
       "      <td>2013-12-16 16:40:19</td>\n",
       "      <td>...</td>\n",
       "      <td>2013-12-16 16:40:19</td>\n",
       "      <td>14768.0</td>\n",
       "      <td>2013-12-16 16:40:20</td>\n",
       "      <td>14768.0</td>\n",
       "      <td>2013-12-16 16:40:21</td>\n",
       "      <td>14768.0</td>\n",
       "      <td>2013-12-16 16:40:22</td>\n",
       "      <td>14768.0</td>\n",
       "      <td>2013-12-16 16:40:24</td>\n",
       "      <td>0</td>\n",
       "    </tr>\n",
       "    <tr>\n",
       "      <th>4</th>\n",
       "      <td>782</td>\n",
       "      <td>2014-03-28 10:52:12</td>\n",
       "      <td>782.0</td>\n",
       "      <td>2014-03-28 10:52:42</td>\n",
       "      <td>782.0</td>\n",
       "      <td>2014-03-28 10:53:12</td>\n",
       "      <td>782.0</td>\n",
       "      <td>2014-03-28 10:53:42</td>\n",
       "      <td>782.0</td>\n",
       "      <td>2014-03-28 10:54:12</td>\n",
       "      <td>...</td>\n",
       "      <td>2014-03-28 10:54:42</td>\n",
       "      <td>782.0</td>\n",
       "      <td>2014-03-28 10:55:12</td>\n",
       "      <td>782.0</td>\n",
       "      <td>2014-03-28 10:55:42</td>\n",
       "      <td>782.0</td>\n",
       "      <td>2014-03-28 10:56:12</td>\n",
       "      <td>782.0</td>\n",
       "      <td>2014-03-28 10:56:42</td>\n",
       "      <td>0</td>\n",
       "    </tr>\n",
       "    <tr>\n",
       "      <th>5</th>\n",
       "      <td>22</td>\n",
       "      <td>2014-02-28 10:53:05</td>\n",
       "      <td>177.0</td>\n",
       "      <td>2014-02-28 10:55:22</td>\n",
       "      <td>175.0</td>\n",
       "      <td>2014-02-28 10:55:22</td>\n",
       "      <td>178.0</td>\n",
       "      <td>2014-02-28 10:55:23</td>\n",
       "      <td>177.0</td>\n",
       "      <td>2014-02-28 10:55:23</td>\n",
       "      <td>...</td>\n",
       "      <td>2014-02-28 10:55:59</td>\n",
       "      <td>175.0</td>\n",
       "      <td>2014-02-28 10:55:59</td>\n",
       "      <td>177.0</td>\n",
       "      <td>2014-02-28 10:55:59</td>\n",
       "      <td>177.0</td>\n",
       "      <td>2014-02-28 10:57:06</td>\n",
       "      <td>178.0</td>\n",
       "      <td>2014-02-28 10:57:11</td>\n",
       "      <td>0</td>\n",
       "    </tr>\n",
       "  </tbody>\n",
       "</table>\n",
       "<p>5 rows × 21 columns</p>\n",
       "</div>"
      ],
      "text/plain": [
       "            site1                time1  site2                time2    site3  \\\n",
       "session_id                                                                    \n",
       "1             718  2014-02-20 10:02:45    NaN                  NaN      NaN   \n",
       "2             890  2014-02-22 11:19:50  941.0  2014-02-22 11:19:50   3847.0   \n",
       "3           14769  2013-12-16 16:40:17   39.0  2013-12-16 16:40:18  14768.0   \n",
       "4             782  2014-03-28 10:52:12  782.0  2014-03-28 10:52:42    782.0   \n",
       "5              22  2014-02-28 10:53:05  177.0  2014-02-28 10:55:22    175.0   \n",
       "\n",
       "                          time3    site4                time4  site5  \\\n",
       "session_id                                                             \n",
       "1                           NaN      NaN                  NaN    NaN   \n",
       "2           2014-02-22 11:19:51    941.0  2014-02-22 11:19:51  942.0   \n",
       "3           2013-12-16 16:40:19  14769.0  2013-12-16 16:40:19   37.0   \n",
       "4           2014-03-28 10:53:12    782.0  2014-03-28 10:53:42  782.0   \n",
       "5           2014-02-28 10:55:22    178.0  2014-02-28 10:55:23  177.0   \n",
       "\n",
       "                          time5  ...                time6    site7  \\\n",
       "session_id                       ...                                 \n",
       "1                           NaN  ...                  NaN      NaN   \n",
       "2           2014-02-22 11:19:51  ...  2014-02-22 11:19:51   3847.0   \n",
       "3           2013-12-16 16:40:19  ...  2013-12-16 16:40:19  14768.0   \n",
       "4           2014-03-28 10:54:12  ...  2014-03-28 10:54:42    782.0   \n",
       "5           2014-02-28 10:55:23  ...  2014-02-28 10:55:59    175.0   \n",
       "\n",
       "                          time7    site8                time8    site9  \\\n",
       "session_id                                                               \n",
       "1                           NaN      NaN                  NaN      NaN   \n",
       "2           2014-02-22 11:19:52   3846.0  2014-02-22 11:19:52   1516.0   \n",
       "3           2013-12-16 16:40:20  14768.0  2013-12-16 16:40:21  14768.0   \n",
       "4           2014-03-28 10:55:12    782.0  2014-03-28 10:55:42    782.0   \n",
       "5           2014-02-28 10:55:59    177.0  2014-02-28 10:55:59    177.0   \n",
       "\n",
       "                          time9   site10               time10 target  \n",
       "session_id                                                            \n",
       "1                           NaN      NaN                  NaN      0  \n",
       "2           2014-02-22 11:20:15   1518.0  2014-02-22 11:20:16      0  \n",
       "3           2013-12-16 16:40:22  14768.0  2013-12-16 16:40:24      0  \n",
       "4           2014-03-28 10:56:12    782.0  2014-03-28 10:56:42      0  \n",
       "5           2014-02-28 10:57:06    178.0  2014-02-28 10:57:11      0  \n",
       "\n",
       "[5 rows x 21 columns]"
      ]
     },
     "execution_count": 332,
     "metadata": {},
     "output_type": "execute_result"
    }
   ],
   "source": [
    "train_df.head()"
   ]
  },
  {
   "cell_type": "markdown",
   "metadata": {},
   "source": [
    "У нас есть последовательность из 10 сайтов со временем входа и 'target' является ли пользователь Элис или нет. Nan соответсвуют пропускам, т.е. если пользователь посетил менее 10 сайтов.\n",
    "\n",
    "*Сессии пользователей выделены таким образом, что они не могут быть длинее получаса или 10 сайтов. То есть сессия считается оконченной либо когда пользователь посетил 10 сайтов подряд, либо когда сессия заняла по времени более 30 минут.*\n",
    "\n",
    "# Изучение таргета"
   ]
  },
  {
   "cell_type": "code",
   "execution_count": 333,
   "metadata": {},
   "outputs": [
    {
     "data": {
      "text/plain": [
       "0    0.990941\n",
       "1    0.009059\n",
       "Name: target, dtype: float64"
      ]
     },
     "execution_count": 333,
     "metadata": {},
     "output_type": "execute_result"
    }
   ],
   "source": [
    "train_df.target.value_counts()/ train_df.shape[0]"
   ]
  },
  {
   "cell_type": "markdown",
   "metadata": {},
   "source": [
    "В тарете у нас только 1% наблюдений, отмеченных как Элис. Несбалансированная выборка"
   ]
  },
  {
   "cell_type": "code",
   "execution_count": 334,
   "metadata": {},
   "outputs": [
    {
     "data": {
      "text/plain": [
       "2297"
      ]
     },
     "execution_count": 334,
     "metadata": {},
     "output_type": "execute_result"
    }
   ],
   "source": [
    "train_df[train_df.target==1].shape[0]"
   ]
  },
  {
   "cell_type": "markdown",
   "metadata": {},
   "source": [
    "# Изучение признаков\n",
    "## Признаки времени"
   ]
  },
  {
   "cell_type": "code",
   "execution_count": 321,
   "metadata": {},
   "outputs": [],
   "source": [
    "features_time = [f for f in train_df.columns if 'time' in f]"
   ]
  },
  {
   "cell_type": "markdown",
   "metadata": {},
   "source": [
    "Посмотрим на распределение наблюдений по дням месяца и по месяцам"
   ]
  },
  {
   "cell_type": "code",
   "execution_count": 12,
   "metadata": {},
   "outputs": [
    {
     "data": {
      "image/png": "[encoded data removed]",
      "text/plain": [
       "<Figure size 1080x360 with 2 Axes>"
      ]
     },
     "metadata": {},
     "output_type": "display_data"
    }
   ],
   "source": [
    "plt.figure(figsize=(15,5))\n",
    "ax = plt.subplot(1,2,1)\n",
    "temp = pd.DatetimeIndex(test_df.time1).normalize().day\n",
    "(temp.value_counts().sort_index().reindex(range(1,32))/temp.shape[0]).plot(kind='bar')\n",
    "ax.set_title('Test by days')\n",
    "\n",
    "ax = plt.subplot(1,2,2)\n",
    "temp = pd.DatetimeIndex(train_df.time1).normalize().day\n",
    "(temp.value_counts().sort_index().reindex(range(1,32))/temp.shape[0]).plot(kind='bar')\n",
    "ax.set_title('Train by days');"
   ]
  },
  {
   "cell_type": "markdown",
   "metadata": {},
   "source": [
    "Странный попропуск по дням с 5 по 12 как в трейн, так и в тест наборах."
   ]
  },
  {
   "cell_type": "code",
   "execution_count": 13,
   "metadata": {},
   "outputs": [
    {
     "data": {
      "image/png": "[encoded data removed]",
      "text/plain": [
       "<Figure size 1080x360 with 2 Axes>"
      ]
     },
     "metadata": {},
     "output_type": "display_data"
    }
   ],
   "source": [
    "plt.figure(figsize=(15,5))\n",
    "ax = plt.subplot(1,2,1)\n",
    "temp = pd.DatetimeIndex(test_df.time1).normalize().month\n",
    "(temp.value_counts().sort_index().reindex(range(1,13))/temp.shape[0]).plot(kind='bar')\n",
    "ax.set_title('Test by months')\n",
    "\n",
    "ax = plt.subplot(1,2,2)\n",
    "temp = pd.DatetimeIndex(train_df.time1).normalize().month\n",
    "(temp.value_counts().sort_index().reindex(range(1,13))/temp.shape[0]).plot(kind='bar')\n",
    "ax.set_title('Train by months');"
   ]
  },
  {
   "cell_type": "markdown",
   "metadata": {},
   "source": [
    "А тесте понятно, что данные принадлежат одному году, начиная с мая. А вот в трейн опять пропуски в данных для месяцев 5-10.\n",
    "\n",
    "Посмотрим распределение трейн данных по месяцам в зависимости от года"
   ]
  },
  {
   "cell_type": "code",
   "execution_count": 14,
   "metadata": {},
   "outputs": [
    {
     "data": {
      "image/png": "[encoded data removed]",
      "text/plain": [
       "<Figure size 1080x360 with 2 Axes>"
      ]
     },
     "metadata": {},
     "output_type": "display_data"
    }
   ],
   "source": [
    "plt.figure(figsize=(15,5))\n",
    "ax = plt.subplot(1,2,1)\n",
    "temp = pd.DatetimeIndex(train_df.time1).normalize()\n",
    "temp = temp[temp.year==2013].month\n",
    "(temp.value_counts().sort_index().reindex(range(1,13))/temp.shape[0]).plot(kind='bar')\n",
    "ax.set_title('Train 2013 by months')\n",
    "\n",
    "ax = plt.subplot(1,2,2)\n",
    "temp = pd.DatetimeIndex(train_df.time1).normalize()\n",
    "temp = temp[temp.year==2014].month\n",
    "(temp.value_counts().sort_index().reindex(range(1,13))/temp.shape[0]).plot(kind='bar')\n",
    "ax.set_title('Train 2014 by months');"
   ]
  },
  {
   "cell_type": "markdown",
   "metadata": {},
   "source": [
    "В принципе, данных раньше ноября 2013 года очень мало по сравнению с последующими месяцами. Посмотрим, как распределены наблюдения для Элис по месяцам и годам. Как один из вариантов модно не использовать данные раньше ноября 2013, в виду их малого количества и временной удаленности от тестового набора"
   ]
  },
  {
   "cell_type": "code",
   "execution_count": 15,
   "metadata": {},
   "outputs": [
    {
     "data": {
      "image/png": "[encoded data removed]",
      "text/plain": [
       "<Figure size 1080x360 with 2 Axes>"
      ]
     },
     "metadata": {},
     "output_type": "display_data"
    }
   ],
   "source": [
    "plt.figure(figsize=(15,5))\n",
    "ax = plt.subplot(1,2,1)\n",
    "temp = pd.DatetimeIndex(train_df[train_df.target==1].time1).normalize()\n",
    "temp = temp[temp.year==2013].month\n",
    "(temp.value_counts().sort_index().reindex(range(1,13))/temp.shape[0]).plot(kind='bar')\n",
    "ax.set_title('Alice 2013 by months')\n",
    "\n",
    "ax = plt.subplot(1,2,2)\n",
    "temp = pd.DatetimeIndex(train_df[train_df.target==1].time1).normalize()\n",
    "temp = temp[temp.year==2014].month\n",
    "(temp.value_counts().sort_index().reindex(range(1,13))/temp.shape[0]).plot(kind='bar')\n",
    "ax.set_title('Alice 2014 by months');"
   ]
  },
  {
   "cell_type": "markdown",
   "metadata": {},
   "source": [
    "Итак, наша статистика по Элис имеет небольшое колчество данных оторванных во времени - февраль и апрель 2013, потом следует длительный перерыв. За это время поведеление Элис в сети могло измениться и так как мы будем предсказывать поведение в будущем, то это может оказать важным фактором. Использует метрику косинусов и посмотрим какое количество наблюденией из разных временных промежутков (начало 2013 ода, коец 2013 и начало 2014) похоже на поведение Элис в целом"
   ]
  },
  {
   "cell_type": "code",
   "execution_count": 335,
   "metadata": {},
   "outputs": [],
   "source": [
    "features_site = [f for f in train_df.columns if 'site' in f]\n",
    "features_time = [f for f in train_df.columns if 'time' in f]\n",
    "for f in features_time:\n",
    "    train_df[f] = pd.to_datetime(train_df[f])\n",
    "    test_df[f] = pd.to_datetime(test_df[f])"
   ]
  },
  {
   "cell_type": "code",
   "execution_count": 323,
   "metadata": {},
   "outputs": [],
   "source": [
    "from scipy.sparse import csr_matrix\n",
    "\n",
    "def get_sparse(docs):\n",
    "    indptr = [0]\n",
    "    indices = []\n",
    "    data = []\n",
    "    vocabulary = {}\n",
    "    for d in docs:\n",
    "        for term in d:\n",
    "            index = vocabulary.setdefault(term, term)\n",
    "            indices.append(index)\n",
    "            data.append(1)\n",
    "\n",
    "        indptr.append(len(indices))\n",
    "    return csr_matrix((data, indices, indptr), dtype=int)[:,1:]\n",
    "\n",
    "\n",
    "from tqdm import tqdm\n",
    "from scipy.spatial.distance import cosine\n",
    "\n",
    "def get_cosine_sparse(alice_early, alice_sparse, compare_to_all=True):\n",
    "    res_early = []\n",
    "    for i in tqdm(range(alice_early.shape[0])):\n",
    "        row = alice_early.getrow(i).toarray()\n",
    "        if compare_to_all: temp = -1\n",
    "        else: temp = 0\n",
    "        for j in range(alice_sparse.shape[0]):\n",
    "            row2 = alice_sparse.getrow(j).toarray()\n",
    "            temp += cosine(row, row2) <= 0.15\n",
    "        res_early.append(temp)\n",
    "\n",
    "    return res_early"
   ]
  },
  {
   "cell_type": "code",
   "execution_count": 20,
   "metadata": {
    "scrolled": true
   },
   "outputs": [
    {
     "name": "stderr",
     "output_type": "stream",
     "text": [
      "100%|██████████| 99/99 [01:24<00:00,  1.17it/s]\n",
      "100%|██████████| 99/99 [01:22<00:00,  1.21it/s]\n",
      "100%|██████████| 99/99 [01:23<00:00,  1.18it/s]\n"
     ]
    }
   ],
   "source": [
    "np.random.seed(2020)\n",
    "\n",
    "# создадим отдельно наборы для каждого временного промежутка \n",
    "# будем использовать одинаковое количество наблюдений\n",
    "alice = train_df[(train_df.target==1)].reset_index(drop=True)\n",
    "alice_sparse = get_sparse(alice[features_site].fillna(0).values)\n",
    "\n",
    "alice_early_idx = (alice.time1<pd.Timestamp('2013-06-01')).values\n",
    "alice_early = alice_sparse[alice_early_idx]\n",
    "\n",
    "alice_medium_idx = ((alice.time1>pd.Timestamp('2013-11-01'))& \\\n",
    "                (alice.time1<pd.Timestamp('2013-12-30'))).values\n",
    "alice_medium = alice_sparse[alice_medium_idx]\n",
    "idx = np.random.choice(np.arange(alice_medium.shape[0]), alice_early.shape[0],\n",
    "                      replace=False)\n",
    "mask = np.zeros(alice_medium.shape[0],)\n",
    "mask[idx] = 1\n",
    "alice_medium  = alice_medium[mask.astype('bool')]\n",
    "\n",
    "alice_last_idx = (alice.time1>pd.Timestamp('2014-03-01')).values\n",
    "alice_last = alice_sparse[alice_last_idx]\n",
    "idx = np.random.choice(np.arange(alice_last.shape[0]), alice_early.shape[0],\n",
    "                      replace=False)\n",
    "mask = np.zeros(alice_last.shape[0],)\n",
    "mask[idx] = 1\n",
    "alice_last  = alice_last[mask.astype('bool')]\n",
    "\n",
    "# для каждого вектора посчитаем количество похожих на него векторов из общего набора Элис    \n",
    "res_early = get_cosine_sparse(alice_early, alice_sparse)\n",
    "res_medium = get_cosine_sparse(alice_medium, alice_sparse)\n",
    "res_last = get_cosine_sparse(alice_last, alice_sparse)"
   ]
  },
  {
   "cell_type": "code",
   "execution_count": 21,
   "metadata": {},
   "outputs": [
    {
     "data": {
      "image/png": "[encoded data removed]",
      "text/plain": [
       "<Figure size 1080x360 with 3 Axes>"
      ]
     },
     "metadata": {},
     "output_type": "display_data"
    }
   ],
   "source": [
    "plt.figure(figsize=(15,5))\n",
    "\n",
    "ax = plt.subplot(1,3,1)\n",
    "sns.distplot(res_early, bins=np.max(res_early), ax=ax)\n",
    "ax.set_title('Alice earlier')\n",
    "\n",
    "ax = plt.subplot(1,3,2)\n",
    "sns.distplot(res_medium, bins=np.max(res_medium), ax=ax)\n",
    "ax.set_title('Alice medium')\n",
    "\n",
    "ax = plt.subplot(1,3,3)\n",
    "sns.distplot(res_last, bins=np.max(res_last), ax=ax)\n",
    "ax.set_title('Alice last');\n"
   ]
  },
  {
   "cell_type": "markdown",
   "metadata": {},
   "source": [
    "Нет, визуального отличия раннего промежтка от последнего. Явно отличается тольцо мредний временной промежуток. Но мы сравниваем временные промежутки с общим поведением Элис. Что будет если сравнивать только с последним? Разобъем на большее количество промежутков и каждый из них будем сравнивать с последним"
   ]
  },
  {
   "cell_type": "code",
   "execution_count": 23,
   "metadata": {
    "scrolled": true
   },
   "outputs": [
    {
     "name": "stderr",
     "output_type": "stream",
     "text": [
      "  1%|          | 1/99 [00:00<00:12,  7.77it/s]"
     ]
    },
    {
     "name": "stdout",
     "output_type": "stream",
     "text": [
      "[Timestamp('2013-01-31 00:00:00', freq='2M'), Timestamp('2013-05-31 00:00:00', freq='2M'), Timestamp('2013-07-31 00:00:00', freq='2M'), Timestamp('2013-09-30 00:00:00', freq='2M'), Timestamp('2013-11-30 00:00:00', freq='2M'), Timestamp('2014-01-31 00:00:00', freq='2M'), Timestamp('2014-03-31 00:00:00', freq='2M'), Timestamp('2014-05-31 00:00:00', freq='2M')]\n"
     ]
    },
    {
     "name": "stderr",
     "output_type": "stream",
     "text": [
      "100%|██████████| 99/99 [00:12<00:00,  7.94it/s]\n",
      "100%|██████████| 200/200 [00:24<00:00,  8.24it/s]\n",
      "100%|██████████| 200/200 [00:23<00:00,  8.41it/s]\n",
      "100%|██████████| 200/200 [00:24<00:00,  8.16it/s]\n",
      "100%|██████████| 200/200 [00:23<00:00,  8.41it/s]\n",
      "100%|██████████| 200/200 [00:24<00:00,  8.23it/s]\n"
     ]
    }
   ],
   "source": [
    "bins = pd.DatetimeIndex(train_df.time1).normalize().value_counts()\\\n",
    "            .resample('2M').interpolate().index.tolist()\n",
    "bins.pop(1)\n",
    "print(bins)\n",
    "\n",
    "alice = train_df[(train_df.target==1)].reset_index(drop=True)\n",
    "alice_sparse = get_sparse(alice[features_site].fillna(0).values)\n",
    "\n",
    "categ = pd.cut(alice.time1, bins=bins)\n",
    "alice.loc[:, 'block'] = categ.cat.codes\n",
    "alice_last_idx = (alice.block == alice.block.max()).values\n",
    "alice_last = alice_sparse[alice_last_idx]\n",
    "\n",
    "\n",
    "np.random.seed(2020)\n",
    "res_all = []\n",
    "for i in zip(np.sort(alice.block.unique())):\n",
    "    alice_part_idx = (alice.block == i).values\n",
    "    alice_part = alice_sparse[alice_part_idx]\n",
    "    if alice_part.shape[0] > 200:\n",
    "        idx = np.random.choice(np.arange(alice_part.shape[0]), 200, replace=False)\n",
    "        mask = np.zeros(alice_part.shape[0],)\n",
    "        mask[idx] = 1\n",
    "        alice_part  = alice_part[mask.astype('bool')]\n",
    "\n",
    "    if i == alice.block.max(): compare_to_all=True\n",
    "    else: compare_to_all = False\n",
    "    temp = get_cosine_sparse(alice_part, alice_last, compare_to_all=compare_to_all)\n",
    "\n",
    "    res_all.append(temp)"
   ]
  },
  {
   "cell_type": "code",
   "execution_count": 24,
   "metadata": {},
   "outputs": [
    {
     "data": {
      "image/png": "[encoded data removed]",
      "text/plain": [
       "<Figure size 1080x720 with 6 Axes>"
      ]
     },
     "metadata": {},
     "output_type": "display_data"
    }
   ],
   "source": [
    "fig, axes = plt.subplots(2,3, figsize=(15,10))\n",
    "for i, ax, temp in zip(np.sort(alice.block.unique()), axes.ravel(), res_all):\n",
    "    sns.distplot(temp, bins=np.max(temp), norm_hist=True,ax=ax, kde=False)\n",
    "    ax.set_title(categ.cat.categories[i])"
   ]
  },
  {
   "cell_type": "markdown",
   "metadata": {},
   "source": [
    "Итак, самый первый временной промежуток имеет меньше всего сходство с последним временным промежутком. Максимальное число похожих векторв = 3. Для других промужтков эта величина колеблется от 8 до 12. Еще из распределение выбивается промежуток декабрь 2013 - январь 2014. Но в данном промежутке была сделана выбрка 200 наблюдений, возможно чась информации была опущена из-за выборки. \n",
    "\n",
    "Итоги:\n",
    " * попробовать не использовать данные раньше сентября 2013 года.\n",
    " * попробовать исключить временной промежуток декабрь2013 - январь2014 для Элис\n",
    " \n",
    " \n",
    " Вернемся к сравнению времени между трейн и тест"
   ]
  },
  {
   "cell_type": "code",
   "execution_count": 336,
   "metadata": {},
   "outputs": [
    {
     "name": "stdout",
     "output_type": "stream",
     "text": [
      "\tTrain\t\t\tTest\n",
      "min: 2013-01-12 08:05:57\t2014-05-01 17:14:03\n",
      "max: 2014-04-30 23:40:05\t2014-12-05 23:56:23\n"
     ]
    }
   ],
   "source": [
    "print('\\tTrain\\t\\t\\tTest')\n",
    "print(f'min: {train_df[features_time].min().min()}\\t{test_df[features_time].min().min()}')\n",
    "print(f'max: {train_df[features_time].max().max()}\\t{test_df[features_time].max().max()}')"
   ]
  },
  {
   "cell_type": "markdown",
   "metadata": {},
   "source": [
    "Тестовые данные взяты из будущего, относительно обучающей выборки. Т.е. мы не можем использовать в качестве признаков текущее время, месяц или год, так как для тестовой выборки эти признаки будут отличаться. Но мы можем использовать такие признаки как час, день недели или длительность сессии."
   ]
  },
  {
   "cell_type": "code",
   "execution_count": 337,
   "metadata": {},
   "outputs": [],
   "source": [
    "def create_time_features(data, test=False):\n",
    "    train_df = data.copy()\n",
    "    train_df['session_duration'] = (train_df[features_time].max(axis=1) - \\\n",
    "                                    train_df[features_time].min(axis=1)) \\\n",
    "                                    .astype('int')/10**9\n",
    "    train_df['first_time'] = train_df[features_time].min(axis=1)\n",
    "    train_df['start_hour'] = train_df['first_time'].dt.hour\n",
    "    train_df['day_of_week'] = train_df['first_time'].dt.dayofweek\n",
    "    \n",
    "    train_df['part_day'] = pd.cut(x=train_df.start_hour, bins=[0,5,11,18,24],\n",
    "                              include_lowest=True, labels=['night', 'morning', \n",
    "                                                           'day','evening'])\n",
    "    temp = pd.get_dummies(train_df.part_day, \n",
    "                          drop_first=False, prefix='part_day')\n",
    "    train_df = train_df.merge(temp, left_index=True, right_index=True)\n",
    "    \n",
    "    temp = pd.get_dummies(train_df.day_of_week, prefix='day_of_week')\n",
    "    train_df = train_df.merge(temp, left_index=True, right_index=True)\n",
    "    \n",
    "    timespan_df = train_df[features_time].diff(axis=1).astype('int')/10**9\n",
    "    timespan_df.drop('time1', axis=1, inplace=True) #первой разницы не существует\n",
    "    #если сессия короче 10 сайтов, \n",
    "    #то последнияя разница между временем и Nan = времени посещения последнего сайта\n",
    "    #занулим такие большие значения\n",
    "    timespan_df[timespan_df > 5*10**9] = 0\n",
    "    timespan_df.columns = ['timedelta'+str(i) for i in range(1,10)]\n",
    "    train_df = train_df.merge(timespan_df, left_index=True, right_index=True, how='left')\n",
    "    \n",
    "    timespan_df['sites_length'] = train_df[features_site].notna().sum(axis=1)\n",
    "    gr = timespan_df.groupby('sites_length')\n",
    "    to_add = gr.apply(lambda x, axis:  x.iloc[:, :(x.sites_length-1).iloc[0]]\\\n",
    "                               .mean(axis=1), axis=1)\n",
    "    to_add.index = to_add.index.droplevel(0)\n",
    "    to_add.name = 'timedelta_mean'\n",
    "    train_df = train_df.merge(to_add, left_index=True, right_index=True, how='left')\n",
    "    \n",
    "    to_add = gr.apply(lambda x, axis:  x.iloc[:, :(x.sites_length-1).iloc[0]]\\\n",
    "                               .std(axis=1), axis=1)\n",
    "    to_add.index = to_add.index.droplevel(0)\n",
    "    to_add.name = 'timedelta_std'\n",
    "    train_df = train_df.merge(to_add, left_index=True, right_index=True, how='left')\n",
    "    \n",
    "    return train_df.drop(['first_time'] + features_time[1:], axis=1)\n"
   ]
  },
  {
   "cell_type": "code",
   "execution_count": 338,
   "metadata": {},
   "outputs": [
    {
     "data": {
      "text/plain": [
       "Index(['site1', 'time1', 'site2', 'site3', 'site4', 'site5', 'site6', 'site7',\n",
       "       'site8', 'site9', 'site10', 'target', 'session_duration', 'start_hour',\n",
       "       'day_of_week', 'part_day', 'part_day_night', 'part_day_morning',\n",
       "       'part_day_day', 'part_day_evening', 'day_of_week_0', 'day_of_week_1',\n",
       "       'day_of_week_2', 'day_of_week_3', 'day_of_week_4', 'day_of_week_5',\n",
       "       'day_of_week_6', 'timedelta1', 'timedelta2', 'timedelta3', 'timedelta4',\n",
       "       'timedelta5', 'timedelta6', 'timedelta7', 'timedelta8', 'timedelta9',\n",
       "       'timedelta_mean', 'timedelta_std'],\n",
       "      dtype='object')"
      ]
     },
     "execution_count": 338,
     "metadata": {},
     "output_type": "execute_result"
    }
   ],
   "source": [
    "train_df = create_time_features(train_df)\n",
    "test_df = create_time_features(test_df)\n",
    "\n",
    "train_df.columns"
   ]
  },
  {
   "cell_type": "markdown",
   "metadata": {},
   "source": [
    "Итак, мы добивили следующие признаки, свзяанные со временем\n",
    "* час, соответсвующий началу сессии; + пробразование данного признака в категориальный (ночь, утра, день, вечер) + OhE\n",
    "* день недели + OhE\n",
    "* длительность сессии. Изначально, по условию формирования наборов уже указано, что длительность сессии не больше 30 минут, но можно дополнительно исследовать данный признак. Может быть у Элис длительность сессии всегда варьируется около 20 минут.\n",
    "* разница во времени между сайтами, от 1 до 9, в секундах; + среднее и ско\n",
    "\n",
    "## Признаки для сайтов\n",
    "Посмотрим, какие сайты чаще всего смотрит Элис и сколько частотных сайтов"
   ]
  },
  {
   "cell_type": "code",
   "execution_count": 327,
   "metadata": {},
   "outputs": [
    {
     "data": {
      "image/png": "[encoded data removed]",
      "text/plain": [
       "<Figure size 432x288 with 1 Axes>"
      ]
     },
     "metadata": {},
     "output_type": "display_data"
    }
   ],
   "source": [
    "alice_top = train_df[train_df.target==1]\n",
    "alice_top = alice_top[features_site].melt()['value'].value_counts()\n",
    "alice_top.plot(kind='hist', bins=1400,  xlim=(0,25))\n",
    "\n",
    "alice_top10 = alice_top.iloc[:10].index.tolist()"
   ]
  },
  {
   "cell_type": "code",
   "execution_count": 99,
   "metadata": {},
   "outputs": [
    {
     "name": "stdout",
     "output_type": "stream",
     "text": [
      "i1.ytimg.com\n",
      "s.youtube.com\n",
      "www.youtube.com\n",
      "www.facebook.com\n",
      "www.google.fr\n",
      "r4---sn-gxo5uxg-jqbe.googlevideo.com\n",
      "apis.google.com\n",
      "r1---sn-gxo5uxg-jqbe.googlevideo.com\n",
      "s.ytimg.com\n",
      "r2---sn-gxo5uxg-jqbe.googlevideo.com\n"
     ]
    }
   ],
   "source": [
    "site_dic = pickle.load(open(os.path.join(PATH_TO_DATA, 'site_dic.pkl'),'rb'))\n",
    "num_to_site = {v:k for k,v in site_dic.items()}\n",
    "for f in alice_top10:\n",
    "    print(num_to_site[f])"
   ]
  },
  {
   "cell_type": "code",
   "execution_count": 100,
   "metadata": {},
   "outputs": [
    {
     "name": "stdout",
     "output_type": "stream",
     "text": [
      "www.google.fr\n",
      "www.google.com\n",
      "annotathon.org\n",
      "apis.google.com\n",
      "www.facebook.com\n",
      "www.bing.com\n",
      "blast.ncbi.nlm.nih.gov\n",
      "www.ncbi.nlm.nih.gov\n",
      "clients1.google.com\n",
      "mail.google.com\n"
     ]
    }
   ],
   "source": [
    "common_top = train_df[train_df.target==0]\n",
    "common_top = common_top[features_site].melt()['value'].value_counts()\n",
    "\n",
    "common_top10 = common_top.iloc[:10].index.tolist()\n",
    "for f in common_top10:\n",
    "    print(num_to_site[f])"
   ]
  },
  {
   "cell_type": "markdown",
   "metadata": {},
   "source": [
    "Частотные сайты для Элис также являются общепопулярными - гугл, ютьюб и пр. Используем tf-idf метод для определения частостыx сайтов конкретно для Элис, исключая обще популярные"
   ]
  },
  {
   "cell_type": "code",
   "execution_count": 101,
   "metadata": {},
   "outputs": [
    {
     "data": {
      "text/plain": [
       "session_id\n",
       "1                 718.0 nan nan nan nan nan nan nan nan nan\n",
       "2         890.0 941.0 3847.0 941.0 942.0 3846.0 3847.0 3...\n",
       "3         14769.0 39.0 14768.0 14769.0 37.0 39.0 14768.0...\n",
       "4         782.0 782.0 782.0 782.0 782.0 782.0 782.0 782....\n",
       "5         22.0 177.0 175.0 178.0 177.0 178.0 175.0 177.0...\n",
       "                                ...                        \n",
       "253557    3474.0 3474.0 141.0 2428.0 106.0 2428.0 2428.0...\n",
       "253558    12727.0 12727.0 2215.0 38.0 2215.0 23.0 25444....\n",
       "253559    2661.0 15004.0 5562.0 5562.0 5562.0 nan nan na...\n",
       "253560    812.0 676.0 814.0 22.0 39.0 812.0 814.0 570.0 ...\n",
       "253561    34942.0 1429.0 34942.0 29.0 30.0 34942.0 5779....\n",
       "Length: 253561, dtype: object"
      ]
     },
     "execution_count": 101,
     "metadata": {},
     "output_type": "execute_result"
    }
   ],
   "source": [
    "data = train_df[features_site]\n",
    "data = data.apply(lambda x: ' '.join(map(str, x)), axis=1)\n",
    "data"
   ]
  },
  {
   "cell_type": "code",
   "execution_count": 102,
   "metadata": {},
   "outputs": [],
   "source": [
    "from sklearn.feature_extraction.text import TfidfVectorizer\n",
    "\n",
    "tf_idf = TfidfVectorizer(input='content')\n",
    "tf_idf.fit(data);\n",
    "\n",
    "alice = train_df[train_df.target==1][features_site]\n",
    "alice = alice.apply(lambda x: ' '.join(map(str, x)), axis=1)\n",
    "alice = tf_idf.transform(alice)"
   ]
  },
  {
   "cell_type": "code",
   "execution_count": 103,
   "metadata": {},
   "outputs": [],
   "source": [
    "import collections\n",
    "vocab = {v:k for k,v in tf_idf.vocabulary_.items()}\n",
    "vocab = collections.OrderedDict(sorted(vocab.items())) "
   ]
  },
  {
   "cell_type": "code",
   "execution_count": 104,
   "metadata": {},
   "outputs": [
    {
     "data": {
      "text/html": [
       "<div>\n",
       "<style scoped>\n",
       "    .dataframe tbody tr th:only-of-type {\n",
       "        vertical-align: middle;\n",
       "    }\n",
       "\n",
       "    .dataframe tbody tr th {\n",
       "        vertical-align: top;\n",
       "    }\n",
       "\n",
       "    .dataframe thead th {\n",
       "        text-align: right;\n",
       "    }\n",
       "</style>\n",
       "<table border=\"1\" class=\"dataframe\">\n",
       "  <thead>\n",
       "    <tr style=\"text-align: right;\">\n",
       "      <th></th>\n",
       "      <th>0</th>\n",
       "      <th>1</th>\n",
       "      <th>2</th>\n",
       "      <th>3</th>\n",
       "      <th>4</th>\n",
       "      <th>5</th>\n",
       "      <th>6</th>\n",
       "      <th>7</th>\n",
       "      <th>8</th>\n",
       "      <th>9</th>\n",
       "    </tr>\n",
       "  </thead>\n",
       "  <tbody>\n",
       "    <tr>\n",
       "      <th>0</th>\n",
       "      <td>22471</td>\n",
       "      <td>35</td>\n",
       "      <td>33</td>\n",
       "      <td>22</td>\n",
       "      <td>338</td>\n",
       "      <td>5392</td>\n",
       "      <td>5402</td>\n",
       "      <td>5396</td>\n",
       "      <td>5397</td>\n",
       "      <td>5395</td>\n",
       "    </tr>\n",
       "    <tr>\n",
       "      <th>1</th>\n",
       "      <td>22480</td>\n",
       "      <td>22481</td>\n",
       "      <td>22476</td>\n",
       "      <td>29</td>\n",
       "      <td>9785</td>\n",
       "      <td>9786</td>\n",
       "      <td>27338</td>\n",
       "      <td>9783</td>\n",
       "      <td>27339</td>\n",
       "      <td>10941</td>\n",
       "    </tr>\n",
       "    <tr>\n",
       "      <th>2</th>\n",
       "      <td>2248</td>\n",
       "      <td>22480</td>\n",
       "      <td>29</td>\n",
       "      <td>35</td>\n",
       "      <td>37</td>\n",
       "      <td>32</td>\n",
       "      <td>270</td>\n",
       "      <td>33</td>\n",
       "      <td>12623</td>\n",
       "      <td>704</td>\n",
       "    </tr>\n",
       "    <tr>\n",
       "      <th>3</th>\n",
       "      <td>22481</td>\n",
       "      <td>22482</td>\n",
       "      <td>22476</td>\n",
       "      <td>22436</td>\n",
       "      <td>21</td>\n",
       "      <td>677</td>\n",
       "      <td>23</td>\n",
       "      <td>22</td>\n",
       "      <td>39</td>\n",
       "      <td>678</td>\n",
       "    </tr>\n",
       "    <tr>\n",
       "      <th>4</th>\n",
       "      <td>22475</td>\n",
       "      <td>22476</td>\n",
       "      <td>22477</td>\n",
       "      <td>22478</td>\n",
       "      <td>22479</td>\n",
       "      <td>2248</td>\n",
       "      <td>22473</td>\n",
       "      <td>77</td>\n",
       "      <td>80</td>\n",
       "      <td>879</td>\n",
       "    </tr>\n",
       "    <tr>\n",
       "      <th>...</th>\n",
       "      <td>...</td>\n",
       "      <td>...</td>\n",
       "      <td>...</td>\n",
       "      <td>...</td>\n",
       "      <td>...</td>\n",
       "      <td>...</td>\n",
       "      <td>...</td>\n",
       "      <td>...</td>\n",
       "      <td>...</td>\n",
       "      <td>...</td>\n",
       "    </tr>\n",
       "    <tr>\n",
       "      <th>2292</th>\n",
       "      <td>22476</td>\n",
       "      <td>22477</td>\n",
       "      <td>22478</td>\n",
       "      <td>22479</td>\n",
       "      <td>2248</td>\n",
       "      <td>22480</td>\n",
       "      <td>22474</td>\n",
       "      <td>76</td>\n",
       "      <td>879</td>\n",
       "      <td>80</td>\n",
       "    </tr>\n",
       "    <tr>\n",
       "      <th>2293</th>\n",
       "      <td>22479</td>\n",
       "      <td>2248</td>\n",
       "      <td>30</td>\n",
       "      <td>33</td>\n",
       "      <td>37</td>\n",
       "      <td>29</td>\n",
       "      <td>143</td>\n",
       "      <td>2271</td>\n",
       "      <td>18876</td>\n",
       "      <td>17283</td>\n",
       "    </tr>\n",
       "    <tr>\n",
       "      <th>2294</th>\n",
       "      <td>22477</td>\n",
       "      <td>22478</td>\n",
       "      <td>22479</td>\n",
       "      <td>2248</td>\n",
       "      <td>22474</td>\n",
       "      <td>4696</td>\n",
       "      <td>4694</td>\n",
       "      <td>2409</td>\n",
       "      <td>2401</td>\n",
       "      <td>27332</td>\n",
       "    </tr>\n",
       "    <tr>\n",
       "      <th>2295</th>\n",
       "      <td>22476</td>\n",
       "      <td>22</td>\n",
       "      <td>80</td>\n",
       "      <td>77</td>\n",
       "      <td>617</td>\n",
       "      <td>879</td>\n",
       "      <td>82</td>\n",
       "      <td>1307</td>\n",
       "      <td>1440</td>\n",
       "      <td>76</td>\n",
       "    </tr>\n",
       "    <tr>\n",
       "      <th>2296</th>\n",
       "      <td>22475</td>\n",
       "      <td>22476</td>\n",
       "      <td>22477</td>\n",
       "      <td>22478</td>\n",
       "      <td>22479</td>\n",
       "      <td>2248</td>\n",
       "      <td>22473</td>\n",
       "      <td>77</td>\n",
       "      <td>80</td>\n",
       "      <td>879</td>\n",
       "    </tr>\n",
       "  </tbody>\n",
       "</table>\n",
       "<p>2297 rows × 10 columns</p>\n",
       "</div>"
      ],
      "text/plain": [
       "          0      1      2      3      4      5      6     7      8      9\n",
       "0     22471     35     33     22    338   5392   5402  5396   5397   5395\n",
       "1     22480  22481  22476     29   9785   9786  27338  9783  27339  10941\n",
       "2      2248  22480     29     35     37     32    270    33  12623    704\n",
       "3     22481  22482  22476  22436     21    677     23    22     39    678\n",
       "4     22475  22476  22477  22478  22479   2248  22473    77     80    879\n",
       "...     ...    ...    ...    ...    ...    ...    ...   ...    ...    ...\n",
       "2292  22476  22477  22478  22479   2248  22480  22474    76    879     80\n",
       "2293  22479   2248     30     33     37     29    143  2271  18876  17283\n",
       "2294  22477  22478  22479   2248  22474   4696   4694  2409   2401  27332\n",
       "2295  22476     22     80     77    617    879     82  1307   1440     76\n",
       "2296  22475  22476  22477  22478  22479   2248  22473    77     80    879\n",
       "\n",
       "[2297 rows x 10 columns]"
      ]
     },
     "execution_count": 104,
     "metadata": {},
     "output_type": "execute_result"
    }
   ],
   "source": [
    "alice = pd.DataFrame(alice.toarray(), columns=vocab.values())\n",
    "alice = alice.apply(lambda x: x.sort_values()[-10:].index.tolist(),\n",
    "            axis=1, result_type='expand')\n",
    "alice"
   ]
  },
  {
   "cell_type": "markdown",
   "metadata": {},
   "source": [
    "В последнем датафрейме, данные для каждого наблюдения отсортированы по возрастанию веса tf-idf и указаны соответсвующие индексы сайтов.\n",
    "\n",
    "Нас интересуют сайты с наибольшими весами. Такие сайты будут частотными конктретно для Элис, но при это не частотными для всего обучаюшего набора, т.е. исключим сайты типа гугл, которыми пользуется любой другой пользователь. \n",
    "\n",
    "Создадим несколько наборов популярных сайтов для Элис - учитывать 3, 2 или 1 сайт с наибольшими весами. Для каждого набора будем брать только 15 наиболее частотных сайтов. Создадим 3 признака, соответсвующих, сколько сайтов из частотных для Элис присутсвуют в сессии "
   ]
  },
  {
   "cell_type": "code",
   "execution_count": 105,
   "metadata": {},
   "outputs": [],
   "source": [
    "# частотные наборы\n",
    "tf_idf_lst_3 = alice.iloc[:,-3:].melt().value.value_counts().sort_values().index[-15:]\n",
    "tf_idf_lst_2 = alice.iloc[:,-2:].melt().value.value_counts().sort_values().index[-15:]\n",
    "tf_idf_lst_1 = alice.iloc[:,-2].value_counts().sort_values().index[-15:]"
   ]
  },
  {
   "cell_type": "code",
   "execution_count": 106,
   "metadata": {
    "scrolled": true
   },
   "outputs": [
    {
     "name": "stdout",
     "output_type": "stream",
     "text": [
      "emmabuntus.sourceforge.net\n",
      "banque-ssl.feerik.com\n",
      "t45ol.com\n",
      "loriensasylum.tumblr.com\n",
      "www.webmonkey.com\n",
      "iufm-web.ujf-grenoble.fr\n",
      "logistiquecosmetique.wordpress.com\n",
      "www.centreculturelbrive.org\n",
      "www.pinknews.co.uk\n",
      "cid-97d7198274048e15.users.storage.live.com\n",
      "dietrichschroff.blogspot.fr\n",
      "lovettapunk.blogspot.com\n",
      "appcenter.mail.126.com\n",
      "www.massey.ac.nz\n",
      "i713.photobucket.com\n"
     ]
    }
   ],
   "source": [
    "# убедимся, что в частостнх сайтах для Элис нет обще-популярных сайтов\n",
    "for f in tf_idf_lst_1:\n",
    "    site = tf_idf.vocabulary_[f]\n",
    "    print(num_to_site[site])"
   ]
  },
  {
   "cell_type": "code",
   "execution_count": 339,
   "metadata": {},
   "outputs": [],
   "source": [
    "def create_site_features(data):\n",
    "    train_df = data.copy()\n",
    "    \n",
    "    train_df['nunique_sites'] = train_df[features_site].nunique(axis=1)\n",
    "    train_df['sites_length'] = train_df[features_site].notna().sum(axis=1)\n",
    "    train_df['nunique_sites_pre_session'] = train_df.nunique_sites/train_df.sites_length    \n",
    "    \n",
    "    train_df['n_alice_top'] = train_df[features_site].isin(alice_top10).sum(axis=1)\n",
    "    train_df['n_tfidf_lst3'] = train_df[features_site].isin(tf_idf_lst_3).sum(axis=1)\n",
    "    train_df['n_tfidf_lst2'] = train_df[features_site].isin(tf_idf_lst_2).sum(axis=1)\n",
    "    train_df['n_tfidf_lst1'] = train_df[features_site].isin(tf_idf_lst_1).sum(axis=1)\n",
    "    \n",
    "    return train_df"
   ]
  },
  {
   "cell_type": "code",
   "execution_count": 340,
   "metadata": {},
   "outputs": [
    {
     "data": {
      "text/plain": [
       "Index(['site1', 'time1', 'site2', 'site3', 'site4', 'site5', 'site6', 'site7',\n",
       "       'site8', 'site9', 'site10', 'target', 'session_duration', 'start_hour',\n",
       "       'day_of_week', 'part_day', 'part_day_night', 'part_day_morning',\n",
       "       'part_day_day', 'part_day_evening', 'day_of_week_0', 'day_of_week_1',\n",
       "       'day_of_week_2', 'day_of_week_3', 'day_of_week_4', 'day_of_week_5',\n",
       "       'day_of_week_6', 'timedelta1', 'timedelta2', 'timedelta3', 'timedelta4',\n",
       "       'timedelta5', 'timedelta6', 'timedelta7', 'timedelta8', 'timedelta9',\n",
       "       'timedelta_mean', 'timedelta_std', 'nunique_sites', 'sites_length',\n",
       "       'nunique_sites_pre_session', 'n_alice_top', 'n_tfidf_lst3',\n",
       "       'n_tfidf_lst2', 'n_tfidf_lst1'],\n",
       "      dtype='object')"
      ]
     },
     "execution_count": 340,
     "metadata": {},
     "output_type": "execute_result"
    }
   ],
   "source": [
    "train_df = create_site_features(train_df)\n",
    "test_df = create_site_features(test_df)\n",
    "\n",
    "train_df.columns"
   ]
  },
  {
   "cell_type": "code",
   "execution_count": 341,
   "metadata": {},
   "outputs": [],
   "source": [
    "train_df_ini = train_df.copy()\n",
    "test_df_ini = test_df.copy()"
   ]
  },
  {
   "cell_type": "markdown",
   "metadata": {},
   "source": [
    "В этой части мы добавили признаки:\n",
    "* длина сессии - количестов сайтов в сессии (максимальное значение 10, но, если временной промежуток между сайтами больше 30 минут, то количество может быть меньше)\n",
    "* количество уникальных сайтов и их доля по отношению к длине сессии\n",
    "* количество сайтов из общего топа Элис\n",
    "* количество сайтов из частотного набора tfidf для Элис (3 набора)\n",
    "\n",
    "## Визуализация признаков\n",
    "Для исследования и визуализации не буем использовать признаки последовательности - site[1-10] and timedelta[1-9]. Признаки для сайтов в дальнейшем будут преобразованы в Мешок слов, а признаки для временных промежутков нормированы.\n",
    "\n",
    "Посмотрим, как изменяются другие признаки"
   ]
  },
  {
   "cell_type": "code",
   "execution_count": 126,
   "metadata": {},
   "outputs": [
    {
     "data": {
      "text/plain": [
       "Index(['target', 'session_duration', 'start_hour', 'day_of_week', 'part_day',\n",
       "       'part_day_night', 'part_day_morning', 'part_day_day',\n",
       "       'part_day_evening', 'day_of_week_0', 'day_of_week_1', 'day_of_week_2',\n",
       "       'day_of_week_3', 'day_of_week_4', 'day_of_week_5', 'day_of_week_6',\n",
       "       'timedelta_mean', 'timedelta_std', 'sites_length', 'n_alice_top',\n",
       "       'n_tfidf_lst3', 'n_tfidf_lst2', 'n_tfidf_lst1', 'n_tfidf_lst2>5',\n",
       "       'n_tfidf_lst3>5', 'n_tfidf_lst1>5', 'n_alice_top>5', 'nunique_sites',\n",
       "       'nunique_sites_pre_session'],\n",
       "      dtype='object')"
      ]
     },
     "execution_count": 126,
     "metadata": {},
     "output_type": "execute_result"
    }
   ],
   "source": [
    "features_timedelta = ['timedelta'+str(i) for i in range(1,10)]\n",
    "train = train_df.drop(features_site + features_timedelta + ['time1'], axis=1)\n",
    "train.columns"
   ]
  },
  {
   "cell_type": "code",
   "execution_count": 130,
   "metadata": {},
   "outputs": [
    {
     "data": {
      "text/plain": [
       "part_day_night                   1\n",
       "target                           2\n",
       "n_alice_top>5                    2\n",
       "n_tfidf_lst1>5                   2\n",
       "n_tfidf_lst3>5                   2\n",
       "n_tfidf_lst2>5                   2\n",
       "day_of_week_6                    2\n",
       "day_of_week_4                    2\n",
       "day_of_week_3                    2\n",
       "day_of_week_2                    2\n",
       "day_of_week_5                    2\n",
       "day_of_week_0                    2\n",
       "part_day_evening                 2\n",
       "part_day_day                     2\n",
       "part_day_morning                 2\n",
       "day_of_week_1                    2\n",
       "part_day                         3\n",
       "day_of_week                      7\n",
       "nunique_sites                   10\n",
       "sites_length                    10\n",
       "n_tfidf_lst1                    11\n",
       "n_alice_top                     11\n",
       "n_tfidf_lst3                    11\n",
       "n_tfidf_lst2                    11\n",
       "start_hour                      17\n",
       "nunique_sites_pre_session       32\n",
       "session_duration              1801\n",
       "timedelta_mean                5937\n",
       "timedelta_std                64122\n",
       "dtype: int64"
      ]
     },
     "execution_count": 130,
     "metadata": {},
     "output_type": "execute_result"
    }
   ],
   "source": [
    "train.nunique().sort_values()"
   ]
  },
  {
   "cell_type": "markdown",
   "metadata": {},
   "source": [
    "Итак, для времени суток ночь у всех наблюдений одинаковое значение. Можно удалить этот признак, но предварительно проверим, что тестовая выборка для этого признака тоже имеет только одно значение"
   ]
  },
  {
   "cell_type": "code",
   "execution_count": 128,
   "metadata": {},
   "outputs": [
    {
     "data": {
      "text/plain": [
       "1"
      ]
     },
     "execution_count": 128,
     "metadata": {},
     "output_type": "execute_result"
    }
   ],
   "source": [
    "test_df['part_day_night'].nunique()"
   ]
  },
  {
   "cell_type": "markdown",
   "metadata": {},
   "source": [
    "Разделим признаки на категориальные и численные и исследуем их."
   ]
  },
  {
   "cell_type": "code",
   "execution_count": 131,
   "metadata": {},
   "outputs": [],
   "source": [
    "CARDINALITY = 7\n",
    "temp = train.nunique().sort_values()\n",
    "features_bin = temp[temp == 2].index.tolist()\n",
    "features_cat = temp[(temp <= CARDINALITY)&(temp>2)].index.tolist()\n",
    "features_num = temp[temp > CARDINALITY].index.tolist()"
   ]
  },
  {
   "cell_type": "code",
   "execution_count": 132,
   "metadata": {},
   "outputs": [],
   "source": [
    "train[['timedelta_mean', 'timedelta_std']] = train[['timedelta_mean', 'timedelta_std']].fillna(0)"
   ]
  },
  {
   "cell_type": "code",
   "execution_count": 133,
   "metadata": {},
   "outputs": [],
   "source": [
    "def plot_hist(train, features_num, nrows, ncols, bins=None):\n",
    "    fig, axes = plt.subplots(nrows=nrows, ncols=ncols, \n",
    "                             figsize=(15, 4*nrows))\n",
    "    for f, ax in zip(features_num, axes.ravel()):\n",
    "        sns.distplot(train[train.target==1][f], ax=ax,\n",
    "                     kde=False, norm_hist=True,bins=bins)\n",
    "        sns.distplot(train[train.target==0][f], ax=ax,\n",
    "                     kde=False, norm_hist=True, bins=bins)\n",
    "    \n",
    "    fig.legend(('Alice', 'not Alice'), loc=7);\n",
    "    return fig;"
   ]
  },
  {
   "cell_type": "code",
   "execution_count": 134,
   "metadata": {},
   "outputs": [
    {
     "data": {
      "image/png": "[encoded data removed]",
      "text/plain": [
       "<Figure size 1080x864 with 12 Axes>"
      ]
     },
     "metadata": {},
     "output_type": "display_data"
    }
   ],
   "source": [
    "plot_hist(train, features_num, 3, 4);"
   ]
  },
  {
   "cell_type": "markdown",
   "metadata": {},
   "source": [
    "Есть явные различия в распределении признака \"час начала\", но мы уже создали дополнительные категориальные признаки.\n",
    "* количество сайтов из частотоного топа Эдис - посмотрим ближе.\n",
    "* Численные признаки длительность сессии, среднее и ско для временых промежутков требуют либо нормализации данных либо преобразования. Попробуем лог преобразование"
   ]
  },
  {
   "cell_type": "code",
   "execution_count": 135,
   "metadata": {},
   "outputs": [
    {
     "data": {
      "image/png": "[encoded data removed]",
      "text/plain": [
       "<Figure size 1080x288 with 4 Axes>"
      ]
     },
     "execution_count": 135,
     "metadata": {},
     "output_type": "execute_result"
    }
   ],
   "source": [
    "fs = [f for f  in features_num if 'tf' in f] + ['n_alice_top']\n",
    "plot_hist(train_df, fs, 1, 4, bins=10)"
   ]
  },
  {
   "cell_type": "markdown",
   "metadata": {},
   "source": [
    "Удобно будет разделить признак на <>5. Если количестов сайтов из топа меньше 5, то не видно существенной разницы мужде пользователями. Но вот больше 5 явно соответсвует преимущественно Элис"
   ]
  },
  {
   "cell_type": "code",
   "execution_count": 136,
   "metadata": {},
   "outputs": [],
   "source": [
    "import scipy.stats as ss\n",
    "from sklearn.metrics import matthews_corrcoef\n",
    "\n",
    "def corr_bin_total(features_bin, feature_label, train): \n",
    "    results = []\n",
    "    for f in features_bin:\n",
    "        to_add = {'feature': f}\n",
    "        to_add['corr'] =  matthews_corrcoef(train[f], train.target)\n",
    "        stats = to_add['corr']**2* train.shape[0]\n",
    "        to_add['p'] = 2 *(1 - ss.chi2.cdf(stats, df=1))\n",
    "        to_add['corr=0'] = to_add['p'] >= 0.05\n",
    "        results.append(to_add)\n",
    "    return pd.DataFrame(results).sort_values('corr')"
   ]
  },
  {
   "cell_type": "code",
   "execution_count": 382,
   "metadata": {},
   "outputs": [
    {
     "data": {
      "text/html": [
       "<div>\n",
       "<style scoped>\n",
       "    .dataframe tbody tr th:only-of-type {\n",
       "        vertical-align: middle;\n",
       "    }\n",
       "\n",
       "    .dataframe tbody tr th {\n",
       "        vertical-align: top;\n",
       "    }\n",
       "\n",
       "    .dataframe thead th {\n",
       "        text-align: right;\n",
       "    }\n",
       "</style>\n",
       "<table border=\"1\" class=\"dataframe\">\n",
       "  <thead>\n",
       "    <tr style=\"text-align: right;\">\n",
       "      <th></th>\n",
       "      <th>feature</th>\n",
       "      <th>corr</th>\n",
       "      <th>p</th>\n",
       "      <th>corr=0</th>\n",
       "    </tr>\n",
       "  </thead>\n",
       "  <tbody>\n",
       "    <tr>\n",
       "      <th>3</th>\n",
       "      <td>n_alice_top&gt;5</td>\n",
       "      <td>0.101849</td>\n",
       "      <td>0.0</td>\n",
       "      <td>False</td>\n",
       "    </tr>\n",
       "    <tr>\n",
       "      <th>0</th>\n",
       "      <td>n_tfidf_lst1&gt;5</td>\n",
       "      <td>0.122258</td>\n",
       "      <td>0.0</td>\n",
       "      <td>False</td>\n",
       "    </tr>\n",
       "    <tr>\n",
       "      <th>1</th>\n",
       "      <td>n_tfidf_lst3&gt;5</td>\n",
       "      <td>0.129134</td>\n",
       "      <td>0.0</td>\n",
       "      <td>False</td>\n",
       "    </tr>\n",
       "    <tr>\n",
       "      <th>2</th>\n",
       "      <td>n_tfidf_lst2&gt;5</td>\n",
       "      <td>0.134548</td>\n",
       "      <td>0.0</td>\n",
       "      <td>False</td>\n",
       "    </tr>\n",
       "  </tbody>\n",
       "</table>\n",
       "</div>"
      ],
      "text/plain": [
       "          feature      corr    p  corr=0\n",
       "3   n_alice_top>5  0.101849  0.0   False\n",
       "0  n_tfidf_lst1>5  0.122258  0.0   False\n",
       "1  n_tfidf_lst3>5  0.129134  0.0   False\n",
       "2  n_tfidf_lst2>5  0.134548  0.0   False"
      ]
     },
     "execution_count": 382,
     "metadata": {},
     "output_type": "execute_result"
    }
   ],
   "source": [
    "for f in fs:\n",
    "    train_df[f+'>5'] = np.where(train_df[f]>=5, 1, 0)\n",
    "    test_df[f+'>5'] = np.where(test_df[f]>=5, 1, 0)\n",
    "    \n",
    "features_tfidf_cat = [f+'>5' for f in fs]\n",
    "corr_bin_total(features_tfidf_cat, 'target', train_df)"
   ]
  },
  {
   "cell_type": "markdown",
   "metadata": {},
   "source": [
    "Новые категориальные признаки значимы"
   ]
  },
  {
   "cell_type": "code",
   "execution_count": 138,
   "metadata": {},
   "outputs": [],
   "source": [
    "features = ['session_duration', 'timedelta_mean', 'timedelta_std']\n",
    "train_log = train.copy()\n",
    "for f in features:\n",
    "    train_log[f] = np.log1p(train_log[f])"
   ]
  },
  {
   "cell_type": "code",
   "execution_count": 140,
   "metadata": {},
   "outputs": [
    {
     "data": {
      "image/png": "[encoded data removed]",
      "text/plain": [
       "<Figure size 1080x288 with 3 Axes>"
      ]
     },
     "metadata": {},
     "output_type": "display_data"
    }
   ],
   "source": [
    "plot_hist(train_log, features, nrows=1, ncols=3);"
   ]
  },
  {
   "cell_type": "markdown",
   "metadata": {},
   "source": [
    "После трансформации, видно, что для Элис более характерна небольшая продолжительность сессии, так же как и меньшее значение среднего и ско для временных промежутков. Данные признаки для других пользователей имеют более тяжелый правый хвост\n",
    "\n",
    "Так же отдельно посмотрим на признак - количество сайтов"
   ]
  },
  {
   "cell_type": "code",
   "execution_count": 141,
   "metadata": {
    "cell_style": "center"
   },
   "outputs": [
    {
     "data": {
      "text/html": [
       "<div>\n",
       "<style scoped>\n",
       "    .dataframe tbody tr th:only-of-type {\n",
       "        vertical-align: middle;\n",
       "    }\n",
       "\n",
       "    .dataframe tbody tr th {\n",
       "        vertical-align: top;\n",
       "    }\n",
       "\n",
       "    .dataframe thead th {\n",
       "        text-align: right;\n",
       "    }\n",
       "</style>\n",
       "<table border=\"1\" class=\"dataframe\">\n",
       "  <thead>\n",
       "    <tr style=\"text-align: right;\">\n",
       "      <th></th>\n",
       "      <th>alice</th>\n",
       "      <th>not_alice</th>\n",
       "    </tr>\n",
       "  </thead>\n",
       "  <tbody>\n",
       "    <tr>\n",
       "      <th>1</th>\n",
       "      <td>0.130605</td>\n",
       "      <td>1.377038</td>\n",
       "    </tr>\n",
       "    <tr>\n",
       "      <th>2</th>\n",
       "      <td>0.304745</td>\n",
       "      <td>1.262417</td>\n",
       "    </tr>\n",
       "    <tr>\n",
       "      <th>3</th>\n",
       "      <td>0.043535</td>\n",
       "      <td>1.033574</td>\n",
       "    </tr>\n",
       "    <tr>\n",
       "      <th>4</th>\n",
       "      <td>0.261210</td>\n",
       "      <td>0.989398</td>\n",
       "    </tr>\n",
       "    <tr>\n",
       "      <th>5</th>\n",
       "      <td>0.304745</td>\n",
       "      <td>0.926118</td>\n",
       "    </tr>\n",
       "    <tr>\n",
       "      <th>6</th>\n",
       "      <td>0.174140</td>\n",
       "      <td>0.873185</td>\n",
       "    </tr>\n",
       "    <tr>\n",
       "      <th>7</th>\n",
       "      <td>0.261210</td>\n",
       "      <td>0.822641</td>\n",
       "    </tr>\n",
       "    <tr>\n",
       "      <th>8</th>\n",
       "      <td>0.043535</td>\n",
       "      <td>0.851296</td>\n",
       "    </tr>\n",
       "    <tr>\n",
       "      <th>9</th>\n",
       "      <td>0.174140</td>\n",
       "      <td>0.807119</td>\n",
       "    </tr>\n",
       "    <tr>\n",
       "      <th>10</th>\n",
       "      <td>98.302133</td>\n",
       "      <td>91.057215</td>\n",
       "    </tr>\n",
       "  </tbody>\n",
       "</table>\n",
       "</div>"
      ],
      "text/plain": [
       "        alice  not_alice\n",
       "1    0.130605   1.377038\n",
       "2    0.304745   1.262417\n",
       "3    0.043535   1.033574\n",
       "4    0.261210   0.989398\n",
       "5    0.304745   0.926118\n",
       "6    0.174140   0.873185\n",
       "7    0.261210   0.822641\n",
       "8    0.043535   0.851296\n",
       "9    0.174140   0.807119\n",
       "10  98.302133  91.057215"
      ]
     },
     "execution_count": 141,
     "metadata": {},
     "output_type": "execute_result"
    }
   ],
   "source": [
    "sites_length = pd.concat([train[train.target==1].sites_length.value_counts()/(train.target==1).sum()*100, \\\n",
    "train[train.target==0].sites_length.value_counts()/(train.target==0).sum()*100], axis=1)\n",
    "sites_length.columns = ['alice','not_alice']\n",
    "sites_length"
   ]
  },
  {
   "cell_type": "markdown",
   "metadata": {},
   "source": [
    "Видно, что для Элис характерны сессии с максимальным количество сайтов. Количество сессии с меньшим количество сайтов  менее 2%. Для других пользователей, данная величина близка в 10%"
   ]
  },
  {
   "cell_type": "code",
   "execution_count": 143,
   "metadata": {},
   "outputs": [],
   "source": [
    "def corr_cramer(f1, f2, df, print_violation=True):\n",
    "    k1, k2 = df[f1].nunique(), df[f2].nunique()\n",
    "    stats, p, degree_f, expected = ss.chi2_contingency(pd.crosstab(df[f1], df[f2]),correction=True)\n",
    "    less_5 = (expected <= 5).sum()/expected.size\n",
    "    \n",
    "    if (df.shape[0] < 40 or less_5 > 0.2) and print_violation: \n",
    "        print(f1, f2 , '\\t:\\tn < 40 or less_5 < 20%')\n",
    "                \n",
    "    return np.sqrt(stats/(df.shape[0]*(np.min([k1,k2])-1))), \\\n",
    "                stats, 2*(1-ss.chi2.cdf(stats, degree_f)), degree_f\n",
    "\n",
    "\n",
    "def corr_categorical_total(features_cat, feature_label, df, print_violation=True,\n",
    "                           plot=False, names=None):\n",
    "    '''\n",
    "    features_cat - list of categorical features names, not include categorical label\n",
    "    feature_label - str, name of categorical label\n",
    "    df - pd.DataFrame with all features\n",
    "    print_violation - bool; print or not if violationing of restrictions of chi2-test\n",
    "    plot - bool; show or not box plots for each feature\n",
    "    names - list of str, names of features; one can use if feature names are long;\n",
    "    if None - use ini feature names\n",
    "    \n",
    "    '''\n",
    "    \n",
    "    cramer_coeffs = {f: corr_cramer(feature_label, f, df, print_violation) for f in features_cat}\n",
    "    cramer_coeffs = pd.DataFrame(cramer_coeffs).T\n",
    "    cramer_coeffs.columns = ['cramer', 'stats', 'p', 'df']\n",
    "    cramer_coeffs['coef=0'] = cramer_coeffs['p'] >= 0.05\n",
    "    \n",
    "    return cramer_coeffs.sort_values('p').sort_values('cramer')\n",
    "\n"
   ]
  },
  {
   "cell_type": "code",
   "execution_count": 144,
   "metadata": {},
   "outputs": [
    {
     "data": {
      "text/html": [
       "<div>\n",
       "<style scoped>\n",
       "    .dataframe tbody tr th:only-of-type {\n",
       "        vertical-align: middle;\n",
       "    }\n",
       "\n",
       "    .dataframe tbody tr th {\n",
       "        vertical-align: top;\n",
       "    }\n",
       "\n",
       "    .dataframe thead th {\n",
       "        text-align: right;\n",
       "    }\n",
       "</style>\n",
       "<table border=\"1\" class=\"dataframe\">\n",
       "  <thead>\n",
       "    <tr style=\"text-align: right;\">\n",
       "      <th></th>\n",
       "      <th>cramer</th>\n",
       "      <th>stats</th>\n",
       "      <th>p</th>\n",
       "      <th>df</th>\n",
       "      <th>coef=0</th>\n",
       "    </tr>\n",
       "  </thead>\n",
       "  <tbody>\n",
       "    <tr>\n",
       "      <th>day_of_week</th>\n",
       "      <td>0.072156</td>\n",
       "      <td>1320.178822</td>\n",
       "      <td>0.0</td>\n",
       "      <td>6.0</td>\n",
       "      <td>False</td>\n",
       "    </tr>\n",
       "    <tr>\n",
       "      <th>part_day</th>\n",
       "      <td>0.094025</td>\n",
       "      <td>2241.636957</td>\n",
       "      <td>0.0</td>\n",
       "      <td>2.0</td>\n",
       "      <td>False</td>\n",
       "    </tr>\n",
       "  </tbody>\n",
       "</table>\n",
       "</div>"
      ],
      "text/plain": [
       "               cramer        stats    p   df  coef=0\n",
       "day_of_week  0.072156  1320.178822  0.0  6.0   False\n",
       "part_day     0.094025  2241.636957  0.0  2.0   False"
      ]
     },
     "execution_count": 144,
     "metadata": {},
     "output_type": "execute_result"
    }
   ],
   "source": [
    "corr_categorical_total(features_cat, 'target', train)"
   ]
  },
  {
   "cell_type": "markdown",
   "metadata": {},
   "source": [
    "Категориальные признаки статистически значимы"
   ]
  },
  {
   "cell_type": "code",
   "execution_count": 145,
   "metadata": {},
   "outputs": [
    {
     "data": {
      "text/html": [
       "<div>\n",
       "<style scoped>\n",
       "    .dataframe tbody tr th:only-of-type {\n",
       "        vertical-align: middle;\n",
       "    }\n",
       "\n",
       "    .dataframe tbody tr th {\n",
       "        vertical-align: top;\n",
       "    }\n",
       "\n",
       "    .dataframe thead th {\n",
       "        text-align: right;\n",
       "    }\n",
       "</style>\n",
       "<table border=\"1\" class=\"dataframe\">\n",
       "  <thead>\n",
       "    <tr style=\"text-align: right;\">\n",
       "      <th></th>\n",
       "      <th>feature</th>\n",
       "      <th>corr</th>\n",
       "      <th>p</th>\n",
       "      <th>corr=0</th>\n",
       "    </tr>\n",
       "  </thead>\n",
       "  <tbody>\n",
       "    <tr>\n",
       "      <th>13</th>\n",
       "      <td>part_day_morning</td>\n",
       "      <td>-0.088603</td>\n",
       "      <td>0.000000e+00</td>\n",
       "      <td>False</td>\n",
       "    </tr>\n",
       "    <tr>\n",
       "      <th>8</th>\n",
       "      <td>day_of_week_2</td>\n",
       "      <td>-0.047074</td>\n",
       "      <td>0.000000e+00</td>\n",
       "      <td>False</td>\n",
       "    </tr>\n",
       "    <tr>\n",
       "      <th>9</th>\n",
       "      <td>day_of_week_5</td>\n",
       "      <td>-0.017586</td>\n",
       "      <td>0.000000e+00</td>\n",
       "      <td>False</td>\n",
       "    </tr>\n",
       "    <tr>\n",
       "      <th>11</th>\n",
       "      <td>part_day_evening</td>\n",
       "      <td>-0.016405</td>\n",
       "      <td>2.220446e-16</td>\n",
       "      <td>False</td>\n",
       "    </tr>\n",
       "    <tr>\n",
       "      <th>5</th>\n",
       "      <td>day_of_week_6</td>\n",
       "      <td>-0.016251</td>\n",
       "      <td>4.440892e-16</td>\n",
       "      <td>False</td>\n",
       "    </tr>\n",
       "    <tr>\n",
       "      <th>6</th>\n",
       "      <td>day_of_week_4</td>\n",
       "      <td>-0.003013</td>\n",
       "      <td>2.584601e-01</td>\n",
       "      <td>True</td>\n",
       "    </tr>\n",
       "    <tr>\n",
       "      <th>14</th>\n",
       "      <td>day_of_week_1</td>\n",
       "      <td>0.007103</td>\n",
       "      <td>6.957155e-04</td>\n",
       "      <td>False</td>\n",
       "    </tr>\n",
       "    <tr>\n",
       "      <th>7</th>\n",
       "      <td>day_of_week_3</td>\n",
       "      <td>0.009558</td>\n",
       "      <td>2.974156e-06</td>\n",
       "      <td>False</td>\n",
       "    </tr>\n",
       "    <tr>\n",
       "      <th>10</th>\n",
       "      <td>day_of_week_0</td>\n",
       "      <td>0.057825</td>\n",
       "      <td>0.000000e+00</td>\n",
       "      <td>False</td>\n",
       "    </tr>\n",
       "    <tr>\n",
       "      <th>12</th>\n",
       "      <td>part_day_day</td>\n",
       "      <td>0.094023</td>\n",
       "      <td>0.000000e+00</td>\n",
       "      <td>False</td>\n",
       "    </tr>\n",
       "    <tr>\n",
       "      <th>1</th>\n",
       "      <td>n_alice_top&gt;5</td>\n",
       "      <td>0.101849</td>\n",
       "      <td>0.000000e+00</td>\n",
       "      <td>False</td>\n",
       "    </tr>\n",
       "    <tr>\n",
       "      <th>2</th>\n",
       "      <td>n_tfidf_lst1&gt;5</td>\n",
       "      <td>0.122258</td>\n",
       "      <td>0.000000e+00</td>\n",
       "      <td>False</td>\n",
       "    </tr>\n",
       "    <tr>\n",
       "      <th>3</th>\n",
       "      <td>n_tfidf_lst3&gt;5</td>\n",
       "      <td>0.129134</td>\n",
       "      <td>0.000000e+00</td>\n",
       "      <td>False</td>\n",
       "    </tr>\n",
       "    <tr>\n",
       "      <th>4</th>\n",
       "      <td>n_tfidf_lst2&gt;5</td>\n",
       "      <td>0.134548</td>\n",
       "      <td>0.000000e+00</td>\n",
       "      <td>False</td>\n",
       "    </tr>\n",
       "    <tr>\n",
       "      <th>0</th>\n",
       "      <td>target</td>\n",
       "      <td>1.000000</td>\n",
       "      <td>0.000000e+00</td>\n",
       "      <td>False</td>\n",
       "    </tr>\n",
       "  </tbody>\n",
       "</table>\n",
       "</div>"
      ],
      "text/plain": [
       "             feature      corr             p  corr=0\n",
       "13  part_day_morning -0.088603  0.000000e+00   False\n",
       "8      day_of_week_2 -0.047074  0.000000e+00   False\n",
       "9      day_of_week_5 -0.017586  0.000000e+00   False\n",
       "11  part_day_evening -0.016405  2.220446e-16   False\n",
       "5      day_of_week_6 -0.016251  4.440892e-16   False\n",
       "6      day_of_week_4 -0.003013  2.584601e-01    True\n",
       "14     day_of_week_1  0.007103  6.957155e-04   False\n",
       "7      day_of_week_3  0.009558  2.974156e-06   False\n",
       "10     day_of_week_0  0.057825  0.000000e+00   False\n",
       "12      part_day_day  0.094023  0.000000e+00   False\n",
       "1      n_alice_top>5  0.101849  0.000000e+00   False\n",
       "2     n_tfidf_lst1>5  0.122258  0.000000e+00   False\n",
       "3     n_tfidf_lst3>5  0.129134  0.000000e+00   False\n",
       "4     n_tfidf_lst2>5  0.134548  0.000000e+00   False\n",
       "0             target  1.000000  0.000000e+00   False"
      ]
     },
     "execution_count": 145,
     "metadata": {},
     "output_type": "execute_result"
    }
   ],
   "source": [
    "corr_bin_total(features_bin, 'target', train)"
   ]
  },
  {
   "cell_type": "markdown",
   "metadata": {},
   "source": [
    "Среди бинарных признаков только day_of_week_4 статистически не значим и можно удалить данный признак"
   ]
  },
  {
   "cell_type": "markdown",
   "metadata": {},
   "source": [
    "## Sparse data"
   ]
  },
  {
   "cell_type": "code",
   "execution_count": 342,
   "metadata": {},
   "outputs": [],
   "source": [
    "def get_sparse(docs):\n",
    "    indptr = [0]\n",
    "    indices = []\n",
    "    data = []\n",
    "    vocabulary = {}\n",
    "    for d in docs:\n",
    "        for term in d:\n",
    "#             if term == 0: continue\n",
    "            index = vocabulary.setdefault(term, term)\n",
    "            indices.append(index)\n",
    "            data.append(1)\n",
    "\n",
    "        indptr.append(len(indices))\n",
    "#     print(indices)\n",
    "    return csr_matrix((data, indices, indptr), dtype=int)[:,1:]"
   ]
  },
  {
   "cell_type": "markdown",
   "metadata": {},
   "source": [
    "Перед созданием разреженной матрицы, отсортируем набор по возрастанию времени"
   ]
  },
  {
   "cell_type": "code",
   "execution_count": 343,
   "metadata": {},
   "outputs": [],
   "source": [
    "train_df.sort_values('time1', inplace=True)"
   ]
  },
  {
   "cell_type": "code",
   "execution_count": 344,
   "metadata": {},
   "outputs": [],
   "source": [
    "train_test_df = pd.concat([train_df[features_site], test_df[features_site]])\n",
    "train_test_df.fillna(0, inplace=True)\n",
    "train_test_sparse = get_sparse(train_test_df.values)\n",
    "X_sparse = train_test_sparse[:train_df.shape[0]]\n",
    "X_test_sparse = train_test_sparse[train_df.shape[0]:]\n",
    "y = train_df.target"
   ]
  },
  {
   "cell_type": "markdown",
   "metadata": {},
   "source": [
    "# Train models\n",
    "Итак, у нас есть набор данных, который схематично можно представить как:\n",
    "* разреженная матрица с мешком сайтов\n",
    "* последовательность из временных промежутков\n",
    "* численные, категориальные и бинарные признаки\n",
    "\n",
    "Построим baseline model, основывающуюся только на мешке сайтов\n",
    "\n",
    "Будем использовать кроссвалидацию на 10 фолдах. Т.е. тест отличается от трен по времени (тест, из будующего), то и кросс валидацию будем делать так же."
   ]
  },
  {
   "cell_type": "code",
   "execution_count": 351,
   "metadata": {},
   "outputs": [],
   "source": [
    "from sklearn.model_selection import TimeSeriesSplit, cross_val_score\n",
    "from sklearn.linear_model import SGDClassifier\n",
    "\n",
    "def write_to_submission_file(predicted_labels, out_file,\n",
    "                             target='target', index_label=\"session_id\"):\n",
    "    # turn predictions into data frame and save as csv file\n",
    "    predicted_df = pd.DataFrame(predicted_labels,\n",
    "                                index = np.arange(1, predicted_labels.shape[0] + 1),\n",
    "                                columns=[target])\n",
    "    predicted_df.to_csv(out_file, index_label=index_label)\n",
    "\n",
    "\n",
    "results = pd.DataFrame()\n",
    "\n",
    "def save_score(results, score, name):\n",
    "    to_add = {'cv'+str(i+1): sc for i, sc in enumerate(score)}\n",
    "    to_add['name'] = name\n",
    "    results = results.append(to_add, ignore_index=True)\n",
    "    return results"
   ]
  },
  {
   "cell_type": "code",
   "execution_count": 352,
   "metadata": {},
   "outputs": [
    {
     "name": "stdout",
     "output_type": "stream",
     "text": [
      "LogReg:\t 0.8539701976310065\n"
     ]
    }
   ],
   "source": [
    "cv = TimeSeriesSplit(n_splits=10)\n",
    "\n",
    "# baseline model based on BoW for sites\n",
    "model_log = SGDClassifier(loss='log', random_state=2020, n_jobs=-1)\n",
    "score = cross_val_score(model_log, X_sparse, y, cv=cv, scoring='roc_auc',\n",
    "                n_jobs=-1)\n",
    "results = save_score(results, score, 'ini')\n",
    "print('LogReg:\\t',score.mean())\n",
    "\n",
    "model_log.fit(X_sparse, y)\n",
    "pred_log = model_log.predict_proba(X_test_sparse)[:,1]\n",
    "write_to_submission_file(pred_log, 'baseline_log.csv')"
   ]
  },
  {
   "cell_type": "markdown",
   "metadata": {},
   "source": [
    "Public score **0.91664**"
   ]
  },
  {
   "cell_type": "markdown",
   "metadata": {},
   "source": [
    "Добавим наши признаки. Начнем с бинарных. Категориальные признаки - день недели и часть дня, не будем использовать. У нас есть их замена в OhE, для линейной регрессии лучше использовать в таком виде."
   ]
  },
  {
   "cell_type": "code",
   "execution_count": 347,
   "metadata": {},
   "outputs": [],
   "source": [
    "from scipy.sparse import hstack\n",
    "\n",
    "def get_all_features(features, train_df, test_df):\n",
    "    X_train_sparse_2 = hstack((X_sparse, train_df[features].values))\n",
    "    X_test_sparse_2 = hstack((X_test_sparse, test_df[features].values))\n",
    "    \n",
    "    return X_train_sparse_2, X_test_sparse_2"
   ]
  },
  {
   "cell_type": "code",
   "execution_count": 348,
   "metadata": {},
   "outputs": [
    {
     "data": {
      "text/plain": [
       "['day_of_week_6',\n",
       " 'day_of_week_3',\n",
       " 'day_of_week_2',\n",
       " 'day_of_week_5',\n",
       " 'day_of_week_0',\n",
       " 'part_day_evening',\n",
       " 'part_day_day',\n",
       " 'part_day_morning',\n",
       " 'day_of_week_1']"
      ]
     },
     "execution_count": 348,
     "metadata": {},
     "output_type": "execute_result"
    }
   ],
   "source": [
    "features_bin.remove('target')\n",
    "features_bin = [f for f in  features_bin if f not in features_tfidf_cat]\n",
    "features_bin_ini = features_bin.copy()\n",
    "features_bin"
   ]
  },
  {
   "cell_type": "code",
   "execution_count": 353,
   "metadata": {},
   "outputs": [],
   "source": [
    "X, X_test = get_all_features(features_bin, train_df, test_df)"
   ]
  },
  {
   "cell_type": "code",
   "execution_count": 354,
   "metadata": {},
   "outputs": [
    {
     "name": "stdout",
     "output_type": "stream",
     "text": [
      "LogReg:\t 0.907097228410678\n"
     ]
    },
    {
     "data": {
      "text/html": [
       "<div>\n",
       "<style scoped>\n",
       "    .dataframe tbody tr th:only-of-type {\n",
       "        vertical-align: middle;\n",
       "    }\n",
       "\n",
       "    .dataframe tbody tr th {\n",
       "        vertical-align: top;\n",
       "    }\n",
       "\n",
       "    .dataframe thead th {\n",
       "        text-align: right;\n",
       "    }\n",
       "</style>\n",
       "<table border=\"1\" class=\"dataframe\">\n",
       "  <thead>\n",
       "    <tr style=\"text-align: right;\">\n",
       "      <th></th>\n",
       "      <th>cv1</th>\n",
       "      <th>cv10</th>\n",
       "      <th>cv2</th>\n",
       "      <th>cv3</th>\n",
       "      <th>cv4</th>\n",
       "      <th>cv5</th>\n",
       "      <th>cv6</th>\n",
       "      <th>cv7</th>\n",
       "      <th>cv8</th>\n",
       "      <th>cv9</th>\n",
       "      <th>name</th>\n",
       "    </tr>\n",
       "  </thead>\n",
       "  <tbody>\n",
       "    <tr>\n",
       "      <th>0</th>\n",
       "      <td>0.775171</td>\n",
       "      <td>0.896367</td>\n",
       "      <td>0.634997</td>\n",
       "      <td>0.857301</td>\n",
       "      <td>0.941142</td>\n",
       "      <td>0.842988</td>\n",
       "      <td>0.891893</td>\n",
       "      <td>0.925032</td>\n",
       "      <td>0.849500</td>\n",
       "      <td>0.925310</td>\n",
       "      <td>ini</td>\n",
       "    </tr>\n",
       "    <tr>\n",
       "      <th>1</th>\n",
       "      <td>0.833573</td>\n",
       "      <td>0.953786</td>\n",
       "      <td>0.796885</td>\n",
       "      <td>0.892494</td>\n",
       "      <td>0.967000</td>\n",
       "      <td>0.933728</td>\n",
       "      <td>0.959404</td>\n",
       "      <td>0.933990</td>\n",
       "      <td>0.938251</td>\n",
       "      <td>0.861863</td>\n",
       "      <td>with bin</td>\n",
       "    </tr>\n",
       "  </tbody>\n",
       "</table>\n",
       "</div>"
      ],
      "text/plain": [
       "        cv1      cv10       cv2       cv3       cv4       cv5       cv6  \\\n",
       "0  0.775171  0.896367  0.634997  0.857301  0.941142  0.842988  0.891893   \n",
       "1  0.833573  0.953786  0.796885  0.892494  0.967000  0.933728  0.959404   \n",
       "\n",
       "        cv7       cv8       cv9      name  \n",
       "0  0.925032  0.849500  0.925310       ini  \n",
       "1  0.933990  0.938251  0.861863  with bin  "
      ]
     },
     "metadata": {},
     "output_type": "display_data"
    }
   ],
   "source": [
    "model_log2 = SGDClassifier(loss='log', random_state=2020, n_jobs=-1)\n",
    "score = cross_val_score(model_log2, X, y, cv=cv, scoring='roc_auc',\n",
    "                n_jobs=-1)\n",
    "results = save_score(results, score, 'with bin')\n",
    "print('LogReg:\\t',score.mean())\n",
    "display(results)\n",
    "\n",
    "model_log2.fit(X, y)\n",
    "pred_log = model_log2.predict_proba(X_test)[:,1]\n",
    "write_to_submission_file(pred_log, 'log2.csv')"
   ]
  },
  {
   "cell_type": "code",
   "execution_count": 355,
   "metadata": {},
   "outputs": [],
   "source": [
    "def get_ttest_rel(idx1, idx2):\n",
    "    p = ss.ttest_rel(results.iloc[idx1, :10], results.iloc[idx2,:10])[1]\n",
    "    print('p-val for ttest paired = ', p)\n",
    "    print('p-val < 0.05:', p<0.05, '\\nclassifiers are' + ' differ' if p<0.05 else\n",
    "         '\\nclassifiers are' + ' the same' )"
   ]
  },
  {
   "cell_type": "code",
   "execution_count": 356,
   "metadata": {},
   "outputs": [
    {
     "name": "stdout",
     "output_type": "stream",
     "text": [
      "p-val for ttest paired =  0.01922797862654514\n",
      "p-val < 0.05: True \n",
      "classifiers are differ\n"
     ]
    }
   ],
   "source": [
    "get_ttest_rel(0,1)"
   ]
  },
  {
   "cell_type": "markdown",
   "metadata": {},
   "source": [
    "Public score **0.94292** vs 0.91664"
   ]
  },
  {
   "cell_type": "code",
   "execution_count": 162,
   "metadata": {},
   "outputs": [],
   "source": [
    "def get_weights(model, features_name):\n",
    "    return pd.Series(model.coef_[0][-len(features_name):],\n",
    "                     index=features_name).sort_values()"
   ]
  },
  {
   "cell_type": "markdown",
   "metadata": {},
   "source": [
    "Обучим модель на l1 регуляризации и посмотрим какие признаки могут быть лишними"
   ]
  },
  {
   "cell_type": "code",
   "execution_count": 357,
   "metadata": {},
   "outputs": [
    {
     "name": "stdout",
     "output_type": "stream",
     "text": [
      "LogReg:\t 0.8814571178433205\n"
     ]
    },
    {
     "data": {
      "text/plain": [
       "part_day_morning   -31.625778\n",
       "day_of_week_2      -13.101693\n",
       "part_day_evening    -5.889557\n",
       "part_day_day        -3.926436\n",
       "day_of_week_6       -1.208660\n",
       "day_of_week_5       -0.113118\n",
       "day_of_week_3        0.000000\n",
       "day_of_week_1        0.000000\n",
       "day_of_week_0        0.998914\n",
       "dtype: float64"
      ]
     },
     "execution_count": 357,
     "metadata": {},
     "output_type": "execute_result"
    }
   ],
   "source": [
    "model_log = SGDClassifier(loss='log', random_state=2020, n_jobs=-1,\n",
    "                         penalty='l1')\n",
    "score = cross_val_score(model_log, X, y, cv=cv, scoring='roc_auc',\n",
    "                n_jobs=-1)\n",
    "results = save_score(results, score, 'with bin l1')\n",
    "print('LogReg:\\t',score.mean())\n",
    "\n",
    "model_log.fit(X, y)\n",
    "get_weights(model_log, features_bin)"
   ]
  },
  {
   "cell_type": "markdown",
   "metadata": {},
   "source": [
    "Логично, что в данных существует мультиколлинеарность из-за избыточности данных по дням недели. Удалим один из признаков. Но помним о том, что ранее мы выяснили что именнь день4 не отличается ничем для Элис или любого другого пользователя. Поэтому удалим именно его."
   ]
  },
  {
   "cell_type": "code",
   "execution_count": 359,
   "metadata": {},
   "outputs": [],
   "source": [
    "features_bin = features_bin_ini.copy()\n",
    "features_bin.remove('day_of_week_4')\n",
    "X0, X_test0 = get_all_features(features_bin, train_df, test_df)"
   ]
  },
  {
   "cell_type": "code",
   "execution_count": 360,
   "metadata": {},
   "outputs": [
    {
     "name": "stdout",
     "output_type": "stream",
     "text": [
      "LogReg:\t 0.907097228410678\n"
     ]
    },
    {
     "data": {
      "text/html": [
       "<div>\n",
       "<style scoped>\n",
       "    .dataframe tbody tr th:only-of-type {\n",
       "        vertical-align: middle;\n",
       "    }\n",
       "\n",
       "    .dataframe tbody tr th {\n",
       "        vertical-align: top;\n",
       "    }\n",
       "\n",
       "    .dataframe thead th {\n",
       "        text-align: right;\n",
       "    }\n",
       "</style>\n",
       "<table border=\"1\" class=\"dataframe\">\n",
       "  <thead>\n",
       "    <tr style=\"text-align: right;\">\n",
       "      <th></th>\n",
       "      <th>cv1</th>\n",
       "      <th>cv10</th>\n",
       "      <th>cv2</th>\n",
       "      <th>cv3</th>\n",
       "      <th>cv4</th>\n",
       "      <th>cv5</th>\n",
       "      <th>cv6</th>\n",
       "      <th>cv7</th>\n",
       "      <th>cv8</th>\n",
       "      <th>cv9</th>\n",
       "      <th>name</th>\n",
       "    </tr>\n",
       "  </thead>\n",
       "  <tbody>\n",
       "    <tr>\n",
       "      <th>0</th>\n",
       "      <td>0.775171</td>\n",
       "      <td>0.896367</td>\n",
       "      <td>0.634997</td>\n",
       "      <td>0.857301</td>\n",
       "      <td>0.941142</td>\n",
       "      <td>0.842988</td>\n",
       "      <td>0.891893</td>\n",
       "      <td>0.925032</td>\n",
       "      <td>0.849500</td>\n",
       "      <td>0.925310</td>\n",
       "      <td>ini</td>\n",
       "    </tr>\n",
       "    <tr>\n",
       "      <th>1</th>\n",
       "      <td>0.833573</td>\n",
       "      <td>0.953786</td>\n",
       "      <td>0.796885</td>\n",
       "      <td>0.892494</td>\n",
       "      <td>0.967000</td>\n",
       "      <td>0.933728</td>\n",
       "      <td>0.959404</td>\n",
       "      <td>0.933990</td>\n",
       "      <td>0.938251</td>\n",
       "      <td>0.861863</td>\n",
       "      <td>with bin</td>\n",
       "    </tr>\n",
       "    <tr>\n",
       "      <th>2</th>\n",
       "      <td>0.841377</td>\n",
       "      <td>0.919133</td>\n",
       "      <td>0.762817</td>\n",
       "      <td>0.865406</td>\n",
       "      <td>0.968723</td>\n",
       "      <td>0.900105</td>\n",
       "      <td>0.964528</td>\n",
       "      <td>0.911740</td>\n",
       "      <td>0.897963</td>\n",
       "      <td>0.782779</td>\n",
       "      <td>with bin l1</td>\n",
       "    </tr>\n",
       "    <tr>\n",
       "      <th>3</th>\n",
       "      <td>0.833573</td>\n",
       "      <td>0.953786</td>\n",
       "      <td>0.796885</td>\n",
       "      <td>0.892494</td>\n",
       "      <td>0.967000</td>\n",
       "      <td>0.933728</td>\n",
       "      <td>0.959404</td>\n",
       "      <td>0.933990</td>\n",
       "      <td>0.938251</td>\n",
       "      <td>0.861863</td>\n",
       "      <td>with bin drop day4 l2</td>\n",
       "    </tr>\n",
       "  </tbody>\n",
       "</table>\n",
       "</div>"
      ],
      "text/plain": [
       "        cv1      cv10       cv2       cv3       cv4       cv5       cv6  \\\n",
       "0  0.775171  0.896367  0.634997  0.857301  0.941142  0.842988  0.891893   \n",
       "1  0.833573  0.953786  0.796885  0.892494  0.967000  0.933728  0.959404   \n",
       "2  0.841377  0.919133  0.762817  0.865406  0.968723  0.900105  0.964528   \n",
       "3  0.833573  0.953786  0.796885  0.892494  0.967000  0.933728  0.959404   \n",
       "\n",
       "        cv7       cv8       cv9                   name  \n",
       "0  0.925032  0.849500  0.925310                    ini  \n",
       "1  0.933990  0.938251  0.861863               with bin  \n",
       "2  0.911740  0.897963  0.782779            with bin l1  \n",
       "3  0.933990  0.938251  0.861863  with bin drop day4 l2  "
      ]
     },
     "metadata": {},
     "output_type": "display_data"
    },
    {
     "data": {
      "text/plain": [
       "part_day_morning   -4.899823\n",
       "part_day_evening   -2.656578\n",
       "part_day_day       -2.541807\n",
       "day_of_week_2      -2.034048\n",
       "day_of_week_6      -1.175376\n",
       "day_of_week_5      -0.760912\n",
       "day_of_week_3      -0.245430\n",
       "day_of_week_1      -0.172492\n",
       "day_of_week_0       0.659246\n",
       "dtype: float64"
      ]
     },
     "metadata": {},
     "output_type": "display_data"
    }
   ],
   "source": [
    "model_log = SGDClassifier(loss='log', random_state=2020, n_jobs=-1,\n",
    "                         penalty='l2')\n",
    "score = cross_val_score(model_log, X0, y, cv=cv, scoring='roc_auc',\n",
    "                n_jobs=-1)\n",
    "results = save_score(results, score, 'with bin drop day4 l2')\n",
    "print('LogReg:\\t',score.mean())\n",
    "display(results)\n",
    "\n",
    "model_log.fit(X0, y)\n",
    "display(get_weights(model_log, features_bin))"
   ]
  },
  {
   "cell_type": "code",
   "execution_count": 166,
   "metadata": {},
   "outputs": [
    {
     "name": "stdout",
     "output_type": "stream",
     "text": [
      "p-val for ttest paired =  0.010851726574695096\n",
      "p-val < 0.05: True \n",
      "classifiers are differ\n"
     ]
    }
   ],
   "source": [
    "get_ttest_rel(1,3)"
   ]
  },
  {
   "cell_type": "markdown",
   "metadata": {},
   "source": [
    "CV score не ухудшился. Добавим численные признаки. Известно, что для логической регресиитребуется нормализация чиленных признаков. Пронаблюдаем данный эфеект и посмотроим следующие модели\n",
    "* с исходными числовыми признаками\n",
    "* с нормированными числовыми признаками\n",
    "* с логарифмированными числовми признаками\n",
    "* с логарифмированными и нормированными числовыми признаками\n",
    "\n",
    "Дополнительно заполним пропуски нулями"
   ]
  },
  {
   "cell_type": "code",
   "execution_count": 361,
   "metadata": {},
   "outputs": [],
   "source": [
    "features = ['session_duration', 'timedelta_mean', 'timedelta_std']\n",
    "train_df[features] = train_df[features].fillna(0)\n",
    "test_df[features] = test_df[features].fillna(0)\n",
    "\n",
    "train_df_ini = train_df.copy()\n",
    "test_df_ini = test_df.copy()"
   ]
  },
  {
   "cell_type": "code",
   "execution_count": 363,
   "metadata": {
    "hide_input": false
   },
   "outputs": [
    {
     "data": {
      "text/plain": [
       "['nunique_sites',\n",
       " 'sites_length',\n",
       " 'n_tfidf_lst1',\n",
       " 'n_alice_top',\n",
       " 'n_tfidf_lst3',\n",
       " 'n_tfidf_lst2',\n",
       " 'nunique_sites_pre_session',\n",
       " 'session_duration',\n",
       " 'timedelta_mean',\n",
       " 'timedelta_std']"
      ]
     },
     "execution_count": 363,
     "metadata": {},
     "output_type": "execute_result"
    }
   ],
   "source": [
    "# features_num.remove('start_hour')\n",
    "features_num_ini = features_num.copy()\n",
    "features_num"
   ]
  },
  {
   "cell_type": "code",
   "execution_count": 364,
   "metadata": {},
   "outputs": [
    {
     "name": "stdout",
     "output_type": "stream",
     "text": [
      "LogReg l2:\t 0.798865215271652\n"
     ]
    }
   ],
   "source": [
    "# исходные численные признаки\n",
    "features_all = features_bin + features_num\n",
    "X0, X_test0 = get_all_features(features_all,\n",
    "                               train_df, test_df)\n",
    "\n",
    "model_log = SGDClassifier(loss='log', random_state=2020, n_jobs=-1,\n",
    "                         penalty='l2')\n",
    "score = cross_val_score(model_log, X0, y, cv=cv, scoring='roc_auc',\n",
    "                n_jobs=-1)\n",
    "results = save_score(results, score, 'with num ini')\n",
    "print('LogReg l2:\\t',score.mean())"
   ]
  },
  {
   "cell_type": "markdown",
   "metadata": {},
   "source": [
    "Итак, Cv score упал с 0.907 до 0.80\n",
    "\n",
    "Сделаем нормировку новых признаков"
   ]
  },
  {
   "cell_type": "code",
   "execution_count": 365,
   "metadata": {},
   "outputs": [],
   "source": [
    "train_df = train_df_ini.copy()"
   ]
  },
  {
   "cell_type": "code",
   "execution_count": 366,
   "metadata": {},
   "outputs": [],
   "source": [
    "from sklearn.preprocessing import StandardScaler\n",
    "\n",
    "scaler = StandardScaler()\n",
    "\n",
    "train_df = train_df_ini.copy()\n",
    "test_df = test_df_ini.copy()\n",
    "\n",
    "features_num_sc = [f +'_sc' for f in features_num]\n",
    "temp = pd.DataFrame(scaler.fit_transform(train_df[features_num]),\n",
    "                    columns=features_num_sc, index=train_df.index)\n",
    "train_df = train_df.merge(temp, left_index=True, right_index=True)\n",
    "temp = pd.DataFrame(scaler.transform(test_df[features_num]),\n",
    "                    columns=features_num_sc, index=test_df.index)\n",
    "test_df = test_df.merge(temp, left_index=True, right_index=True)"
   ]
  },
  {
   "cell_type": "code",
   "execution_count": 367,
   "metadata": {},
   "outputs": [],
   "source": [
    "assert (train_df[features_num_sc].isna().sum() == 0).all()"
   ]
  },
  {
   "cell_type": "code",
   "execution_count": 368,
   "metadata": {},
   "outputs": [
    {
     "name": "stdout",
     "output_type": "stream",
     "text": [
      "LogReg l2:\t 0.9092231045512673\n"
     ]
    }
   ],
   "source": [
    "features_all = features_bin + features_num_sc\n",
    "\n",
    "X0, X_test0 = get_all_features(features_all,\n",
    "                               train_df, test_df)\n",
    "model_log = SGDClassifier(loss='log', random_state=2020, n_jobs=-1,\n",
    "                         penalty='l2')\n",
    "score = cross_val_score(model_log, X0, y, cv=cv, scoring='roc_auc',\n",
    "                n_jobs=-1)\n",
    "results = save_score(results, score, 'with num scaler')\n",
    "print('LogReg l2:\\t',score.mean())"
   ]
  },
  {
   "cell_type": "markdown",
   "metadata": {},
   "source": [
    "Нормировка признаков позволяет вернуться к исходному значению метрики. \n",
    "\n",
    "Посмотрим, поможет ли нам логарифмирование признаков, которые имеют ассиметричное распределение"
   ]
  },
  {
   "cell_type": "code",
   "execution_count": 369,
   "metadata": {},
   "outputs": [],
   "source": [
    "features = ['session_duration', 'timedelta_mean', 'timedelta_std']\n",
    "for f in features:\n",
    "    train_df[f+'_log'] = np.log1p(train_df[f])\n",
    "    test_df[f+'_log'] = np.log1p(test_df[f])\n",
    "    \n",
    "features_num_wo_log = [f for f in features_num if f not in features]\n",
    "features_log = [f+'_log' for f in features]"
   ]
  },
  {
   "cell_type": "code",
   "execution_count": 370,
   "metadata": {},
   "outputs": [],
   "source": [
    "train_df_ini = train_df.copy()\n",
    "test_df_ini = test_df.copy()"
   ]
  },
  {
   "cell_type": "code",
   "execution_count": 371,
   "metadata": {},
   "outputs": [],
   "source": [
    "assert len(features_num_wo_log)+len(features_log)== len(features_num)"
   ]
  },
  {
   "cell_type": "code",
   "execution_count": 372,
   "metadata": {},
   "outputs": [
    {
     "name": "stdout",
     "output_type": "stream",
     "text": [
      "LogReg l2:\t 0.9075308202201317\n"
     ]
    }
   ],
   "source": [
    "features_all = features_bin + features_num_wo_log + features_log\n",
    "\n",
    "X0, X_test0 = get_all_features(features_all,\n",
    "                               train_df, test_df)\n",
    "model_log = SGDClassifier(loss='log', random_state=2020, n_jobs=-1,\n",
    "                         penalty='l2')\n",
    "score = cross_val_score(model_log, X0, y, cv=cv, scoring='roc_auc',\n",
    "                n_jobs=-1)\n",
    "results = save_score(results, score, 'with num + log')\n",
    "print('LogReg l2:\\t',score.mean())"
   ]
  },
  {
   "cell_type": "markdown",
   "metadata": {},
   "source": [
    "И последующая нормировка численных признаков:"
   ]
  },
  {
   "cell_type": "code",
   "execution_count": 373,
   "metadata": {},
   "outputs": [],
   "source": [
    "scaler = StandardScaler()\n",
    "\n",
    "train_df = train_df_ini.copy()\n",
    "test_df = test_df_ini.copy()\n",
    "\n",
    "features_log_sc = [f +'_sc' for f in features_log]\n",
    "temp = pd.DataFrame(scaler.fit_transform(train_df[features_log]),\n",
    "                    columns=features_log_sc, index=train_df.index)\n",
    "train_df = train_df.merge(temp, left_index=True, right_index=True)\n",
    "temp = pd.DataFrame(scaler.transform(test_df[features_log]),\n",
    "                    columns=features_log_sc, index=test_df.index)\n",
    "test_df = test_df.merge(temp, left_index=True, right_index=True)"
   ]
  },
  {
   "cell_type": "code",
   "execution_count": 374,
   "metadata": {},
   "outputs": [],
   "source": [
    "features_num_wo_log_sc = [f+'_sc' for f in features_num_wo_log]"
   ]
  },
  {
   "cell_type": "code",
   "execution_count": 375,
   "metadata": {},
   "outputs": [
    {
     "name": "stdout",
     "output_type": "stream",
     "text": [
      "LogReg l2:\t 0.9094547087406777\n"
     ]
    }
   ],
   "source": [
    "features_all = features_bin + features_num_wo_log_sc + features_log_sc\n",
    "\n",
    "X0, X_test0 = get_all_features(features_all,\n",
    "                               train_df, test_df)\n",
    "model_log = SGDClassifier(loss='log', random_state=2020, n_jobs=-1,\n",
    "                         penalty='l2')\n",
    "score = cross_val_score(model_log, X0, y, cv=cv, scoring='roc_auc',\n",
    "                n_jobs=-1)\n",
    "results = save_score(results, score, 'with num scaler + log scaler')\n",
    "print('LogReg l2:\\t',score.mean())"
   ]
  },
  {
   "cell_type": "code",
   "execution_count": 378,
   "metadata": {},
   "outputs": [
    {
     "data": {
      "text/html": [
       "<div>\n",
       "<style scoped>\n",
       "    .dataframe tbody tr th:only-of-type {\n",
       "        vertical-align: middle;\n",
       "    }\n",
       "\n",
       "    .dataframe tbody tr th {\n",
       "        vertical-align: top;\n",
       "    }\n",
       "\n",
       "    .dataframe thead th {\n",
       "        text-align: right;\n",
       "    }\n",
       "</style>\n",
       "<table border=\"1\" class=\"dataframe\">\n",
       "  <thead>\n",
       "    <tr style=\"text-align: right;\">\n",
       "      <th></th>\n",
       "      <th>cv1</th>\n",
       "      <th>cv10</th>\n",
       "      <th>cv2</th>\n",
       "      <th>cv3</th>\n",
       "      <th>cv4</th>\n",
       "      <th>cv5</th>\n",
       "      <th>cv6</th>\n",
       "      <th>cv7</th>\n",
       "      <th>cv8</th>\n",
       "      <th>cv9</th>\n",
       "      <th>name</th>\n",
       "    </tr>\n",
       "  </thead>\n",
       "  <tbody>\n",
       "    <tr>\n",
       "      <th>5</th>\n",
       "      <td>0.827046</td>\n",
       "      <td>0.956737</td>\n",
       "      <td>0.816647</td>\n",
       "      <td>0.903106</td>\n",
       "      <td>0.966363</td>\n",
       "      <td>0.929047</td>\n",
       "      <td>0.962326</td>\n",
       "      <td>0.924670</td>\n",
       "      <td>0.940833</td>\n",
       "      <td>0.865457</td>\n",
       "      <td>with num scaler</td>\n",
       "    </tr>\n",
       "    <tr>\n",
       "      <th>7</th>\n",
       "      <td>0.831995</td>\n",
       "      <td>0.957796</td>\n",
       "      <td>0.815281</td>\n",
       "      <td>0.902738</td>\n",
       "      <td>0.962318</td>\n",
       "      <td>0.929376</td>\n",
       "      <td>0.963218</td>\n",
       "      <td>0.926183</td>\n",
       "      <td>0.941328</td>\n",
       "      <td>0.864314</td>\n",
       "      <td>with num scaler + log scaler</td>\n",
       "    </tr>\n",
       "  </tbody>\n",
       "</table>\n",
       "</div>"
      ],
      "text/plain": [
       "        cv1      cv10       cv2       cv3       cv4       cv5       cv6  \\\n",
       "5  0.827046  0.956737  0.816647  0.903106  0.966363  0.929047  0.962326   \n",
       "7  0.831995  0.957796  0.815281  0.902738  0.962318  0.929376  0.963218   \n",
       "\n",
       "        cv7       cv8       cv9                          name  \n",
       "5  0.924670  0.940833  0.865457               with num scaler  \n",
       "7  0.926183  0.941328  0.864314  with num scaler + log scaler  "
      ]
     },
     "metadata": {},
     "output_type": "display_data"
    },
    {
     "name": "stdout",
     "output_type": "stream",
     "text": [
      "p-val for ttest paired =  0.7588164218576425\n",
      "p-val < 0.05: False \n",
      "classifiers are the same\n"
     ]
    }
   ],
   "source": [
    "display(results.iloc[[5,7]])\n",
    "get_ttest_rel(5,7)"
   ]
  },
  {
   "cell_type": "markdown",
   "metadata": {},
   "source": [
    "По cv метрике не видно разницы, как нормировать признаки\n",
    "\n",
    "+ вспомним, что мы создавали дополнительно категориальные признаки для топа tf-idf. Добавим их в модель и уберем соответсвующие им числовые признаки"
   ]
  },
  {
   "cell_type": "code",
   "execution_count": 379,
   "metadata": {},
   "outputs": [
    {
     "name": "stdout",
     "output_type": "stream",
     "text": [
      "['n_tfidf_lst1>5', 'n_tfidf_lst3>5', 'n_tfidf_lst2>5', 'n_alice_top>5']\n"
     ]
    },
    {
     "data": {
      "text/plain": [
       "['nunique_sites_sc',\n",
       " 'sites_length_sc',\n",
       " 'nunique_sites_pre_session_sc',\n",
       " 'session_duration_sc',\n",
       " 'timedelta_mean_sc',\n",
       " 'timedelta_std_sc']"
      ]
     },
     "execution_count": 379,
     "metadata": {},
     "output_type": "execute_result"
    }
   ],
   "source": [
    "print(features_tfidf_cat)\n",
    "features_num_sc_wo_tfidf = [f for f in features_num_sc if 'tfidf' not in f \\\n",
    "                            and 'alice' not in f]\n",
    "features_num_sc_wo_tfidf"
   ]
  },
  {
   "cell_type": "code",
   "execution_count": 383,
   "metadata": {},
   "outputs": [
    {
     "name": "stdout",
     "output_type": "stream",
     "text": [
      "LogReg l2:\t 0.9072845997003766\n"
     ]
    }
   ],
   "source": [
    "features_all = features_bin + features_num_sc_wo_tfidf + features_tfidf_cat\n",
    "\n",
    "X0, X_test0 = get_all_features(features_all,\n",
    "                               train_df, test_df)\n",
    "model_log = SGDClassifier(loss='log', random_state=2020, n_jobs=-1,\n",
    "                         penalty='l2')\n",
    "score = cross_val_score(model_log, X0, y, cv=cv, scoring='roc_auc',\n",
    "                n_jobs=-1)\n",
    "results = save_score(results, score, 'with num scaler + tfidf cat')\n",
    "print('LogReg l2:\\t',score.mean())"
   ]
  },
  {
   "cell_type": "code",
   "execution_count": 410,
   "metadata": {},
   "outputs": [
    {
     "data": {
      "text/html": [
       "<div>\n",
       "<style scoped>\n",
       "    .dataframe tbody tr th:only-of-type {\n",
       "        vertical-align: middle;\n",
       "    }\n",
       "\n",
       "    .dataframe tbody tr th {\n",
       "        vertical-align: top;\n",
       "    }\n",
       "\n",
       "    .dataframe thead th {\n",
       "        text-align: right;\n",
       "    }\n",
       "</style>\n",
       "<table border=\"1\" class=\"dataframe\">\n",
       "  <thead>\n",
       "    <tr style=\"text-align: right;\">\n",
       "      <th></th>\n",
       "      <th>cv1</th>\n",
       "      <th>cv10</th>\n",
       "      <th>cv2</th>\n",
       "      <th>cv3</th>\n",
       "      <th>cv4</th>\n",
       "      <th>cv5</th>\n",
       "      <th>cv6</th>\n",
       "      <th>cv7</th>\n",
       "      <th>cv8</th>\n",
       "      <th>cv9</th>\n",
       "      <th>name</th>\n",
       "      <th>mean</th>\n",
       "      <th>std</th>\n",
       "    </tr>\n",
       "  </thead>\n",
       "  <tbody>\n",
       "    <tr>\n",
       "      <th>0</th>\n",
       "      <td>0.775171</td>\n",
       "      <td>0.896367</td>\n",
       "      <td>0.634997</td>\n",
       "      <td>0.857301</td>\n",
       "      <td>0.941142</td>\n",
       "      <td>0.842988</td>\n",
       "      <td>0.891893</td>\n",
       "      <td>0.925032</td>\n",
       "      <td>0.849500</td>\n",
       "      <td>0.925310</td>\n",
       "      <td>ini</td>\n",
       "      <td>0.853970</td>\n",
       "      <td>0.091460</td>\n",
       "    </tr>\n",
       "    <tr>\n",
       "      <th>1</th>\n",
       "      <td>0.833573</td>\n",
       "      <td>0.953786</td>\n",
       "      <td>0.796885</td>\n",
       "      <td>0.892494</td>\n",
       "      <td>0.967000</td>\n",
       "      <td>0.933728</td>\n",
       "      <td>0.959404</td>\n",
       "      <td>0.933990</td>\n",
       "      <td>0.938251</td>\n",
       "      <td>0.861863</td>\n",
       "      <td>with bin</td>\n",
       "      <td>0.907097</td>\n",
       "      <td>0.058423</td>\n",
       "    </tr>\n",
       "    <tr>\n",
       "      <th>2</th>\n",
       "      <td>0.841377</td>\n",
       "      <td>0.919133</td>\n",
       "      <td>0.762817</td>\n",
       "      <td>0.865406</td>\n",
       "      <td>0.968723</td>\n",
       "      <td>0.900105</td>\n",
       "      <td>0.964528</td>\n",
       "      <td>0.911740</td>\n",
       "      <td>0.897963</td>\n",
       "      <td>0.782779</td>\n",
       "      <td>with bin l1</td>\n",
       "      <td>0.881457</td>\n",
       "      <td>0.069242</td>\n",
       "    </tr>\n",
       "    <tr>\n",
       "      <th>3</th>\n",
       "      <td>0.833573</td>\n",
       "      <td>0.953786</td>\n",
       "      <td>0.796885</td>\n",
       "      <td>0.892494</td>\n",
       "      <td>0.967000</td>\n",
       "      <td>0.933728</td>\n",
       "      <td>0.959404</td>\n",
       "      <td>0.933990</td>\n",
       "      <td>0.938251</td>\n",
       "      <td>0.861863</td>\n",
       "      <td>with bin drop day4 l2</td>\n",
       "      <td>0.907097</td>\n",
       "      <td>0.058423</td>\n",
       "    </tr>\n",
       "    <tr>\n",
       "      <th>4</th>\n",
       "      <td>0.677640</td>\n",
       "      <td>0.867351</td>\n",
       "      <td>0.777560</td>\n",
       "      <td>0.754836</td>\n",
       "      <td>0.670887</td>\n",
       "      <td>0.843664</td>\n",
       "      <td>0.878295</td>\n",
       "      <td>0.912492</td>\n",
       "      <td>0.809410</td>\n",
       "      <td>0.796517</td>\n",
       "      <td>with num ini</td>\n",
       "      <td>0.798865</td>\n",
       "      <td>0.081309</td>\n",
       "    </tr>\n",
       "    <tr>\n",
       "      <th>5</th>\n",
       "      <td>0.827046</td>\n",
       "      <td>0.956737</td>\n",
       "      <td>0.816647</td>\n",
       "      <td>0.903106</td>\n",
       "      <td>0.966363</td>\n",
       "      <td>0.929047</td>\n",
       "      <td>0.962326</td>\n",
       "      <td>0.924670</td>\n",
       "      <td>0.940833</td>\n",
       "      <td>0.865457</td>\n",
       "      <td>with num scaler</td>\n",
       "      <td>0.909223</td>\n",
       "      <td>0.055025</td>\n",
       "    </tr>\n",
       "    <tr>\n",
       "      <th>6</th>\n",
       "      <td>0.817162</td>\n",
       "      <td>0.945239</td>\n",
       "      <td>0.811873</td>\n",
       "      <td>0.896253</td>\n",
       "      <td>0.963278</td>\n",
       "      <td>0.923624</td>\n",
       "      <td>0.959062</td>\n",
       "      <td>0.948230</td>\n",
       "      <td>0.940008</td>\n",
       "      <td>0.870580</td>\n",
       "      <td>with num + log</td>\n",
       "      <td>0.907531</td>\n",
       "      <td>0.056730</td>\n",
       "    </tr>\n",
       "    <tr>\n",
       "      <th>7</th>\n",
       "      <td>0.831995</td>\n",
       "      <td>0.957796</td>\n",
       "      <td>0.815281</td>\n",
       "      <td>0.902738</td>\n",
       "      <td>0.962318</td>\n",
       "      <td>0.929376</td>\n",
       "      <td>0.963218</td>\n",
       "      <td>0.926183</td>\n",
       "      <td>0.941328</td>\n",
       "      <td>0.864314</td>\n",
       "      <td>with num scaler + log scaler</td>\n",
       "      <td>0.909455</td>\n",
       "      <td>0.054432</td>\n",
       "    </tr>\n",
       "    <tr>\n",
       "      <th>8</th>\n",
       "      <td>0.835996</td>\n",
       "      <td>0.953716</td>\n",
       "      <td>0.806217</td>\n",
       "      <td>0.897253</td>\n",
       "      <td>0.956854</td>\n",
       "      <td>0.936430</td>\n",
       "      <td>0.961723</td>\n",
       "      <td>0.922270</td>\n",
       "      <td>0.941894</td>\n",
       "      <td>0.860494</td>\n",
       "      <td>with num scaler + tfidf cat</td>\n",
       "      <td>0.907285</td>\n",
       "      <td>0.055212</td>\n",
       "    </tr>\n",
       "    <tr>\n",
       "      <th>9</th>\n",
       "      <td>0.897428</td>\n",
       "      <td>0.957215</td>\n",
       "      <td>0.809214</td>\n",
       "      <td>0.897799</td>\n",
       "      <td>0.971393</td>\n",
       "      <td>0.925801</td>\n",
       "      <td>0.970297</td>\n",
       "      <td>0.928558</td>\n",
       "      <td>0.949805</td>\n",
       "      <td>0.861612</td>\n",
       "      <td>with num-log scaler+tfidf cat -drop l1</td>\n",
       "      <td>0.916912</td>\n",
       "      <td>0.051791</td>\n",
       "    </tr>\n",
       "    <tr>\n",
       "      <th>10</th>\n",
       "      <td>0.897428</td>\n",
       "      <td>0.957215</td>\n",
       "      <td>0.809214</td>\n",
       "      <td>0.897799</td>\n",
       "      <td>0.971393</td>\n",
       "      <td>0.925801</td>\n",
       "      <td>0.970297</td>\n",
       "      <td>0.928558</td>\n",
       "      <td>0.949805</td>\n",
       "      <td>0.861612</td>\n",
       "      <td>with num-scaler+tfidf cat -drop l1</td>\n",
       "      <td>0.916912</td>\n",
       "      <td>0.051791</td>\n",
       "    </tr>\n",
       "    <tr>\n",
       "      <th>11</th>\n",
       "      <td>0.900255</td>\n",
       "      <td>0.960016</td>\n",
       "      <td>0.820833</td>\n",
       "      <td>0.892823</td>\n",
       "      <td>0.983244</td>\n",
       "      <td>0.925427</td>\n",
       "      <td>0.968468</td>\n",
       "      <td>0.947644</td>\n",
       "      <td>0.949526</td>\n",
       "      <td>0.858026</td>\n",
       "      <td>with drop l1 with best alpha</td>\n",
       "      <td>0.920626</td>\n",
       "      <td>0.052085</td>\n",
       "    </tr>\n",
       "    <tr>\n",
       "      <th>12</th>\n",
       "      <td>0.888263</td>\n",
       "      <td>0.958025</td>\n",
       "      <td>0.815987</td>\n",
       "      <td>0.899796</td>\n",
       "      <td>0.975064</td>\n",
       "      <td>0.923745</td>\n",
       "      <td>0.969416</td>\n",
       "      <td>0.931976</td>\n",
       "      <td>0.951877</td>\n",
       "      <td>0.878378</td>\n",
       "      <td>with drop l1 with best alpha eta0</td>\n",
       "      <td>0.919253</td>\n",
       "      <td>0.049502</td>\n",
       "    </tr>\n",
       "  </tbody>\n",
       "</table>\n",
       "</div>"
      ],
      "text/plain": [
       "         cv1      cv10       cv2       cv3       cv4       cv5       cv6  \\\n",
       "0   0.775171  0.896367  0.634997  0.857301  0.941142  0.842988  0.891893   \n",
       "1   0.833573  0.953786  0.796885  0.892494  0.967000  0.933728  0.959404   \n",
       "2   0.841377  0.919133  0.762817  0.865406  0.968723  0.900105  0.964528   \n",
       "3   0.833573  0.953786  0.796885  0.892494  0.967000  0.933728  0.959404   \n",
       "4   0.677640  0.867351  0.777560  0.754836  0.670887  0.843664  0.878295   \n",
       "5   0.827046  0.956737  0.816647  0.903106  0.966363  0.929047  0.962326   \n",
       "6   0.817162  0.945239  0.811873  0.896253  0.963278  0.923624  0.959062   \n",
       "7   0.831995  0.957796  0.815281  0.902738  0.962318  0.929376  0.963218   \n",
       "8   0.835996  0.953716  0.806217  0.897253  0.956854  0.936430  0.961723   \n",
       "9   0.897428  0.957215  0.809214  0.897799  0.971393  0.925801  0.970297   \n",
       "10  0.897428  0.957215  0.809214  0.897799  0.971393  0.925801  0.970297   \n",
       "11  0.900255  0.960016  0.820833  0.892823  0.983244  0.925427  0.968468   \n",
       "12  0.888263  0.958025  0.815987  0.899796  0.975064  0.923745  0.969416   \n",
       "\n",
       "         cv7       cv8       cv9                                    name  \\\n",
       "0   0.925032  0.849500  0.925310                                     ini   \n",
       "1   0.933990  0.938251  0.861863                                with bin   \n",
       "2   0.911740  0.897963  0.782779                             with bin l1   \n",
       "3   0.933990  0.938251  0.861863                   with bin drop day4 l2   \n",
       "4   0.912492  0.809410  0.796517                            with num ini   \n",
       "5   0.924670  0.940833  0.865457                         with num scaler   \n",
       "6   0.948230  0.940008  0.870580                          with num + log   \n",
       "7   0.926183  0.941328  0.864314            with num scaler + log scaler   \n",
       "8   0.922270  0.941894  0.860494             with num scaler + tfidf cat   \n",
       "9   0.928558  0.949805  0.861612  with num-log scaler+tfidf cat -drop l1   \n",
       "10  0.928558  0.949805  0.861612      with num-scaler+tfidf cat -drop l1   \n",
       "11  0.947644  0.949526  0.858026            with drop l1 with best alpha   \n",
       "12  0.931976  0.951877  0.878378       with drop l1 with best alpha eta0   \n",
       "\n",
       "        mean       std  \n",
       "0   0.853970  0.091460  \n",
       "1   0.907097  0.058423  \n",
       "2   0.881457  0.069242  \n",
       "3   0.907097  0.058423  \n",
       "4   0.798865  0.081309  \n",
       "5   0.909223  0.055025  \n",
       "6   0.907531  0.056730  \n",
       "7   0.909455  0.054432  \n",
       "8   0.907285  0.055212  \n",
       "9   0.916912  0.051791  \n",
       "10  0.916912  0.051791  \n",
       "11  0.920626  0.052085  \n",
       "12  0.919253  0.049502  "
      ]
     },
     "execution_count": 410,
     "metadata": {},
     "output_type": "execute_result"
    }
   ],
   "source": [
    "def get_stats_results(results):\n",
    "    results['mean'] = results.iloc[:, :10].mean(axis=1)\n",
    "    results['std'] = results.iloc[:,:10].std(axis=1)\n",
    "    return results\n",
    "get_stats_results(results)"
   ]
  },
  {
   "cell_type": "markdown",
   "metadata": {},
   "source": [
    "На основании кросс валидации, добавление численных признаков не ведет к улучшению метрики.\n",
    "Возьмем модель с бинарными, нормированными численными  и tfidf cat признаками и исследуем ее, попробуя улучшить итоговый результат"
   ]
  },
  {
   "cell_type": "code",
   "execution_count": 387,
   "metadata": {},
   "outputs": [],
   "source": [
    "features_all = features_bin + features_num_sc_wo_tfidf + \\\n",
    "                        features_tfidf_cat\n",
    "\n",
    "X0, X_test0 = get_all_features(features_all,\n",
    "                               train_df, test_df)"
   ]
  },
  {
   "cell_type": "markdown",
   "metadata": {},
   "source": [
    "Обоучим модель с Лассо регуляризацией и посмотрим, какие признаки могут оказаться лишними"
   ]
  },
  {
   "cell_type": "code",
   "execution_count": 390,
   "metadata": {},
   "outputs": [
    {
     "data": {
      "text/plain": [
       "part_day_morning               -47.207898\n",
       "part_day_evening               -21.037837\n",
       "day_of_week_2                  -12.846303\n",
       "part_day_day                    -4.872901\n",
       "day_of_week_6                   -1.421936\n",
       "session_duration_sc             -0.180924\n",
       "day_of_week_5                   -0.085880\n",
       "n_tfidf_lst1>5                   0.000000\n",
       "timedelta_std_sc                 0.000000\n",
       "timedelta_mean_sc                0.000000\n",
       "nunique_sites_pre_session_sc     0.000000\n",
       "n_alice_top>5                    0.000000\n",
       "n_tfidf_lst2>5                   0.000000\n",
       "day_of_week_1                    0.000000\n",
       "day_of_week_3                    0.000000\n",
       "nunique_sites_sc                 0.305622\n",
       "n_tfidf_lst3>5                   0.939040\n",
       "day_of_week_0                    1.089536\n",
       "sites_length_sc                  4.604682\n",
       "dtype: float64"
      ]
     },
     "metadata": {},
     "output_type": "display_data"
    }
   ],
   "source": [
    "model_log_l1 = SGDClassifier(loss='log', random_state=2020, n_jobs=-1,\n",
    "                         penalty='l1')\n",
    "model_log_l1.fit(X0, y)\n",
    "display(get_weights(model_log_l1, features_all))"
   ]
  },
  {
   "cell_type": "markdown",
   "metadata": {},
   "source": [
    "Оромное количество признаков имеют 0 вес. Попробуем убрать их и посмотреть на метрику для модели с Л2"
   ]
  },
  {
   "cell_type": "code",
   "execution_count": 392,
   "metadata": {},
   "outputs": [],
   "source": [
    "to_drop = ['n_tfidf_lst2>5',  'n_tfidf_lst1>5', 'n_alice_top',\n",
    "#     'n_tfidf_lst3>5', \n",
    "           'timedelta_std_sc', 'timedelta_mean_sc',\n",
    "           #'session_duration_sc', \n",
    "           'nunique_sites_pre_session_sc', \n",
    "           #'sites_length_sc'\n",
    "           'day_of_week_1', 'day_of_week_3',\n",
    "          # 'n_tfidf_lst3_sc',\n",
    "          # 'part_day_day',\n",
    "           ]"
   ]
  },
  {
   "cell_type": "code",
   "execution_count": 395,
   "metadata": {},
   "outputs": [
    {
     "name": "stdout",
     "output_type": "stream",
     "text": [
      "LogReg l2:\t 0.9169121846192544\n"
     ]
    }
   ],
   "source": [
    "# features_all = features_bin + features_num_sc_wo_tfidf + features_tfidf_cat\n",
    "features_all = [f for f in features_all if f not in to_drop]\n",
    "X0, X_test0 = get_all_features(features_all, train_df, test_df)\n",
    "\n",
    "model_log = SGDClassifier(loss='log', random_state=2020, n_jobs=-1,\n",
    "                         penalty='l2')\n",
    "score = cross_val_score(model_log, X0, y, cv=cv, scoring='roc_auc', n_jobs=-1)\n",
    "results = save_score(results, score, 'with num-scaler+tfidf cat -drop l1')\n",
    "print('LogReg l2:\\t',score.mean())"
   ]
  },
  {
   "cell_type": "code",
   "execution_count": 398,
   "metadata": {},
   "outputs": [
    {
     "data": {
      "text/html": [
       "<div>\n",
       "<style scoped>\n",
       "    .dataframe tbody tr th:only-of-type {\n",
       "        vertical-align: middle;\n",
       "    }\n",
       "\n",
       "    .dataframe tbody tr th {\n",
       "        vertical-align: top;\n",
       "    }\n",
       "\n",
       "    .dataframe thead th {\n",
       "        text-align: right;\n",
       "    }\n",
       "</style>\n",
       "<table border=\"1\" class=\"dataframe\">\n",
       "  <thead>\n",
       "    <tr style=\"text-align: right;\">\n",
       "      <th></th>\n",
       "      <th>cv1</th>\n",
       "      <th>cv10</th>\n",
       "      <th>cv2</th>\n",
       "      <th>cv3</th>\n",
       "      <th>cv4</th>\n",
       "      <th>cv5</th>\n",
       "      <th>cv6</th>\n",
       "      <th>cv7</th>\n",
       "      <th>cv8</th>\n",
       "      <th>cv9</th>\n",
       "      <th>name</th>\n",
       "      <th>mean</th>\n",
       "      <th>std</th>\n",
       "    </tr>\n",
       "  </thead>\n",
       "  <tbody>\n",
       "    <tr>\n",
       "      <th>8</th>\n",
       "      <td>0.835996</td>\n",
       "      <td>0.953716</td>\n",
       "      <td>0.806217</td>\n",
       "      <td>0.897253</td>\n",
       "      <td>0.956854</td>\n",
       "      <td>0.936430</td>\n",
       "      <td>0.961723</td>\n",
       "      <td>0.922270</td>\n",
       "      <td>0.941894</td>\n",
       "      <td>0.860494</td>\n",
       "      <td>with num scaler + tfidf cat</td>\n",
       "      <td>0.907285</td>\n",
       "      <td>0.055212</td>\n",
       "    </tr>\n",
       "    <tr>\n",
       "      <th>10</th>\n",
       "      <td>0.897428</td>\n",
       "      <td>0.957215</td>\n",
       "      <td>0.809214</td>\n",
       "      <td>0.897799</td>\n",
       "      <td>0.971393</td>\n",
       "      <td>0.925801</td>\n",
       "      <td>0.970297</td>\n",
       "      <td>0.928558</td>\n",
       "      <td>0.949805</td>\n",
       "      <td>0.861612</td>\n",
       "      <td>with num-scaler+tfidf cat -drop l1</td>\n",
       "      <td>NaN</td>\n",
       "      <td>NaN</td>\n",
       "    </tr>\n",
       "  </tbody>\n",
       "</table>\n",
       "</div>"
      ],
      "text/plain": [
       "         cv1      cv10       cv2       cv3       cv4       cv5       cv6  \\\n",
       "8   0.835996  0.953716  0.806217  0.897253  0.956854  0.936430  0.961723   \n",
       "10  0.897428  0.957215  0.809214  0.897799  0.971393  0.925801  0.970297   \n",
       "\n",
       "         cv7       cv8       cv9                                name  \\\n",
       "8   0.922270  0.941894  0.860494         with num scaler + tfidf cat   \n",
       "10  0.928558  0.949805  0.861612  with num-scaler+tfidf cat -drop l1   \n",
       "\n",
       "        mean       std  \n",
       "8   0.907285  0.055212  \n",
       "10       NaN       NaN  "
      ]
     },
     "metadata": {},
     "output_type": "display_data"
    },
    {
     "name": "stdout",
     "output_type": "stream",
     "text": [
      "p-val for ttest paired =  0.15007991389216122\n",
      "p-val < 0.05: False \n",
      "classifiers are the same\n"
     ]
    }
   ],
   "source": [
    "display(results.iloc[[8,-1]])\n",
    "get_ttest_rel(8, -1)"
   ]
  },
  {
   "cell_type": "markdown",
   "metadata": {},
   "source": [
    "Метрика не изменилась, т.е. удаленные признаки действительно не несли важную информацию для классификации\n",
    "\n",
    "Подберем параметы модели"
   ]
  },
  {
   "cell_type": "code",
   "execution_count": 399,
   "metadata": {},
   "outputs": [],
   "source": [
    "from sklearn.model_selection import GridSearchCV\n",
    "\n",
    "cv_3 = TimeSeriesSplit(n_splits=3)"
   ]
  },
  {
   "cell_type": "code",
   "execution_count": 400,
   "metadata": {},
   "outputs": [
    {
     "name": "stdout",
     "output_type": "stream",
     "text": [
      "Fitting 3 folds for each of 20 candidates, totalling 60 fits\n"
     ]
    },
    {
     "name": "stderr",
     "output_type": "stream",
     "text": [
      "[Parallel(n_jobs=1)]: Using backend SequentialBackend with 1 concurrent workers.\n",
      "[Parallel(n_jobs=1)]: Done  60 out of  60 | elapsed:   28.8s finished\n"
     ]
    },
    {
     "data": {
      "text/plain": [
       "(0.9303394604262764, {'alpha': 2.9763514416313192e-05})"
      ]
     },
     "execution_count": 400,
     "metadata": {},
     "output_type": "execute_result"
    }
   ],
   "source": [
    "a_values = np.logspace(-6, 1, 20)\n",
    "\n",
    "logit_grid_searcher = GridSearchCV(estimator=model_log, \n",
    "                                   param_grid={'alpha': a_values},\n",
    "                                   scoring='roc_auc', n_jobs=1, \n",
    "                                   cv=cv_3, verbose=1)\n",
    "logit_grid_searcher.fit(X0, y) \n",
    "logit_grid_searcher.best_score_, logit_grid_searcher.best_params_"
   ]
  },
  {
   "cell_type": "code",
   "execution_count": 401,
   "metadata": {},
   "outputs": [
    {
     "name": "stdout",
     "output_type": "stream",
     "text": [
      "LogReg l2:\t 0.9206262286709965\n"
     ]
    }
   ],
   "source": [
    "model_log.alpha = logit_grid_searcher.best_params_['alpha']\n",
    "score = cross_val_score(model_log, X0, y, cv=cv, scoring='roc_auc', n_jobs=-1)\n",
    "results = save_score(results, score, 'with drop l1 with best alpha')\n",
    "print('LogReg l2:\\t', score.mean())"
   ]
  },
  {
   "cell_type": "code",
   "execution_count": 402,
   "metadata": {},
   "outputs": [
    {
     "name": "stdout",
     "output_type": "stream",
     "text": [
      "p-val for ttest paired =  0.08236427964066587\n",
      "p-val < 0.05: False \n",
      "classifiers are the same\n"
     ]
    }
   ],
   "source": [
    "get_ttest_rel(8, -1)"
   ]
  },
  {
   "cell_type": "code",
   "execution_count": 403,
   "metadata": {},
   "outputs": [
    {
     "data": {
      "text/html": [
       "<div>\n",
       "<style scoped>\n",
       "    .dataframe tbody tr th:only-of-type {\n",
       "        vertical-align: middle;\n",
       "    }\n",
       "\n",
       "    .dataframe tbody tr th {\n",
       "        vertical-align: top;\n",
       "    }\n",
       "\n",
       "    .dataframe thead th {\n",
       "        text-align: right;\n",
       "    }\n",
       "</style>\n",
       "<table border=\"1\" class=\"dataframe\">\n",
       "  <thead>\n",
       "    <tr style=\"text-align: right;\">\n",
       "      <th></th>\n",
       "      <th>cv1</th>\n",
       "      <th>cv10</th>\n",
       "      <th>cv2</th>\n",
       "      <th>cv3</th>\n",
       "      <th>cv4</th>\n",
       "      <th>cv5</th>\n",
       "      <th>cv6</th>\n",
       "      <th>cv7</th>\n",
       "      <th>cv8</th>\n",
       "      <th>cv9</th>\n",
       "      <th>name</th>\n",
       "      <th>mean</th>\n",
       "      <th>std</th>\n",
       "    </tr>\n",
       "  </thead>\n",
       "  <tbody>\n",
       "    <tr>\n",
       "      <th>8</th>\n",
       "      <td>0.835996</td>\n",
       "      <td>0.953716</td>\n",
       "      <td>0.806217</td>\n",
       "      <td>0.897253</td>\n",
       "      <td>0.956854</td>\n",
       "      <td>0.936430</td>\n",
       "      <td>0.961723</td>\n",
       "      <td>0.922270</td>\n",
       "      <td>0.941894</td>\n",
       "      <td>0.860494</td>\n",
       "      <td>with num scaler + tfidf cat</td>\n",
       "      <td>0.907285</td>\n",
       "      <td>0.055212</td>\n",
       "    </tr>\n",
       "    <tr>\n",
       "      <th>11</th>\n",
       "      <td>0.900255</td>\n",
       "      <td>0.960016</td>\n",
       "      <td>0.820833</td>\n",
       "      <td>0.892823</td>\n",
       "      <td>0.983244</td>\n",
       "      <td>0.925427</td>\n",
       "      <td>0.968468</td>\n",
       "      <td>0.947644</td>\n",
       "      <td>0.949526</td>\n",
       "      <td>0.858026</td>\n",
       "      <td>with drop l1 with best alpha</td>\n",
       "      <td>NaN</td>\n",
       "      <td>NaN</td>\n",
       "    </tr>\n",
       "  </tbody>\n",
       "</table>\n",
       "</div>"
      ],
      "text/plain": [
       "         cv1      cv10       cv2       cv3       cv4       cv5       cv6  \\\n",
       "8   0.835996  0.953716  0.806217  0.897253  0.956854  0.936430  0.961723   \n",
       "11  0.900255  0.960016  0.820833  0.892823  0.983244  0.925427  0.968468   \n",
       "\n",
       "         cv7       cv8       cv9                          name      mean  \\\n",
       "8   0.922270  0.941894  0.860494   with num scaler + tfidf cat  0.907285   \n",
       "11  0.947644  0.949526  0.858026  with drop l1 with best alpha       NaN   \n",
       "\n",
       "         std  \n",
       "8   0.055212  \n",
       "11       NaN  "
      ]
     },
     "execution_count": 403,
     "metadata": {},
     "output_type": "execute_result"
    }
   ],
   "source": [
    "results.iloc[[8,-1]]"
   ]
  },
  {
   "cell_type": "markdown",
   "metadata": {},
   "source": [
    "Но альфа также влияет на скорость обучения. Изменим скорость обучения на adaptive"
   ]
  },
  {
   "cell_type": "code",
   "execution_count": 404,
   "metadata": {
    "scrolled": true
   },
   "outputs": [
    {
     "name": "stdout",
     "output_type": "stream",
     "text": [
      "Fitting 3 folds for each of 80 candidates, totalling 240 fits\n"
     ]
    },
    {
     "name": "stderr",
     "output_type": "stream",
     "text": [
      "[Parallel(n_jobs=-1)]: Using backend LokyBackend with 4 concurrent workers.\n",
      "[Parallel(n_jobs=-1)]: Done  42 tasks      | elapsed:   40.5s\n",
      "[Parallel(n_jobs=-1)]: Done 192 tasks      | elapsed:  3.1min\n",
      "[Parallel(n_jobs=-1)]: Done 240 out of 240 | elapsed:  8.7min finished\n"
     ]
    },
    {
     "data": {
      "text/plain": [
       "(0.9278458366511829,\n",
       " {'alpha': 3.5938136638046256e-05, 'eta0': 0.7196856730011514})"
      ]
     },
     "execution_count": 404,
     "metadata": {},
     "output_type": "execute_result"
    }
   ],
   "source": [
    "model_log = SGDClassifier(loss='log', random_state=2020, n_jobs=-1,\n",
    "                         penalty='l2', learning_rate='adaptive', eta0=1)\n",
    "a_values = np.logspace(-6, 1, 10)\n",
    "eta_values = np.logspace(-3, 1, 8)\n",
    "\n",
    "logit_grid_searcher = GridSearchCV(estimator=model_log, \n",
    "                                   param_grid={'alpha': a_values,\n",
    "                                               'eta0': eta_values},\n",
    "                                   scoring='roc_auc', n_jobs=-1, \n",
    "                                   cv=cv_3, verbose=1)\n",
    "logit_grid_searcher.fit(X0, y) \n",
    "logit_grid_searcher.best_score_, logit_grid_searcher.best_params_"
   ]
  },
  {
   "cell_type": "code",
   "execution_count": 476,
   "metadata": {},
   "outputs": [],
   "source": [
    "def get_best_scores(logit_grid_searcher, threshold):\n",
    "    idx = logit_grid_searcher.cv_results_['mean_test_score'] >= threshold\n",
    "    score = np.array(logit_grid_searcher.cv_results_['params'])[idx].tolist()\n",
    "\n",
    "    return pd.DataFrame(score, index=logit_grid_searcher.cv_results_['mean_test_score'][idx]) \\\n",
    "            .sort_index()"
   ]
  },
  {
   "cell_type": "code",
   "execution_count": null,
   "metadata": {},
   "outputs": [],
   "source": [
    "get_best_scores(logit_grid_searcher, 0.92)"
   ]
  },
  {
   "cell_type": "code",
   "execution_count": 407,
   "metadata": {
    "scrolled": true
   },
   "outputs": [
    {
     "name": "stdout",
     "output_type": "stream",
     "text": [
      "Fitting 3 folds for each of 64 candidates, totalling 192 fits\n"
     ]
    },
    {
     "name": "stderr",
     "output_type": "stream",
     "text": [
      "[Parallel(n_jobs=-1)]: Using backend LokyBackend with 4 concurrent workers.\n",
      "[Parallel(n_jobs=-1)]: Done  42 tasks      | elapsed:   33.5s\n",
      "[Parallel(n_jobs=-1)]: Done 192 out of 192 | elapsed:  2.6min finished\n"
     ]
    },
    {
     "data": {
      "text/plain": [
       "(0.9283692592764347, {'alpha': 0.0001, 'eta0': 0.3727593720314938})"
      ]
     },
     "execution_count": 407,
     "metadata": {},
     "output_type": "execute_result"
    }
   ],
   "source": [
    "a_values = np.logspace(-7, -4, 8)\n",
    "eta_values = np.logspace(-3, 0, 8)\n",
    "\n",
    "logit_grid_searcher = GridSearchCV(estimator=model_log, \n",
    "                                   param_grid={'alpha': a_values,\n",
    "                                               'eta0': eta_values},\n",
    "                                   scoring='roc_auc', n_jobs=-1, \n",
    "                                   cv=cv_3, verbose=1)\n",
    "logit_grid_searcher.fit(X0, y) \n",
    "logit_grid_searcher.best_score_, logit_grid_searcher.best_params_"
   ]
  },
  {
   "cell_type": "code",
   "execution_count": 408,
   "metadata": {},
   "outputs": [
    {
     "name": "stdout",
     "output_type": "stream",
     "text": [
      "LogReg l2:\t 0.9192527356340181\n"
     ]
    }
   ],
   "source": [
    "model_log.alpha = logit_grid_searcher.best_params_['alpha']\n",
    "model_log.eta0 = logit_grid_searcher.best_params_['eta0']\n",
    "score = cross_val_score(model_log, X0, y, cv=cv, scoring='roc_auc', n_jobs=-1)\n",
    "results = save_score(results, score, 'with drop l1 with best alpha eta0')\n",
    "print('LogReg l2:\\t', score.mean())"
   ]
  },
  {
   "cell_type": "code",
   "execution_count": 412,
   "metadata": {},
   "outputs": [
    {
     "data": {
      "text/html": [
       "<div>\n",
       "<style scoped>\n",
       "    .dataframe tbody tr th:only-of-type {\n",
       "        vertical-align: middle;\n",
       "    }\n",
       "\n",
       "    .dataframe tbody tr th {\n",
       "        vertical-align: top;\n",
       "    }\n",
       "\n",
       "    .dataframe thead th {\n",
       "        text-align: right;\n",
       "    }\n",
       "</style>\n",
       "<table border=\"1\" class=\"dataframe\">\n",
       "  <thead>\n",
       "    <tr style=\"text-align: right;\">\n",
       "      <th></th>\n",
       "      <th>cv1</th>\n",
       "      <th>cv10</th>\n",
       "      <th>cv2</th>\n",
       "      <th>cv3</th>\n",
       "      <th>cv4</th>\n",
       "      <th>cv5</th>\n",
       "      <th>cv6</th>\n",
       "      <th>cv7</th>\n",
       "      <th>cv8</th>\n",
       "      <th>cv9</th>\n",
       "      <th>name</th>\n",
       "      <th>mean</th>\n",
       "      <th>std</th>\n",
       "    </tr>\n",
       "  </thead>\n",
       "  <tbody>\n",
       "    <tr>\n",
       "      <th>0</th>\n",
       "      <td>0.775171</td>\n",
       "      <td>0.896367</td>\n",
       "      <td>0.634997</td>\n",
       "      <td>0.857301</td>\n",
       "      <td>0.941142</td>\n",
       "      <td>0.842988</td>\n",
       "      <td>0.891893</td>\n",
       "      <td>0.925032</td>\n",
       "      <td>0.849500</td>\n",
       "      <td>0.925310</td>\n",
       "      <td>ini</td>\n",
       "      <td>0.853970</td>\n",
       "      <td>0.091460</td>\n",
       "    </tr>\n",
       "    <tr>\n",
       "      <th>1</th>\n",
       "      <td>0.833573</td>\n",
       "      <td>0.953786</td>\n",
       "      <td>0.796885</td>\n",
       "      <td>0.892494</td>\n",
       "      <td>0.967000</td>\n",
       "      <td>0.933728</td>\n",
       "      <td>0.959404</td>\n",
       "      <td>0.933990</td>\n",
       "      <td>0.938251</td>\n",
       "      <td>0.861863</td>\n",
       "      <td>with bin</td>\n",
       "      <td>0.907097</td>\n",
       "      <td>0.058423</td>\n",
       "    </tr>\n",
       "    <tr>\n",
       "      <th>2</th>\n",
       "      <td>0.841377</td>\n",
       "      <td>0.919133</td>\n",
       "      <td>0.762817</td>\n",
       "      <td>0.865406</td>\n",
       "      <td>0.968723</td>\n",
       "      <td>0.900105</td>\n",
       "      <td>0.964528</td>\n",
       "      <td>0.911740</td>\n",
       "      <td>0.897963</td>\n",
       "      <td>0.782779</td>\n",
       "      <td>with bin l1</td>\n",
       "      <td>0.881457</td>\n",
       "      <td>0.069242</td>\n",
       "    </tr>\n",
       "    <tr>\n",
       "      <th>3</th>\n",
       "      <td>0.833573</td>\n",
       "      <td>0.953786</td>\n",
       "      <td>0.796885</td>\n",
       "      <td>0.892494</td>\n",
       "      <td>0.967000</td>\n",
       "      <td>0.933728</td>\n",
       "      <td>0.959404</td>\n",
       "      <td>0.933990</td>\n",
       "      <td>0.938251</td>\n",
       "      <td>0.861863</td>\n",
       "      <td>with bin drop day4 l2</td>\n",
       "      <td>0.907097</td>\n",
       "      <td>0.058423</td>\n",
       "    </tr>\n",
       "    <tr>\n",
       "      <th>4</th>\n",
       "      <td>0.677640</td>\n",
       "      <td>0.867351</td>\n",
       "      <td>0.777560</td>\n",
       "      <td>0.754836</td>\n",
       "      <td>0.670887</td>\n",
       "      <td>0.843664</td>\n",
       "      <td>0.878295</td>\n",
       "      <td>0.912492</td>\n",
       "      <td>0.809410</td>\n",
       "      <td>0.796517</td>\n",
       "      <td>with num ini</td>\n",
       "      <td>0.798865</td>\n",
       "      <td>0.081309</td>\n",
       "    </tr>\n",
       "    <tr>\n",
       "      <th>5</th>\n",
       "      <td>0.827046</td>\n",
       "      <td>0.956737</td>\n",
       "      <td>0.816647</td>\n",
       "      <td>0.903106</td>\n",
       "      <td>0.966363</td>\n",
       "      <td>0.929047</td>\n",
       "      <td>0.962326</td>\n",
       "      <td>0.924670</td>\n",
       "      <td>0.940833</td>\n",
       "      <td>0.865457</td>\n",
       "      <td>with num scaler</td>\n",
       "      <td>0.909223</td>\n",
       "      <td>0.055025</td>\n",
       "    </tr>\n",
       "    <tr>\n",
       "      <th>6</th>\n",
       "      <td>0.817162</td>\n",
       "      <td>0.945239</td>\n",
       "      <td>0.811873</td>\n",
       "      <td>0.896253</td>\n",
       "      <td>0.963278</td>\n",
       "      <td>0.923624</td>\n",
       "      <td>0.959062</td>\n",
       "      <td>0.948230</td>\n",
       "      <td>0.940008</td>\n",
       "      <td>0.870580</td>\n",
       "      <td>with num + log</td>\n",
       "      <td>0.907531</td>\n",
       "      <td>0.056730</td>\n",
       "    </tr>\n",
       "    <tr>\n",
       "      <th>7</th>\n",
       "      <td>0.831995</td>\n",
       "      <td>0.957796</td>\n",
       "      <td>0.815281</td>\n",
       "      <td>0.902738</td>\n",
       "      <td>0.962318</td>\n",
       "      <td>0.929376</td>\n",
       "      <td>0.963218</td>\n",
       "      <td>0.926183</td>\n",
       "      <td>0.941328</td>\n",
       "      <td>0.864314</td>\n",
       "      <td>with num scaler + log scaler</td>\n",
       "      <td>0.909455</td>\n",
       "      <td>0.054432</td>\n",
       "    </tr>\n",
       "    <tr>\n",
       "      <th>8</th>\n",
       "      <td>0.835996</td>\n",
       "      <td>0.953716</td>\n",
       "      <td>0.806217</td>\n",
       "      <td>0.897253</td>\n",
       "      <td>0.956854</td>\n",
       "      <td>0.936430</td>\n",
       "      <td>0.961723</td>\n",
       "      <td>0.922270</td>\n",
       "      <td>0.941894</td>\n",
       "      <td>0.860494</td>\n",
       "      <td>with num scaler + tfidf cat</td>\n",
       "      <td>0.907285</td>\n",
       "      <td>0.055212</td>\n",
       "    </tr>\n",
       "    <tr>\n",
       "      <th>9</th>\n",
       "      <td>0.897428</td>\n",
       "      <td>0.957215</td>\n",
       "      <td>0.809214</td>\n",
       "      <td>0.897799</td>\n",
       "      <td>0.971393</td>\n",
       "      <td>0.925801</td>\n",
       "      <td>0.970297</td>\n",
       "      <td>0.928558</td>\n",
       "      <td>0.949805</td>\n",
       "      <td>0.861612</td>\n",
       "      <td>with num-log scaler+tfidf cat -drop l1</td>\n",
       "      <td>0.916912</td>\n",
       "      <td>0.051791</td>\n",
       "    </tr>\n",
       "    <tr>\n",
       "      <th>10</th>\n",
       "      <td>0.897428</td>\n",
       "      <td>0.957215</td>\n",
       "      <td>0.809214</td>\n",
       "      <td>0.897799</td>\n",
       "      <td>0.971393</td>\n",
       "      <td>0.925801</td>\n",
       "      <td>0.970297</td>\n",
       "      <td>0.928558</td>\n",
       "      <td>0.949805</td>\n",
       "      <td>0.861612</td>\n",
       "      <td>with num-scaler+tfidf cat -drop l1</td>\n",
       "      <td>0.916912</td>\n",
       "      <td>0.051791</td>\n",
       "    </tr>\n",
       "    <tr>\n",
       "      <th>11</th>\n",
       "      <td>0.900255</td>\n",
       "      <td>0.960016</td>\n",
       "      <td>0.820833</td>\n",
       "      <td>0.892823</td>\n",
       "      <td>0.983244</td>\n",
       "      <td>0.925427</td>\n",
       "      <td>0.968468</td>\n",
       "      <td>0.947644</td>\n",
       "      <td>0.949526</td>\n",
       "      <td>0.858026</td>\n",
       "      <td>with drop l1 with best alpha</td>\n",
       "      <td>0.920626</td>\n",
       "      <td>0.052085</td>\n",
       "    </tr>\n",
       "    <tr>\n",
       "      <th>12</th>\n",
       "      <td>0.888263</td>\n",
       "      <td>0.958025</td>\n",
       "      <td>0.815987</td>\n",
       "      <td>0.899796</td>\n",
       "      <td>0.975064</td>\n",
       "      <td>0.923745</td>\n",
       "      <td>0.969416</td>\n",
       "      <td>0.931976</td>\n",
       "      <td>0.951877</td>\n",
       "      <td>0.878378</td>\n",
       "      <td>with drop l1 with best alpha eta0</td>\n",
       "      <td>0.919253</td>\n",
       "      <td>0.049502</td>\n",
       "    </tr>\n",
       "  </tbody>\n",
       "</table>\n",
       "</div>"
      ],
      "text/plain": [
       "         cv1      cv10       cv2       cv3       cv4       cv5       cv6  \\\n",
       "0   0.775171  0.896367  0.634997  0.857301  0.941142  0.842988  0.891893   \n",
       "1   0.833573  0.953786  0.796885  0.892494  0.967000  0.933728  0.959404   \n",
       "2   0.841377  0.919133  0.762817  0.865406  0.968723  0.900105  0.964528   \n",
       "3   0.833573  0.953786  0.796885  0.892494  0.967000  0.933728  0.959404   \n",
       "4   0.677640  0.867351  0.777560  0.754836  0.670887  0.843664  0.878295   \n",
       "5   0.827046  0.956737  0.816647  0.903106  0.966363  0.929047  0.962326   \n",
       "6   0.817162  0.945239  0.811873  0.896253  0.963278  0.923624  0.959062   \n",
       "7   0.831995  0.957796  0.815281  0.902738  0.962318  0.929376  0.963218   \n",
       "8   0.835996  0.953716  0.806217  0.897253  0.956854  0.936430  0.961723   \n",
       "9   0.897428  0.957215  0.809214  0.897799  0.971393  0.925801  0.970297   \n",
       "10  0.897428  0.957215  0.809214  0.897799  0.971393  0.925801  0.970297   \n",
       "11  0.900255  0.960016  0.820833  0.892823  0.983244  0.925427  0.968468   \n",
       "12  0.888263  0.958025  0.815987  0.899796  0.975064  0.923745  0.969416   \n",
       "\n",
       "         cv7       cv8       cv9                                    name  \\\n",
       "0   0.925032  0.849500  0.925310                                     ini   \n",
       "1   0.933990  0.938251  0.861863                                with bin   \n",
       "2   0.911740  0.897963  0.782779                             with bin l1   \n",
       "3   0.933990  0.938251  0.861863                   with bin drop day4 l2   \n",
       "4   0.912492  0.809410  0.796517                            with num ini   \n",
       "5   0.924670  0.940833  0.865457                         with num scaler   \n",
       "6   0.948230  0.940008  0.870580                          with num + log   \n",
       "7   0.926183  0.941328  0.864314            with num scaler + log scaler   \n",
       "8   0.922270  0.941894  0.860494             with num scaler + tfidf cat   \n",
       "9   0.928558  0.949805  0.861612  with num-log scaler+tfidf cat -drop l1   \n",
       "10  0.928558  0.949805  0.861612      with num-scaler+tfidf cat -drop l1   \n",
       "11  0.947644  0.949526  0.858026            with drop l1 with best alpha   \n",
       "12  0.931976  0.951877  0.878378       with drop l1 with best alpha eta0   \n",
       "\n",
       "        mean       std  \n",
       "0   0.853970  0.091460  \n",
       "1   0.907097  0.058423  \n",
       "2   0.881457  0.069242  \n",
       "3   0.907097  0.058423  \n",
       "4   0.798865  0.081309  \n",
       "5   0.909223  0.055025  \n",
       "6   0.907531  0.056730  \n",
       "7   0.909455  0.054432  \n",
       "8   0.907285  0.055212  \n",
       "9   0.916912  0.051791  \n",
       "10  0.916912  0.051791  \n",
       "11  0.920626  0.052085  \n",
       "12  0.919253  0.049502  "
      ]
     },
     "execution_count": 412,
     "metadata": {},
     "output_type": "execute_result"
    }
   ],
   "source": [
    "get_stats_results(results)"
   ]
  },
  {
   "cell_type": "code",
   "execution_count": 418,
   "metadata": {},
   "outputs": [
    {
     "name": "stdout",
     "output_type": "stream",
     "text": [
      "p-val for ttest paired =  0.048765910119086014\n",
      "p-val < 0.05: True \n",
      "classifiers are differ\n"
     ]
    }
   ],
   "source": [
    "get_ttest_rel(8, 12)"
   ]
  },
  {
   "cell_type": "code",
   "execution_count": 420,
   "metadata": {},
   "outputs": [],
   "source": [
    "model_log.alpha = logit_grid_searcher.best_params_['alpha']\n",
    "model_log.eta0 = logit_grid_searcher.best_params_['eta0']\n",
    "model_log.fit(X0, y)\n",
    "pred_log = model_log.predict_proba(X_test0)[:,1]\n",
    "write_to_submission_file(pred_log, 'log3.csv')"
   ]
  },
  {
   "cell_type": "markdown",
   "metadata": {},
   "source": [
    "Public score **0.94341**. vs 0.94292 last public score\n",
    "\n",
    "Мы получили улучшение результатов на кроссвалидации с 0.907097 (мешок сайтов + бинарные признаки) до 0.92 (выборка признаков + тюнинг параметров), но не на тестовой выборке. Это говорит о том, что есть разница между данными на кросс валидации и тестовой выборке.\n",
    "\n",
    "Откатимся назад, до подбора параметров и признаков. Используем все признаки + лог нормированные"
   ]
  },
  {
   "cell_type": "code",
   "execution_count": 421,
   "metadata": {},
   "outputs": [
    {
     "name": "stdout",
     "output_type": "stream",
     "text": [
      "LogReg l2:\t 0.9074430563690352\n"
     ]
    },
    {
     "data": {
      "text/plain": [
       "part_day_morning               -4.562054\n",
       "part_day_evening               -2.330872\n",
       "part_day_day                   -2.129556\n",
       "day_of_week_2                  -2.009697\n",
       "day_of_week_6                  -1.123483\n",
       "day_of_week_5                  -0.702752\n",
       "timedelta_mean_log_sc          -0.304705\n",
       "day_of_week_3                  -0.182666\n",
       "day_of_week_1                  -0.118887\n",
       "nunique_sites_pre_session_sc    0.011971\n",
       "timedelta_std_log_sc            0.061739\n",
       "sites_length_sc                 0.092960\n",
       "n_alice_top>5                   0.126498\n",
       "nunique_sites_sc                0.249868\n",
       "n_tfidf_lst2>5                  0.254504\n",
       "session_duration_log_sc         0.263103\n",
       "n_tfidf_lst3>5                  0.289524\n",
       "n_tfidf_lst1>5                  0.299561\n",
       "day_of_week_0                   0.721152\n",
       "dtype: float64"
      ]
     },
     "metadata": {},
     "output_type": "display_data"
    }
   ],
   "source": [
    "features_all = features_bin + features_num_wo_log_tfidf_sc + \\\n",
    "                features_log_sc + features_tfidf_cat\n",
    "\n",
    "X0, X_test0 = get_all_features(features_all,\n",
    "                               train_df, test_df)\n",
    "\n",
    "model_log = SGDClassifier(loss='log', random_state=2020, n_jobs=-1,\n",
    "                             penalty='l2')\n",
    "score = cross_val_score(model_log, X0, y, cv=cv, scoring='roc_auc', n_jobs=-1)\n",
    "# results = save_score(results, score, 'with num-log scaler+tfidf cat')\n",
    "print('LogReg l2:\\t',score.mean())\n",
    "model_log.fit(X0, y)\n",
    "display(get_weights(model_log, features_all))"
   ]
  },
  {
   "cell_type": "code",
   "execution_count": 221,
   "metadata": {},
   "outputs": [],
   "source": [
    "pred_log = model_log.predict_proba(X_test0)[:,1]\n",
    "write_to_submission_file(pred_log, 'log4.csv') # 0.94447"
   ]
  },
  {
   "cell_type": "markdown",
   "metadata": {},
   "source": [
    "Public score 0.94447 (небольшое улучшение  0.94292)\n",
    "\n",
    "# Посмотрим, как выглядит кросс валидация на данных:"
   ]
  },
  {
   "cell_type": "code",
   "execution_count": null,
   "metadata": {},
   "outputs": [],
   "source": [
    "train_df0 = pd.read_csv(os.path.join(PATH_TO_DATA, 'train_sessions.csv'),\n",
    "                       index_col='session_id')\n",
    "for f in features_time:\n",
    "    train_df0[f] = pd.to_datetime(train_df0[f])"
   ]
  },
  {
   "cell_type": "code",
   "execution_count": 432,
   "metadata": {},
   "outputs": [],
   "source": [
    "def visualize_cv(cv, train_df, y0):\n",
    "    train_alice = []\n",
    "    val_alice = []\n",
    "    # train_df\n",
    "    print('train time max\\t\\t val time min\\t train<val')\n",
    "    for train_idx, val_idx in cv.split(train_df):\n",
    "        X_train, y_train = train_df.iloc[train_idx], y0.iloc[train_idx]\n",
    "        X_val, y_val = train_df.iloc[val_idx], y0.iloc[val_idx]\n",
    "\n",
    "        train_alice.append(y_train.value_counts()[1]/y_train.shape[0])\n",
    "        val_alice.append(y_val.value_counts()[1]/y_val.shape[0])\n",
    "\n",
    "        print(X_train.time1.max(), '\\t',X_val.time1.min(),\n",
    "             X_train.time1.max()< X_val.time1.min(),)    \n",
    "    data = pd.DataFrame({'train': train_alice,\n",
    "                        'val': val_alice})\n",
    "    data.plot(kind='bar');\n",
    "    print('\\ninitial % of Alice samples:', \n",
    "          y.value_counts().iloc[1]/y.shape[0])"
   ]
  },
  {
   "cell_type": "code",
   "execution_count": 433,
   "metadata": {},
   "outputs": [
    {
     "name": "stdout",
     "output_type": "stream",
     "text": [
      "train time max\t\t val time min\t train<val\n",
      "2013-10-12 15:07:16 \t 2013-10-12 15:07:17 True\n",
      "2013-11-25 10:59:35 \t 2013-11-25 10:59:40 True\n",
      "2013-12-18 13:45:29 \t 2013-12-18 13:45:34 True\n",
      "2014-01-22 09:57:50 \t 2014-01-22 09:57:54 True\n",
      "2014-02-04 11:16:58 \t 2014-02-04 11:17:03 True\n",
      "2014-02-20 10:28:06 \t 2014-02-20 10:28:45 True\n",
      "2014-02-27 11:10:06 \t 2014-02-27 11:10:07 True\n",
      "2014-03-19 11:34:16 \t 2014-03-19 11:34:17 True\n",
      "2014-03-26 12:44:24 \t 2014-03-26 12:44:27 True\n",
      "2014-04-04 15:07:24 \t 2014-04-04 15:07:27 True\n",
      "\n",
      "initial % of Alice samples: 0.00905896411514389\n"
     ]
    },
    {
     "data": {
      "image/png": "[encoded data removed]",
      "text/plain": [
       "<Figure size 432x288 with 1 Axes>"
      ]
     },
     "metadata": {},
     "output_type": "display_data"
    }
   ],
   "source": [
    "visualize_cv(cv, train_df, y)"
   ]
  },
  {
   "cell_type": "markdown",
   "metadata": {},
   "source": [
    "Но для сокращения времени обучения для настройки параметров мы использовали кросс валидуцию на 3 фолдах."
   ]
  },
  {
   "cell_type": "code",
   "execution_count": 434,
   "metadata": {},
   "outputs": [
    {
     "name": "stdout",
     "output_type": "stream",
     "text": [
      "train time max\t\t val time min\t train<val\n",
      "2013-12-14 17:18:34 \t 2013-12-14 17:19:42 True\n",
      "2014-02-17 15:14:18 \t 2014-02-17 15:14:30 True\n",
      "2014-03-20 17:17:30 \t 2014-03-20 17:17:33 True\n",
      "\n",
      "initial % of Alice samples: 0.00905896411514389\n"
     ]
    },
    {
     "data": {
      "image/png": "[encoded data removed]",
      "text/plain": [
       "<Figure size 432x288 with 1 Axes>"
      ]
     },
     "metadata": {},
     "output_type": "display_data"
    }
   ],
   "source": [
    "visualize_cv(cv_3, train_df, y)"
   ]
  },
  {
   "cell_type": "markdown",
   "metadata": {},
   "source": [
    "Для двух вариантов кросс валидации наблюдается большой разброс доли объектов для Элис как в трейн, так и в наборе для валидации. Фактически мы каждый раз обучаемся на разных выборках.\n",
    "\n",
    "Вспомним, что ранее мы выявили временную метку, раньеш которой у Элис практически нет объектов. Попробуем удалить все оюъекты раньше этой метки и посмотреть как изменится кросс валидация"
   ]
  },
  {
   "cell_type": "code",
   "execution_count": 426,
   "metadata": {},
   "outputs": [
    {
     "data": {
      "text/plain": [
       "('lost info, %:', 9.319256510267747)"
      ]
     },
     "execution_count": 426,
     "metadata": {},
     "output_type": "execute_result"
    }
   ],
   "source": [
    "TIME_START = pd.Timestamp('2013-11-01')\n",
    "idx = train_df.time1 >= TIME_START\n",
    "'lost info, %:', (train_df.shape[0] - idx.sum())/train_df.shape[0]*100"
   ]
  },
  {
   "cell_type": "code",
   "execution_count": 437,
   "metadata": {},
   "outputs": [],
   "source": [
    "train_df_cut = train_df[idx]\n",
    "y_cut = y[idx]\n",
    "assert train_df_cut.shape[0] == y_cut.shape[0]"
   ]
  },
  {
   "cell_type": "code",
   "execution_count": 454,
   "metadata": {},
   "outputs": [
    {
     "name": "stdout",
     "output_type": "stream",
     "text": [
      "train time max\t\t val time min\t train<val\n",
      "2013-12-13 10:31:08 \t 2013-12-13 10:31:09 True\n",
      "2014-01-27 15:13:55 \t 2014-01-27 15:13:57 True\n",
      "2014-02-20 11:21:19 \t 2014-02-20 11:21:32 True\n",
      "2014-03-17 16:38:37 \t 2014-03-17 16:38:55 True\n",
      "2014-03-28 14:01:54 \t 2014-03-28 14:01:56 True\n",
      "\n",
      "initial % of Alice samples: 0.00905896411514389\n"
     ]
    },
    {
     "data": {
      "image/png": "[encoded data removed]",
      "text/plain": [
       "<Figure size 432x288 with 1 Axes>"
      ]
     },
     "metadata": {},
     "output_type": "display_data"
    }
   ],
   "source": [
    "cv_5 = TimeSeriesSplit(n_splits=5)\n",
    "visualize_cv(cv_5, train_df_cut, y_cut)"
   ]
  },
  {
   "cell_type": "code",
   "execution_count": 469,
   "metadata": {},
   "outputs": [
    {
     "data": {
      "text/plain": [
       "((253561, 48390), (229931, 48390))"
      ]
     },
     "execution_count": 469,
     "metadata": {},
     "output_type": "execute_result"
    }
   ],
   "source": [
    "X_cut = csr_matrix(X0)[idx.values]\n",
    "y_cut = y[idx]\n",
    "assert X_cut.shape[0] == y_cut.shape[0]\n",
    "X0.shape, X_cut.shape"
   ]
  },
  {
   "cell_type": "code",
   "execution_count": 471,
   "metadata": {},
   "outputs": [
    {
     "name": "stdout",
     "output_type": "stream",
     "text": [
      "LogReg l2:\t 0.9106846938651161\n"
     ]
    }
   ],
   "source": [
    "features_all = features_bin + features_num_wo_log_tfidf_sc + \\\n",
    "                features_log_sc + features_tfidf_cat\n",
    "\n",
    "X0, X_test0 = get_all_features(features_all,\n",
    "                               train_df, test_df)\n",
    "model_log = SGDClassifier(loss='log', random_state=2020, n_jobs=-1,\n",
    "                             penalty='l2')\n",
    "score = cross_val_score(model_log, X_cut, y_cut, cv=cv_5, scoring='roc_auc', n_jobs=-1)\n",
    "results = save_score(results, score, 'with num-log scaler+tfidf cat, cv5, wo earlier')\n",
    "print('LogReg l2:\\t',score.mean())"
   ]
  },
  {
   "cell_type": "code",
   "execution_count": 473,
   "metadata": {},
   "outputs": [],
   "source": [
    "model_log.fit(X_cut, y_cut)\n",
    "pred_log = model_log.predict_proba(X_test0)[:,1]\n",
    "write_to_submission_file(pred_log, 'log5.csv') # 0.94755"
   ]
  },
  {
   "cell_type": "code",
   "execution_count": 475,
   "metadata": {},
   "outputs": [
    {
     "name": "stdout",
     "output_type": "stream",
     "text": [
      "Fitting 5 folds for each of 36 candidates, totalling 180 fits\n"
     ]
    },
    {
     "name": "stderr",
     "output_type": "stream",
     "text": [
      "[Parallel(n_jobs=-1)]: Using backend LokyBackend with 4 concurrent workers.\n",
      "[Parallel(n_jobs=-1)]: Done  42 tasks      | elapsed:  1.1min\n",
      "[Parallel(n_jobs=-1)]: Done 180 out of 180 | elapsed:  2.1min finished\n"
     ]
    },
    {
     "data": {
      "text/plain": [
       "(0.9148805710930199, {'alpha': 6.30957344480193e-06, 'eta0': 0.001})"
      ]
     },
     "execution_count": 475,
     "metadata": {},
     "output_type": "execute_result"
    }
   ],
   "source": [
    "a_values = np.logspace(-7, -4, 6)\n",
    "eta_values = np.logspace(-3, 0, 6)\n",
    "\n",
    "logit_grid_searcher = GridSearchCV(estimator=model_log, \n",
    "                                   param_grid={'alpha': a_values,\n",
    "                                               'eta0': eta_values},\n",
    "                                   scoring='roc_auc', n_jobs=-1, \n",
    "                                   cv=cv_5, verbose=1)\n",
    "logit_grid_searcher.fit(X_cut, y_cut) \n",
    "logit_grid_searcher.best_score_, logit_grid_searcher.best_params_"
   ]
  },
  {
   "cell_type": "code",
   "execution_count": 477,
   "metadata": {},
   "outputs": [
    {
     "data": {
      "text/html": [
       "<div>\n",
       "<style scoped>\n",
       "    .dataframe tbody tr th:only-of-type {\n",
       "        vertical-align: middle;\n",
       "    }\n",
       "\n",
       "    .dataframe tbody tr th {\n",
       "        vertical-align: top;\n",
       "    }\n",
       "\n",
       "    .dataframe thead th {\n",
       "        text-align: right;\n",
       "    }\n",
       "</style>\n",
       "<table border=\"1\" class=\"dataframe\">\n",
       "  <thead>\n",
       "    <tr style=\"text-align: right;\">\n",
       "      <th></th>\n",
       "      <th>alpha</th>\n",
       "      <th>eta0</th>\n",
       "    </tr>\n",
       "  </thead>\n",
       "  <tbody>\n",
       "    <tr>\n",
       "      <th>0.910516</th>\n",
       "      <td>0.000025</td>\n",
       "      <td>1.000000</td>\n",
       "    </tr>\n",
       "    <tr>\n",
       "      <th>0.910516</th>\n",
       "      <td>0.000025</td>\n",
       "      <td>0.251189</td>\n",
       "    </tr>\n",
       "    <tr>\n",
       "      <th>0.910516</th>\n",
       "      <td>0.000025</td>\n",
       "      <td>0.063096</td>\n",
       "    </tr>\n",
       "    <tr>\n",
       "      <th>0.910516</th>\n",
       "      <td>0.000025</td>\n",
       "      <td>0.015849</td>\n",
       "    </tr>\n",
       "    <tr>\n",
       "      <th>0.910516</th>\n",
       "      <td>0.000025</td>\n",
       "      <td>0.003981</td>\n",
       "    </tr>\n",
       "    <tr>\n",
       "      <th>0.910516</th>\n",
       "      <td>0.000025</td>\n",
       "      <td>0.001000</td>\n",
       "    </tr>\n",
       "    <tr>\n",
       "      <th>0.910685</th>\n",
       "      <td>0.000100</td>\n",
       "      <td>1.000000</td>\n",
       "    </tr>\n",
       "    <tr>\n",
       "      <th>0.910685</th>\n",
       "      <td>0.000100</td>\n",
       "      <td>0.063096</td>\n",
       "    </tr>\n",
       "    <tr>\n",
       "      <th>0.910685</th>\n",
       "      <td>0.000100</td>\n",
       "      <td>0.015849</td>\n",
       "    </tr>\n",
       "    <tr>\n",
       "      <th>0.910685</th>\n",
       "      <td>0.000100</td>\n",
       "      <td>0.003981</td>\n",
       "    </tr>\n",
       "    <tr>\n",
       "      <th>0.910685</th>\n",
       "      <td>0.000100</td>\n",
       "      <td>0.001000</td>\n",
       "    </tr>\n",
       "    <tr>\n",
       "      <th>0.910685</th>\n",
       "      <td>0.000100</td>\n",
       "      <td>0.251189</td>\n",
       "    </tr>\n",
       "    <tr>\n",
       "      <th>0.911630</th>\n",
       "      <td>0.000002</td>\n",
       "      <td>0.001000</td>\n",
       "    </tr>\n",
       "    <tr>\n",
       "      <th>0.911630</th>\n",
       "      <td>0.000002</td>\n",
       "      <td>1.000000</td>\n",
       "    </tr>\n",
       "    <tr>\n",
       "      <th>0.911630</th>\n",
       "      <td>0.000002</td>\n",
       "      <td>0.251189</td>\n",
       "    </tr>\n",
       "    <tr>\n",
       "      <th>0.911630</th>\n",
       "      <td>0.000002</td>\n",
       "      <td>0.063096</td>\n",
       "    </tr>\n",
       "    <tr>\n",
       "      <th>0.911630</th>\n",
       "      <td>0.000002</td>\n",
       "      <td>0.015849</td>\n",
       "    </tr>\n",
       "    <tr>\n",
       "      <th>0.911630</th>\n",
       "      <td>0.000002</td>\n",
       "      <td>0.003981</td>\n",
       "    </tr>\n",
       "    <tr>\n",
       "      <th>0.914881</th>\n",
       "      <td>0.000006</td>\n",
       "      <td>0.063096</td>\n",
       "    </tr>\n",
       "    <tr>\n",
       "      <th>0.914881</th>\n",
       "      <td>0.000006</td>\n",
       "      <td>0.015849</td>\n",
       "    </tr>\n",
       "    <tr>\n",
       "      <th>0.914881</th>\n",
       "      <td>0.000006</td>\n",
       "      <td>0.003981</td>\n",
       "    </tr>\n",
       "    <tr>\n",
       "      <th>0.914881</th>\n",
       "      <td>0.000006</td>\n",
       "      <td>0.001000</td>\n",
       "    </tr>\n",
       "    <tr>\n",
       "      <th>0.914881</th>\n",
       "      <td>0.000006</td>\n",
       "      <td>0.251189</td>\n",
       "    </tr>\n",
       "    <tr>\n",
       "      <th>0.914881</th>\n",
       "      <td>0.000006</td>\n",
       "      <td>1.000000</td>\n",
       "    </tr>\n",
       "  </tbody>\n",
       "</table>\n",
       "</div>"
      ],
      "text/plain": [
       "             alpha      eta0\n",
       "0.910516  0.000025  1.000000\n",
       "0.910516  0.000025  0.251189\n",
       "0.910516  0.000025  0.063096\n",
       "0.910516  0.000025  0.015849\n",
       "0.910516  0.000025  0.003981\n",
       "0.910516  0.000025  0.001000\n",
       "0.910685  0.000100  1.000000\n",
       "0.910685  0.000100  0.063096\n",
       "0.910685  0.000100  0.015849\n",
       "0.910685  0.000100  0.003981\n",
       "0.910685  0.000100  0.001000\n",
       "0.910685  0.000100  0.251189\n",
       "0.911630  0.000002  0.001000\n",
       "0.911630  0.000002  1.000000\n",
       "0.911630  0.000002  0.251189\n",
       "0.911630  0.000002  0.063096\n",
       "0.911630  0.000002  0.015849\n",
       "0.911630  0.000002  0.003981\n",
       "0.914881  0.000006  0.063096\n",
       "0.914881  0.000006  0.015849\n",
       "0.914881  0.000006  0.003981\n",
       "0.914881  0.000006  0.001000\n",
       "0.914881  0.000006  0.251189\n",
       "0.914881  0.000006  1.000000"
      ]
     },
     "execution_count": 477,
     "metadata": {},
     "output_type": "execute_result"
    }
   ],
   "source": [
    "get_best_scores(logit_grid_searcher, 0.91)"
   ]
  },
  {
   "cell_type": "code",
   "execution_count": 478,
   "metadata": {},
   "outputs": [],
   "source": [
    "model_log.alpha =  logit_grid_searcher.best_params_['alpha']\n",
    "model_log.eta0 = logit_grid_searcher.best_params_['eta0']\n",
    "\n",
    "model_log.fit(X_cut, y_cut)\n",
    "pred_log = model_log.predict_proba(X_test0)[:,1]\n",
    "write_to_submission_file(pred_log, 'log6.csv') #0.94927"
   ]
  },
  {
   "cell_type": "markdown",
   "metadata": {},
   "source": [
    "Не большое увеличение в метрике на крос валидации ведет к небольшому изменению на трейн. Можно предположить, что кросс валидация настроена правильно"
   ]
  },
  {
   "cell_type": "code",
   "execution_count": null,
   "metadata": {},
   "outputs": [],
   "source": []
  }
 ],
 "metadata": {
  "kernelspec": {
   "display_name": "Python 3",
   "language": "python",
   "name": "python3"
  },
  "language_info": {
   "codemirror_mode": {
    "name": "ipython",
    "version": 3
   },
   "file_extension": ".py",
   "mimetype": "text/x-python",
   "name": "python",
   "nbconvert_exporter": "python",
   "pygments_lexer": "ipython3",
   "version": "3.8.3"
  },
  "toc": {
   "base_numbering": 1,
   "nav_menu": {},
   "number_sections": true,
   "sideBar": true,
   "skip_h1_title": false,
   "title_cell": "Table of Contents",
   "title_sidebar": "Contents",
   "toc_cell": false,
   "toc_position": {},
   "toc_section_display": true,
   "toc_window_display": false
  },
  "varInspector": {
   "cols": {
    "lenName": 16,
    "lenType": 16,
    "lenVar": 40
   },
   "kernels_config": {
    "python": {
     "delete_cmd_postfix": "",
     "delete_cmd_prefix": "del ",
     "library": "var_list.py",
     "varRefreshCmd": "print(var_dic_list())"
    },
    "r": {
     "delete_cmd_postfix": ") ",
     "delete_cmd_prefix": "rm(",
     "library": "var_list.r",
     "varRefreshCmd": "cat(var_dic_list()) "
    }
   },
   "types_to_exclude": [
    "module",
    "function",
    "builtin_function_or_method",
    "instance",
    "_Feature"
   ],
   "window_display": false
  }
 },
 "nbformat": 4,
 "nbformat_minor": 4
}
