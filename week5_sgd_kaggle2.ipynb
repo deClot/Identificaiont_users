{
 "cells": [
  {
   "cell_type": "markdown",
   "metadata": {
    "colab_type": "text",
    "id": "BaEDmMO6k4QQ"
   },
   "source": [
    "<center>\n",
    "<img src=\"https://habrastorage.org/web/677/8e1/337/6778e1337c3d4b159d7e99df94227cb2.jpg\"/>\n",
    "## Специализация \"Машинное обучение и анализ данных\"\n",
    "<center>Автор материала: программист-исследователь Mail.Ru Group, старший преподаватель Факультета Компьютерных Наук ВШЭ [Юрий Кашницкий](https://yorko.github.io/)"
   ]
  },
  {
   "cell_type": "markdown",
   "metadata": {
    "colab_type": "text",
    "id": "Y4nW8-O2k4QR"
   },
   "source": [
    "# <center> Capstone проект №1 <br> Идентификация пользователей по посещенным веб-страницам\n",
    "<img src='http://i.istockimg.com/file_thumbview_approve/21546327/5/stock-illustration-21546327-identification-de-l-utilisateur.jpg'>\n",
    "\n",
    "# <center>Неделя 5.  Соревнование Kaggle \"Catch Me If You Can\"\n",
    "\n",
    "На этой неделе мы вспомним про концепцию стохастического градиентного спуска и опробуем классификатор Scikit-learn SGDClassifier, который работает намного быстрее на больших выборках, чем алгоритмы, которые мы тестировали на 4 неделе. Также мы познакомимся с данными [соревнования](https://inclass.kaggle.com/c/catch-me-if-you-can-intruder-detection-through-webpage-session-tracking2) Kaggle по идентификации пользователей и сделаем в нем первые посылки. По итогам этой недели дополнительные баллы получат те, кто попадет в топ-30 публичного лидерборда соревнования.\n",
    "\n",
    "**В этой части проекта Вам могут быть полезны видеозаписи следующих лекций курса \"Обучение на размеченных данных\":**\n",
    "   - [Стохатический градиентный спуск](https://www.coursera.org/learn/supervised-learning/lecture/xRY50/stokhastichieskii-ghradiientnyi-spusk)\n",
    "   - [Линейные модели. Sklearn.linear_model. Классификация](https://www.coursera.org/learn/supervised-learning/lecture/EBg9t/linieinyie-modieli-sklearn-linear-model-klassifikatsiia)\n",
    "   \n",
    "**Также рекомендуется вернуться и просмотреть [задание](https://www.coursera.org/learn/supervised-learning/programming/t2Idc/linieinaia-rieghriessiia-i-stokhastichieskii-ghradiientnyi-spusk) \"Линейная регрессия и стохастический градиентный спуск\" 1 недели 2 курса специализации.**"
   ]
  },
  {
   "cell_type": "markdown",
   "metadata": {
    "colab_type": "text",
    "id": "RCIKBgF2k4QS"
   },
   "source": [
    "### Задание\n",
    "1. Заполните код в этой тетрадке \n",
    "2. Если вы проходите специализацию Яндеса и МФТИ, пошлите тетрадку в соответствующем Peer Review. <br> Если вы проходите курс ODS, выберите ответы в [веб-форме](https://docs.google.com/forms/d/1pLsegkAICL9PzOLyAeH9DmDOBfktte0l8JW75uWcTng). "
   ]
  },
  {
   "cell_type": "code",
   "execution_count": null,
   "metadata": {
    "colab": {},
    "colab_type": "code",
    "id": "tJTvmpsbk4QT"
   },
   "outputs": [],
   "source": [
    "from __future__ import division, print_function\n",
    "# отключим всякие предупреждения Anaconda\n",
    "import warnings\n",
    "warnings.filterwarnings('ignore')\n",
    "import os\n",
    "import pickle\n",
    "import numpy as np\n",
    "import pandas as pd\n",
    "from scipy.sparse import csr_matrix\n",
    "from sklearn.model_selection import train_test_split\n",
    "from sklearn.linear_model import SGDClassifier\n",
    "from sklearn.metrics import roc_auc_score"
   ]
  },
  {
   "cell_type": "markdown",
   "metadata": {
    "colab_type": "text",
    "id": "FoCqCFKak4QX"
   },
   "source": [
    "**Считаем данные [соревнования](https://inclass.kaggle.com/c/catch-me-if-you-can-intruder-detection-through-webpage-session-tracking2) в DataFrame train_df и test_df (обучающая и тестовая выборки).**"
   ]
  },
  {
   "cell_type": "code",
   "execution_count": null,
   "metadata": {
    "colab": {},
    "colab_type": "code",
    "id": "G8c_65W-k4QX"
   },
   "outputs": [],
   "source": [
    "# Поменяйте на свой путь к данным\n",
    "PATH_TO_DATA = 'capstone_user_identification'"
   ]
  },
  {
   "cell_type": "code",
   "execution_count": null,
   "metadata": {
    "colab": {},
    "colab_type": "code",
    "id": "Iu96yC7Sk4Qa"
   },
   "outputs": [],
   "source": [
    "train_df = pd.read_csv(os.path.join(PATH_TO_DATA, 'train_sessions.csv'),\n",
    "                       index_col='session_id')\n",
    "test_df = pd.read_csv(os.path.join(PATH_TO_DATA, 'test_sessions.csv'),\n",
    "                      index_col='session_id')"
   ]
  },
  {
   "cell_type": "code",
   "execution_count": null,
   "metadata": {
    "colab": {},
    "colab_type": "code",
    "id": "attbJivxk4Qd"
   },
   "outputs": [],
   "source": [
    "site_dic = pickle.load(open(os.path.join(PATH_TO_DATA, 'site_dic.pkl'),'rb'))"
   ]
  },
  {
   "cell_type": "code",
   "execution_count": null,
   "metadata": {
    "colab": {},
    "colab_type": "code",
    "id": "tKxDO58wk4Qg",
    "outputId": "13bce776-88c2-4108-9859-f69125393044"
   },
   "outputs": [
    {
     "data": {
      "text/plain": [
       "48371"
      ]
     },
     "execution_count": 5,
     "metadata": {
      "tags": []
     },
     "output_type": "execute_result"
    }
   ],
   "source": [
    "len(site_dic)"
   ]
  },
  {
   "cell_type": "code",
   "execution_count": null,
   "metadata": {
    "colab": {},
    "colab_type": "code",
    "id": "zYJhl8kLk4Qk",
    "outputId": "9cf94ff8-a09c-41e4-8f99-1fac9415dba4"
   },
   "outputs": [
    {
     "data": {
      "text/plain": [
       "((253561, 21), (82797, 20))"
      ]
     },
     "execution_count": 93,
     "metadata": {
      "tags": []
     },
     "output_type": "execute_result"
    }
   ],
   "source": [
    "train_df.shape, test_df.shape"
   ]
  },
  {
   "cell_type": "code",
   "execution_count": null,
   "metadata": {
    "colab": {},
    "colab_type": "code",
    "id": "otYfqjAek4Qn",
    "outputId": "5073094b-cc42-4760-fc46-6da7da447575"
   },
   "outputs": [
    {
     "data": {
      "text/html": [
       "<div>\n",
       "<style scoped>\n",
       "    .dataframe tbody tr th:only-of-type {\n",
       "        vertical-align: middle;\n",
       "    }\n",
       "\n",
       "    .dataframe tbody tr th {\n",
       "        vertical-align: top;\n",
       "    }\n",
       "\n",
       "    .dataframe thead th {\n",
       "        text-align: right;\n",
       "    }\n",
       "</style>\n",
       "<table border=\"1\" class=\"dataframe\">\n",
       "  <thead>\n",
       "    <tr style=\"text-align: right;\">\n",
       "      <th></th>\n",
       "      <th>site1</th>\n",
       "      <th>time1</th>\n",
       "      <th>site2</th>\n",
       "      <th>time2</th>\n",
       "      <th>site3</th>\n",
       "      <th>time3</th>\n",
       "      <th>site4</th>\n",
       "      <th>time4</th>\n",
       "      <th>site5</th>\n",
       "      <th>time5</th>\n",
       "      <th>...</th>\n",
       "      <th>time6</th>\n",
       "      <th>site7</th>\n",
       "      <th>time7</th>\n",
       "      <th>site8</th>\n",
       "      <th>time8</th>\n",
       "      <th>site9</th>\n",
       "      <th>time9</th>\n",
       "      <th>site10</th>\n",
       "      <th>time10</th>\n",
       "      <th>target</th>\n",
       "    </tr>\n",
       "    <tr>\n",
       "      <th>session_id</th>\n",
       "      <th></th>\n",
       "      <th></th>\n",
       "      <th></th>\n",
       "      <th></th>\n",
       "      <th></th>\n",
       "      <th></th>\n",
       "      <th></th>\n",
       "      <th></th>\n",
       "      <th></th>\n",
       "      <th></th>\n",
       "      <th></th>\n",
       "      <th></th>\n",
       "      <th></th>\n",
       "      <th></th>\n",
       "      <th></th>\n",
       "      <th></th>\n",
       "      <th></th>\n",
       "      <th></th>\n",
       "      <th></th>\n",
       "      <th></th>\n",
       "      <th></th>\n",
       "    </tr>\n",
       "  </thead>\n",
       "  <tbody>\n",
       "    <tr>\n",
       "      <th>1</th>\n",
       "      <td>718</td>\n",
       "      <td>2014-02-20 10:02:45</td>\n",
       "      <td>NaN</td>\n",
       "      <td>NaT</td>\n",
       "      <td>NaN</td>\n",
       "      <td>NaT</td>\n",
       "      <td>NaN</td>\n",
       "      <td>NaT</td>\n",
       "      <td>NaN</td>\n",
       "      <td>NaT</td>\n",
       "      <td>...</td>\n",
       "      <td>NaT</td>\n",
       "      <td>NaN</td>\n",
       "      <td>NaT</td>\n",
       "      <td>NaN</td>\n",
       "      <td>NaT</td>\n",
       "      <td>NaN</td>\n",
       "      <td>NaT</td>\n",
       "      <td>NaN</td>\n",
       "      <td>NaT</td>\n",
       "      <td>0</td>\n",
       "    </tr>\n",
       "    <tr>\n",
       "      <th>2</th>\n",
       "      <td>890</td>\n",
       "      <td>2014-02-22 11:19:50</td>\n",
       "      <td>941.0</td>\n",
       "      <td>2014-02-22 11:19:50</td>\n",
       "      <td>3847.0</td>\n",
       "      <td>2014-02-22 11:19:51</td>\n",
       "      <td>941.0</td>\n",
       "      <td>2014-02-22 11:19:51</td>\n",
       "      <td>942.0</td>\n",
       "      <td>2014-02-22 11:19:51</td>\n",
       "      <td>...</td>\n",
       "      <td>2014-02-22 11:19:51</td>\n",
       "      <td>3847.0</td>\n",
       "      <td>2014-02-22 11:19:52</td>\n",
       "      <td>3846.0</td>\n",
       "      <td>2014-02-22 11:19:52</td>\n",
       "      <td>1516.0</td>\n",
       "      <td>2014-02-22 11:20:15</td>\n",
       "      <td>1518.0</td>\n",
       "      <td>2014-02-22 11:20:16</td>\n",
       "      <td>0</td>\n",
       "    </tr>\n",
       "    <tr>\n",
       "      <th>3</th>\n",
       "      <td>14769</td>\n",
       "      <td>2013-12-16 16:40:17</td>\n",
       "      <td>39.0</td>\n",
       "      <td>2013-12-16 16:40:18</td>\n",
       "      <td>14768.0</td>\n",
       "      <td>2013-12-16 16:40:19</td>\n",
       "      <td>14769.0</td>\n",
       "      <td>2013-12-16 16:40:19</td>\n",
       "      <td>37.0</td>\n",
       "      <td>2013-12-16 16:40:19</td>\n",
       "      <td>...</td>\n",
       "      <td>2013-12-16 16:40:19</td>\n",
       "      <td>14768.0</td>\n",
       "      <td>2013-12-16 16:40:20</td>\n",
       "      <td>14768.0</td>\n",
       "      <td>2013-12-16 16:40:21</td>\n",
       "      <td>14768.0</td>\n",
       "      <td>2013-12-16 16:40:22</td>\n",
       "      <td>14768.0</td>\n",
       "      <td>2013-12-16 16:40:24</td>\n",
       "      <td>0</td>\n",
       "    </tr>\n",
       "    <tr>\n",
       "      <th>4</th>\n",
       "      <td>782</td>\n",
       "      <td>2014-03-28 10:52:12</td>\n",
       "      <td>782.0</td>\n",
       "      <td>2014-03-28 10:52:42</td>\n",
       "      <td>782.0</td>\n",
       "      <td>2014-03-28 10:53:12</td>\n",
       "      <td>782.0</td>\n",
       "      <td>2014-03-28 10:53:42</td>\n",
       "      <td>782.0</td>\n",
       "      <td>2014-03-28 10:54:12</td>\n",
       "      <td>...</td>\n",
       "      <td>2014-03-28 10:54:42</td>\n",
       "      <td>782.0</td>\n",
       "      <td>2014-03-28 10:55:12</td>\n",
       "      <td>782.0</td>\n",
       "      <td>2014-03-28 10:55:42</td>\n",
       "      <td>782.0</td>\n",
       "      <td>2014-03-28 10:56:12</td>\n",
       "      <td>782.0</td>\n",
       "      <td>2014-03-28 10:56:42</td>\n",
       "      <td>0</td>\n",
       "    </tr>\n",
       "    <tr>\n",
       "      <th>5</th>\n",
       "      <td>22</td>\n",
       "      <td>2014-02-28 10:53:05</td>\n",
       "      <td>177.0</td>\n",
       "      <td>2014-02-28 10:55:22</td>\n",
       "      <td>175.0</td>\n",
       "      <td>2014-02-28 10:55:22</td>\n",
       "      <td>178.0</td>\n",
       "      <td>2014-02-28 10:55:23</td>\n",
       "      <td>177.0</td>\n",
       "      <td>2014-02-28 10:55:23</td>\n",
       "      <td>...</td>\n",
       "      <td>2014-02-28 10:55:59</td>\n",
       "      <td>175.0</td>\n",
       "      <td>2014-02-28 10:55:59</td>\n",
       "      <td>177.0</td>\n",
       "      <td>2014-02-28 10:55:59</td>\n",
       "      <td>177.0</td>\n",
       "      <td>2014-02-28 10:57:06</td>\n",
       "      <td>178.0</td>\n",
       "      <td>2014-02-28 10:57:11</td>\n",
       "      <td>0</td>\n",
       "    </tr>\n",
       "  </tbody>\n",
       "</table>\n",
       "<p>5 rows × 21 columns</p>\n",
       "</div>"
      ],
      "text/plain": [
       "            site1               time1  site2               time2    site3  \\\n",
       "session_id                                                                  \n",
       "1             718 2014-02-20 10:02:45    NaN                 NaT      NaN   \n",
       "2             890 2014-02-22 11:19:50  941.0 2014-02-22 11:19:50   3847.0   \n",
       "3           14769 2013-12-16 16:40:17   39.0 2013-12-16 16:40:18  14768.0   \n",
       "4             782 2014-03-28 10:52:12  782.0 2014-03-28 10:52:42    782.0   \n",
       "5              22 2014-02-28 10:53:05  177.0 2014-02-28 10:55:22    175.0   \n",
       "\n",
       "                         time3    site4               time4  site5  \\\n",
       "session_id                                                           \n",
       "1                          NaT      NaN                 NaT    NaN   \n",
       "2          2014-02-22 11:19:51    941.0 2014-02-22 11:19:51  942.0   \n",
       "3          2013-12-16 16:40:19  14769.0 2013-12-16 16:40:19   37.0   \n",
       "4          2014-03-28 10:53:12    782.0 2014-03-28 10:53:42  782.0   \n",
       "5          2014-02-28 10:55:22    178.0 2014-02-28 10:55:23  177.0   \n",
       "\n",
       "                         time5  ...               time6    site7  \\\n",
       "session_id                      ...                                \n",
       "1                          NaT  ...                 NaT      NaN   \n",
       "2          2014-02-22 11:19:51  ... 2014-02-22 11:19:51   3847.0   \n",
       "3          2013-12-16 16:40:19  ... 2013-12-16 16:40:19  14768.0   \n",
       "4          2014-03-28 10:54:12  ... 2014-03-28 10:54:42    782.0   \n",
       "5          2014-02-28 10:55:23  ... 2014-02-28 10:55:59    175.0   \n",
       "\n",
       "                         time7    site8               time8    site9  \\\n",
       "session_id                                                             \n",
       "1                          NaT      NaN                 NaT      NaN   \n",
       "2          2014-02-22 11:19:52   3846.0 2014-02-22 11:19:52   1516.0   \n",
       "3          2013-12-16 16:40:20  14768.0 2013-12-16 16:40:21  14768.0   \n",
       "4          2014-03-28 10:55:12    782.0 2014-03-28 10:55:42    782.0   \n",
       "5          2014-02-28 10:55:59    177.0 2014-02-28 10:55:59    177.0   \n",
       "\n",
       "                         time9   site10              time10 target  \n",
       "session_id                                                          \n",
       "1                          NaT      NaN                 NaT      0  \n",
       "2          2014-02-22 11:20:15   1518.0 2014-02-22 11:20:16      0  \n",
       "3          2013-12-16 16:40:22  14768.0 2013-12-16 16:40:24      0  \n",
       "4          2014-03-28 10:56:12    782.0 2014-03-28 10:56:42      0  \n",
       "5          2014-02-28 10:57:06    178.0 2014-02-28 10:57:11      0  \n",
       "\n",
       "[5 rows x 21 columns]"
      ]
     },
     "execution_count": 94,
     "metadata": {
      "tags": []
     },
     "output_type": "execute_result"
    }
   ],
   "source": [
    "train_df.head()"
   ]
  },
  {
   "cell_type": "markdown",
   "metadata": {
    "colab_type": "text",
    "id": "TfK4267ck4Qq"
   },
   "source": [
    "**Объединим обучающую и тестовую выборки – это понадобится, чтоб вместе потом привести их к разреженному формату.**"
   ]
  },
  {
   "cell_type": "code",
   "execution_count": null,
   "metadata": {
    "colab": {},
    "colab_type": "code",
    "id": "zziuDB_4k4Qr"
   },
   "outputs": [],
   "source": [
    "train_test_df = pd.concat([train_df, test_df])"
   ]
  },
  {
   "cell_type": "markdown",
   "metadata": {
    "colab_type": "text",
    "id": "9lAEz790k4Qt"
   },
   "source": [
    "В обучающей выборке видим следующие признаки:\n",
    "    - site1 – индекс первого посещенного сайта в сессии\n",
    "    - time1 – время посещения первого сайта в сессии\n",
    "    - ...\n",
    "    - site10 – индекс 10-го посещенного сайта в сессии\n",
    "    - time10 – время посещения 10-го сайта в сессии\n",
    "    - user_id – ID пользователя\n",
    "    \n",
    "Сессии пользователей выделены таким образом, что они не могут быть длинее получаса или 10 сайтов. То есть сессия считается оконченной либо когда пользователь посетил 10 сайтов подряд, либо когда сессия заняла по времени более 30 минут. "
   ]
  },
  {
   "cell_type": "markdown",
   "metadata": {
    "colab_type": "text",
    "id": "BcaLmUdUk4Qu"
   },
   "source": [
    "**Посмотрим на статистику признаков.**\n",
    "\n",
    "Пропуски возникают там, где сессии короткие (менее 10 сайтов). Скажем, если человек 1 января 2015 года посетил *vk.com* в 20:01, потом *yandex.ru* в 20:29, затем *google.com* в 20:33, то первая его сессия будет состоять только из двух сайтов (site1 – ID сайта *vk.com*, time1 – 2015-01-01 20:01:00, site2 – ID сайта  *yandex.ru*, time2 – 2015-01-01 20:29:00, остальные признаки – NaN), а начиная с *google.com* пойдет новая сессия, потому что уже прошло более 30 минут с момента посещения *vk.com*."
   ]
  },
  {
   "cell_type": "code",
   "execution_count": null,
   "metadata": {
    "colab": {},
    "colab_type": "code",
    "id": "8DtCh4dtk4Qu",
    "outputId": "13335baa-2a9b-4f14-d2b6-6cada3fe4c51"
   },
   "outputs": [
    {
     "name": "stdout",
     "output_type": "stream",
     "text": [
      "<class 'pandas.core.frame.DataFrame'>\n",
      "Int64Index: 253561 entries, 1 to 253561\n",
      "Data columns (total 21 columns):\n",
      "site1     253561 non-null int64\n",
      "time1     253561 non-null object\n",
      "site2     250098 non-null float64\n",
      "time2     250098 non-null object\n",
      "site3     246919 non-null float64\n",
      "time3     246919 non-null object\n",
      "site4     244321 non-null float64\n",
      "time4     244321 non-null object\n",
      "site5     241829 non-null float64\n",
      "time5     241829 non-null object\n",
      "site6     239495 non-null float64\n",
      "time6     239495 non-null object\n",
      "site7     237297 non-null float64\n",
      "time7     237297 non-null object\n",
      "site8     235224 non-null float64\n",
      "time8     235224 non-null object\n",
      "site9     233084 non-null float64\n",
      "time9     233084 non-null object\n",
      "site10    231052 non-null float64\n",
      "time10    231052 non-null object\n",
      "target    253561 non-null int64\n",
      "dtypes: float64(9), int64(2), object(10)\n",
      "memory usage: 42.6+ MB\n"
     ]
    }
   ],
   "source": [
    "train_df.info()"
   ]
  },
  {
   "cell_type": "code",
   "execution_count": null,
   "metadata": {
    "colab": {},
    "colab_type": "code",
    "id": "BEI-JVe-k4Qx",
    "outputId": "95d1d246-922f-48bc-bd64-fbf1a2705c65"
   },
   "outputs": [
    {
     "data": {
      "text/html": [
       "<div>\n",
       "<style scoped>\n",
       "    .dataframe tbody tr th:only-of-type {\n",
       "        vertical-align: middle;\n",
       "    }\n",
       "\n",
       "    .dataframe tbody tr th {\n",
       "        vertical-align: top;\n",
       "    }\n",
       "\n",
       "    .dataframe thead th {\n",
       "        text-align: right;\n",
       "    }\n",
       "</style>\n",
       "<table border=\"1\" class=\"dataframe\">\n",
       "  <thead>\n",
       "    <tr style=\"text-align: right;\">\n",
       "      <th></th>\n",
       "      <th>site1</th>\n",
       "      <th>time1</th>\n",
       "      <th>site2</th>\n",
       "      <th>time2</th>\n",
       "      <th>site3</th>\n",
       "      <th>time3</th>\n",
       "      <th>site4</th>\n",
       "      <th>time4</th>\n",
       "      <th>site5</th>\n",
       "      <th>time5</th>\n",
       "      <th>site6</th>\n",
       "      <th>time6</th>\n",
       "      <th>site7</th>\n",
       "      <th>time7</th>\n",
       "      <th>site8</th>\n",
       "      <th>time8</th>\n",
       "      <th>site9</th>\n",
       "      <th>time9</th>\n",
       "      <th>site10</th>\n",
       "      <th>time10</th>\n",
       "    </tr>\n",
       "    <tr>\n",
       "      <th>session_id</th>\n",
       "      <th></th>\n",
       "      <th></th>\n",
       "      <th></th>\n",
       "      <th></th>\n",
       "      <th></th>\n",
       "      <th></th>\n",
       "      <th></th>\n",
       "      <th></th>\n",
       "      <th></th>\n",
       "      <th></th>\n",
       "      <th></th>\n",
       "      <th></th>\n",
       "      <th></th>\n",
       "      <th></th>\n",
       "      <th></th>\n",
       "      <th></th>\n",
       "      <th></th>\n",
       "      <th></th>\n",
       "      <th></th>\n",
       "      <th></th>\n",
       "    </tr>\n",
       "  </thead>\n",
       "  <tbody>\n",
       "    <tr>\n",
       "      <th>1</th>\n",
       "      <td>29</td>\n",
       "      <td>2014-10-04 11:19:53</td>\n",
       "      <td>35.0</td>\n",
       "      <td>2014-10-04 11:19:53</td>\n",
       "      <td>22.0</td>\n",
       "      <td>2014-10-04 11:19:54</td>\n",
       "      <td>321.0</td>\n",
       "      <td>2014-10-04 11:19:54</td>\n",
       "      <td>23.0</td>\n",
       "      <td>2014-10-04 11:19:54</td>\n",
       "      <td>2211.0</td>\n",
       "      <td>2014-10-04 11:19:54</td>\n",
       "      <td>6730.0</td>\n",
       "      <td>2014-10-04 11:19:54</td>\n",
       "      <td>21.0</td>\n",
       "      <td>2014-10-04 11:19:54</td>\n",
       "      <td>44582.0</td>\n",
       "      <td>2014-10-04 11:20:00</td>\n",
       "      <td>15336.0</td>\n",
       "      <td>2014-10-04 11:20:00</td>\n",
       "    </tr>\n",
       "    <tr>\n",
       "      <th>2</th>\n",
       "      <td>782</td>\n",
       "      <td>2014-07-03 11:00:28</td>\n",
       "      <td>782.0</td>\n",
       "      <td>2014-07-03 11:00:53</td>\n",
       "      <td>782.0</td>\n",
       "      <td>2014-07-03 11:00:58</td>\n",
       "      <td>782.0</td>\n",
       "      <td>2014-07-03 11:01:06</td>\n",
       "      <td>782.0</td>\n",
       "      <td>2014-07-03 11:01:09</td>\n",
       "      <td>782.0</td>\n",
       "      <td>2014-07-03 11:01:10</td>\n",
       "      <td>782.0</td>\n",
       "      <td>2014-07-03 11:01:23</td>\n",
       "      <td>782.0</td>\n",
       "      <td>2014-07-03 11:01:29</td>\n",
       "      <td>782.0</td>\n",
       "      <td>2014-07-03 11:01:30</td>\n",
       "      <td>782.0</td>\n",
       "      <td>2014-07-03 11:01:53</td>\n",
       "    </tr>\n",
       "    <tr>\n",
       "      <th>3</th>\n",
       "      <td>55</td>\n",
       "      <td>2014-12-05 15:55:12</td>\n",
       "      <td>55.0</td>\n",
       "      <td>2014-12-05 15:55:13</td>\n",
       "      <td>55.0</td>\n",
       "      <td>2014-12-05 15:55:14</td>\n",
       "      <td>55.0</td>\n",
       "      <td>2014-12-05 15:56:15</td>\n",
       "      <td>55.0</td>\n",
       "      <td>2014-12-05 15:56:16</td>\n",
       "      <td>55.0</td>\n",
       "      <td>2014-12-05 15:56:17</td>\n",
       "      <td>55.0</td>\n",
       "      <td>2014-12-05 15:56:18</td>\n",
       "      <td>55.0</td>\n",
       "      <td>2014-12-05 15:56:19</td>\n",
       "      <td>1445.0</td>\n",
       "      <td>2014-12-05 15:56:33</td>\n",
       "      <td>1445.0</td>\n",
       "      <td>2014-12-05 15:56:36</td>\n",
       "    </tr>\n",
       "    <tr>\n",
       "      <th>4</th>\n",
       "      <td>1023</td>\n",
       "      <td>2014-11-04 10:03:19</td>\n",
       "      <td>1022.0</td>\n",
       "      <td>2014-11-04 10:03:19</td>\n",
       "      <td>50.0</td>\n",
       "      <td>2014-11-04 10:03:20</td>\n",
       "      <td>222.0</td>\n",
       "      <td>2014-11-04 10:03:21</td>\n",
       "      <td>202.0</td>\n",
       "      <td>2014-11-04 10:03:21</td>\n",
       "      <td>3374.0</td>\n",
       "      <td>2014-11-04 10:03:22</td>\n",
       "      <td>50.0</td>\n",
       "      <td>2014-11-04 10:03:22</td>\n",
       "      <td>48.0</td>\n",
       "      <td>2014-11-04 10:03:22</td>\n",
       "      <td>48.0</td>\n",
       "      <td>2014-11-04 10:03:23</td>\n",
       "      <td>3374.0</td>\n",
       "      <td>2014-11-04 10:03:23</td>\n",
       "    </tr>\n",
       "    <tr>\n",
       "      <th>5</th>\n",
       "      <td>301</td>\n",
       "      <td>2014-05-16 15:05:31</td>\n",
       "      <td>301.0</td>\n",
       "      <td>2014-05-16 15:05:32</td>\n",
       "      <td>301.0</td>\n",
       "      <td>2014-05-16 15:05:33</td>\n",
       "      <td>66.0</td>\n",
       "      <td>2014-05-16 15:05:39</td>\n",
       "      <td>67.0</td>\n",
       "      <td>2014-05-16 15:05:40</td>\n",
       "      <td>69.0</td>\n",
       "      <td>2014-05-16 15:05:40</td>\n",
       "      <td>70.0</td>\n",
       "      <td>2014-05-16 15:05:40</td>\n",
       "      <td>68.0</td>\n",
       "      <td>2014-05-16 15:05:40</td>\n",
       "      <td>71.0</td>\n",
       "      <td>2014-05-16 15:05:40</td>\n",
       "      <td>167.0</td>\n",
       "      <td>2014-05-16 15:05:44</td>\n",
       "    </tr>\n",
       "  </tbody>\n",
       "</table>\n",
       "</div>"
      ],
      "text/plain": [
       "            site1                time1   site2                time2  site3  \\\n",
       "session_id                                                                   \n",
       "1              29  2014-10-04 11:19:53    35.0  2014-10-04 11:19:53   22.0   \n",
       "2             782  2014-07-03 11:00:28   782.0  2014-07-03 11:00:53  782.0   \n",
       "3              55  2014-12-05 15:55:12    55.0  2014-12-05 15:55:13   55.0   \n",
       "4            1023  2014-11-04 10:03:19  1022.0  2014-11-04 10:03:19   50.0   \n",
       "5             301  2014-05-16 15:05:31   301.0  2014-05-16 15:05:32  301.0   \n",
       "\n",
       "                          time3  site4                time4  site5  \\\n",
       "session_id                                                           \n",
       "1           2014-10-04 11:19:54  321.0  2014-10-04 11:19:54   23.0   \n",
       "2           2014-07-03 11:00:58  782.0  2014-07-03 11:01:06  782.0   \n",
       "3           2014-12-05 15:55:14   55.0  2014-12-05 15:56:15   55.0   \n",
       "4           2014-11-04 10:03:20  222.0  2014-11-04 10:03:21  202.0   \n",
       "5           2014-05-16 15:05:33   66.0  2014-05-16 15:05:39   67.0   \n",
       "\n",
       "                          time5   site6                time6   site7  \\\n",
       "session_id                                                             \n",
       "1           2014-10-04 11:19:54  2211.0  2014-10-04 11:19:54  6730.0   \n",
       "2           2014-07-03 11:01:09   782.0  2014-07-03 11:01:10   782.0   \n",
       "3           2014-12-05 15:56:16    55.0  2014-12-05 15:56:17    55.0   \n",
       "4           2014-11-04 10:03:21  3374.0  2014-11-04 10:03:22    50.0   \n",
       "5           2014-05-16 15:05:40    69.0  2014-05-16 15:05:40    70.0   \n",
       "\n",
       "                          time7  site8                time8    site9  \\\n",
       "session_id                                                             \n",
       "1           2014-10-04 11:19:54   21.0  2014-10-04 11:19:54  44582.0   \n",
       "2           2014-07-03 11:01:23  782.0  2014-07-03 11:01:29    782.0   \n",
       "3           2014-12-05 15:56:18   55.0  2014-12-05 15:56:19   1445.0   \n",
       "4           2014-11-04 10:03:22   48.0  2014-11-04 10:03:22     48.0   \n",
       "5           2014-05-16 15:05:40   68.0  2014-05-16 15:05:40     71.0   \n",
       "\n",
       "                          time9   site10               time10  \n",
       "session_id                                                     \n",
       "1           2014-10-04 11:20:00  15336.0  2014-10-04 11:20:00  \n",
       "2           2014-07-03 11:01:30    782.0  2014-07-03 11:01:53  \n",
       "3           2014-12-05 15:56:33   1445.0  2014-12-05 15:56:36  \n",
       "4           2014-11-04 10:03:23   3374.0  2014-11-04 10:03:23  \n",
       "5           2014-05-16 15:05:40    167.0  2014-05-16 15:05:44  "
      ]
     },
     "execution_count": 9,
     "metadata": {
      "tags": []
     },
     "output_type": "execute_result"
    }
   ],
   "source": [
    "test_df.head()"
   ]
  },
  {
   "cell_type": "code",
   "execution_count": null,
   "metadata": {
    "colab": {},
    "colab_type": "code",
    "id": "oeYY3Gv2k4Q0",
    "outputId": "d63a8cea-514d-42d9-8b50-a06f1a9aa5dc"
   },
   "outputs": [
    {
     "name": "stdout",
     "output_type": "stream",
     "text": [
      "<class 'pandas.core.frame.DataFrame'>\n",
      "Int64Index: 82797 entries, 1 to 82797\n",
      "Data columns (total 20 columns):\n",
      "site1     82797 non-null int64\n",
      "time1     82797 non-null object\n",
      "site2     81308 non-null float64\n",
      "time2     81308 non-null object\n",
      "site3     80075 non-null float64\n",
      "time3     80075 non-null object\n",
      "site4     79182 non-null float64\n",
      "time4     79182 non-null object\n",
      "site5     78341 non-null float64\n",
      "time5     78341 non-null object\n",
      "site6     77566 non-null float64\n",
      "time6     77566 non-null object\n",
      "site7     76840 non-null float64\n",
      "time7     76840 non-null object\n",
      "site8     76151 non-null float64\n",
      "time8     76151 non-null object\n",
      "site9     75484 non-null float64\n",
      "time9     75484 non-null object\n",
      "site10    74806 non-null float64\n",
      "time10    74806 non-null object\n",
      "dtypes: float64(9), int64(1), object(10)\n",
      "memory usage: 13.3+ MB\n"
     ]
    }
   ],
   "source": [
    "test_df.info()"
   ]
  },
  {
   "cell_type": "markdown",
   "metadata": {
    "colab_type": "text",
    "id": "eI7kzJrQk4Q3"
   },
   "source": [
    "**В обучающей выборке – 2297 сессий одного пользователя (Alice) и 251264 сессий – других пользователей, не Элис. Дисбаланс классов очень сильный, и смотреть на долю верных ответов (accuracy) непоказательно.**"
   ]
  },
  {
   "cell_type": "code",
   "execution_count": null,
   "metadata": {
    "colab": {},
    "colab_type": "code",
    "id": "_B_8HfiVk4Q4",
    "outputId": "97a4a3d6-e22b-4261-a975-cc0c6ec7d9c9"
   },
   "outputs": [
    {
     "data": {
      "text/plain": [
       "0    251264\n",
       "1      2297\n",
       "Name: target, dtype: int64"
      ]
     },
     "execution_count": 11,
     "metadata": {
      "tags": []
     },
     "output_type": "execute_result"
    }
   ],
   "source": [
    "train_df['target'].value_counts()"
   ]
  },
  {
   "cell_type": "markdown",
   "metadata": {
    "colab_type": "text",
    "id": "KrXhEfm3k4Q6"
   },
   "source": [
    "**Пока для прогноза будем использовать только индексы посещенных сайтов. Индексы нумеровались с 1, так что заменим пропуски на нули.**"
   ]
  },
  {
   "cell_type": "code",
   "execution_count": null,
   "metadata": {
    "colab": {},
    "colab_type": "code",
    "id": "U9I-Ldq6k4Q7"
   },
   "outputs": [],
   "source": [
    "train_test_df_sites = train_test_df[['site%d' % i for i in range(1, 11)]].fillna(0).astype('int')"
   ]
  },
  {
   "cell_type": "code",
   "execution_count": null,
   "metadata": {
    "colab": {},
    "colab_type": "code",
    "id": "arrtjCdRk4Q9",
    "outputId": "5e703e53-b6ca-4ef5-e78f-9d530cf307b9"
   },
   "outputs": [
    {
     "data": {
      "text/html": [
       "<div>\n",
       "<style scoped>\n",
       "    .dataframe tbody tr th:only-of-type {\n",
       "        vertical-align: middle;\n",
       "    }\n",
       "\n",
       "    .dataframe tbody tr th {\n",
       "        vertical-align: top;\n",
       "    }\n",
       "\n",
       "    .dataframe thead th {\n",
       "        text-align: right;\n",
       "    }\n",
       "</style>\n",
       "<table border=\"1\" class=\"dataframe\">\n",
       "  <thead>\n",
       "    <tr style=\"text-align: right;\">\n",
       "      <th></th>\n",
       "      <th>site1</th>\n",
       "      <th>site2</th>\n",
       "      <th>site3</th>\n",
       "      <th>site4</th>\n",
       "      <th>site5</th>\n",
       "      <th>site6</th>\n",
       "      <th>site7</th>\n",
       "      <th>site8</th>\n",
       "      <th>site9</th>\n",
       "      <th>site10</th>\n",
       "    </tr>\n",
       "    <tr>\n",
       "      <th>session_id</th>\n",
       "      <th></th>\n",
       "      <th></th>\n",
       "      <th></th>\n",
       "      <th></th>\n",
       "      <th></th>\n",
       "      <th></th>\n",
       "      <th></th>\n",
       "      <th></th>\n",
       "      <th></th>\n",
       "      <th></th>\n",
       "    </tr>\n",
       "  </thead>\n",
       "  <tbody>\n",
       "    <tr>\n",
       "      <th>1</th>\n",
       "      <td>718</td>\n",
       "      <td>0</td>\n",
       "      <td>0</td>\n",
       "      <td>0</td>\n",
       "      <td>0</td>\n",
       "      <td>0</td>\n",
       "      <td>0</td>\n",
       "      <td>0</td>\n",
       "      <td>0</td>\n",
       "      <td>0</td>\n",
       "    </tr>\n",
       "    <tr>\n",
       "      <th>2</th>\n",
       "      <td>890</td>\n",
       "      <td>941</td>\n",
       "      <td>3847</td>\n",
       "      <td>941</td>\n",
       "      <td>942</td>\n",
       "      <td>3846</td>\n",
       "      <td>3847</td>\n",
       "      <td>3846</td>\n",
       "      <td>1516</td>\n",
       "      <td>1518</td>\n",
       "    </tr>\n",
       "    <tr>\n",
       "      <th>3</th>\n",
       "      <td>14769</td>\n",
       "      <td>39</td>\n",
       "      <td>14768</td>\n",
       "      <td>14769</td>\n",
       "      <td>37</td>\n",
       "      <td>39</td>\n",
       "      <td>14768</td>\n",
       "      <td>14768</td>\n",
       "      <td>14768</td>\n",
       "      <td>14768</td>\n",
       "    </tr>\n",
       "    <tr>\n",
       "      <th>4</th>\n",
       "      <td>782</td>\n",
       "      <td>782</td>\n",
       "      <td>782</td>\n",
       "      <td>782</td>\n",
       "      <td>782</td>\n",
       "      <td>782</td>\n",
       "      <td>782</td>\n",
       "      <td>782</td>\n",
       "      <td>782</td>\n",
       "      <td>782</td>\n",
       "    </tr>\n",
       "    <tr>\n",
       "      <th>5</th>\n",
       "      <td>22</td>\n",
       "      <td>177</td>\n",
       "      <td>175</td>\n",
       "      <td>178</td>\n",
       "      <td>177</td>\n",
       "      <td>178</td>\n",
       "      <td>175</td>\n",
       "      <td>177</td>\n",
       "      <td>177</td>\n",
       "      <td>178</td>\n",
       "    </tr>\n",
       "    <tr>\n",
       "      <th>6</th>\n",
       "      <td>570</td>\n",
       "      <td>21</td>\n",
       "      <td>570</td>\n",
       "      <td>21</td>\n",
       "      <td>21</td>\n",
       "      <td>0</td>\n",
       "      <td>0</td>\n",
       "      <td>0</td>\n",
       "      <td>0</td>\n",
       "      <td>0</td>\n",
       "    </tr>\n",
       "    <tr>\n",
       "      <th>7</th>\n",
       "      <td>803</td>\n",
       "      <td>23</td>\n",
       "      <td>5956</td>\n",
       "      <td>17513</td>\n",
       "      <td>37</td>\n",
       "      <td>21</td>\n",
       "      <td>803</td>\n",
       "      <td>17514</td>\n",
       "      <td>17514</td>\n",
       "      <td>17514</td>\n",
       "    </tr>\n",
       "    <tr>\n",
       "      <th>8</th>\n",
       "      <td>22</td>\n",
       "      <td>21</td>\n",
       "      <td>29</td>\n",
       "      <td>5041</td>\n",
       "      <td>14422</td>\n",
       "      <td>23</td>\n",
       "      <td>21</td>\n",
       "      <td>5041</td>\n",
       "      <td>14421</td>\n",
       "      <td>14421</td>\n",
       "    </tr>\n",
       "    <tr>\n",
       "      <th>9</th>\n",
       "      <td>668</td>\n",
       "      <td>940</td>\n",
       "      <td>942</td>\n",
       "      <td>941</td>\n",
       "      <td>941</td>\n",
       "      <td>942</td>\n",
       "      <td>940</td>\n",
       "      <td>23</td>\n",
       "      <td>21</td>\n",
       "      <td>22</td>\n",
       "    </tr>\n",
       "    <tr>\n",
       "      <th>10</th>\n",
       "      <td>3700</td>\n",
       "      <td>229</td>\n",
       "      <td>570</td>\n",
       "      <td>21</td>\n",
       "      <td>229</td>\n",
       "      <td>21</td>\n",
       "      <td>21</td>\n",
       "      <td>21</td>\n",
       "      <td>2336</td>\n",
       "      <td>2044</td>\n",
       "    </tr>\n",
       "  </tbody>\n",
       "</table>\n",
       "</div>"
      ],
      "text/plain": [
       "            site1  site2  site3  site4  site5  site6  site7  site8  site9  \\\n",
       "session_id                                                                  \n",
       "1             718      0      0      0      0      0      0      0      0   \n",
       "2             890    941   3847    941    942   3846   3847   3846   1516   \n",
       "3           14769     39  14768  14769     37     39  14768  14768  14768   \n",
       "4             782    782    782    782    782    782    782    782    782   \n",
       "5              22    177    175    178    177    178    175    177    177   \n",
       "6             570     21    570     21     21      0      0      0      0   \n",
       "7             803     23   5956  17513     37     21    803  17514  17514   \n",
       "8              22     21     29   5041  14422     23     21   5041  14421   \n",
       "9             668    940    942    941    941    942    940     23     21   \n",
       "10           3700    229    570     21    229     21     21     21   2336   \n",
       "\n",
       "            site10  \n",
       "session_id          \n",
       "1                0  \n",
       "2             1518  \n",
       "3            14768  \n",
       "4              782  \n",
       "5              178  \n",
       "6                0  \n",
       "7            17514  \n",
       "8            14421  \n",
       "9               22  \n",
       "10            2044  "
      ]
     },
     "execution_count": 13,
     "metadata": {
      "tags": []
     },
     "output_type": "execute_result"
    }
   ],
   "source": [
    "train_test_df_sites.head(10)"
   ]
  },
  {
   "cell_type": "markdown",
   "metadata": {
    "colab_type": "text",
    "id": "OWlwOtg2k4RA"
   },
   "source": [
    "**Создайте разреженные матрицы *X_train_sparse* и *X_test_sparse* аналогично тому, как мы это делали ранее. Используйте объединенную матрицу *train_test_df_sites*, потом разделите обратно на обучающую и тестовую части.**\n",
    "\n",
    "Обратите внимание на то, что в  сессиях меньше 10 сайтов  у нас остались нули, так что первый признак (сколько раз попался 0) по смыслу отличен от остальных (сколько раз попался сайт с индексом $i$). Поэтому первый столбец разреженной матрицы надо будет удалить.\n",
    "\n",
    "**Выделите в отдельный вектор *y* ответы на обучающей выборке.**"
   ]
  },
  {
   "cell_type": "code",
   "execution_count": null,
   "metadata": {
    "colab": {},
    "colab_type": "code",
    "id": "6l-bXOnek4RB"
   },
   "outputs": [],
   "source": [
    "def get_sparse(docs):\n",
    "    indptr = [0]\n",
    "    indices = []\n",
    "    data = []\n",
    "    vocabulary = {}\n",
    "    for d in docs:\n",
    "        for term in d:\n",
    "#             if term == 0: continue\n",
    "            index = vocabulary.setdefault(term, term)\n",
    "            indices.append(index)\n",
    "            data.append(1)\n",
    "\n",
    "        indptr.append(len(indices))\n",
    "#     print(indices)\n",
    "    return csr_matrix((data, indices, indptr), dtype=int)[:,1:]"
   ]
  },
  {
   "cell_type": "code",
   "execution_count": null,
   "metadata": {
    "colab": {},
    "colab_type": "code",
    "id": "aWiwlKqZk4RD",
    "outputId": "5116d56b-50a1-4a14-877b-f33b2b31a322"
   },
   "outputs": [
    {
     "name": "stdout",
     "output_type": "stream",
     "text": [
      "CPU times: user 2.35 s, sys: 42.2 ms, total: 2.39 s\n",
      "Wall time: 2.4 s\n"
     ]
    }
   ],
   "source": [
    "%%time\n",
    "train_test_sparse = get_sparse(train_test_df_sites.values)\n",
    "X_train_sparse = train_test_sparse[:train_df.shape[0]]\n",
    "X_test_sparse = train_test_sparse[train_df.shape[0]:]\n",
    "y = train_df.target"
   ]
  },
  {
   "cell_type": "markdown",
   "metadata": {
    "colab_type": "text",
    "id": "iaHqBi0sk4RG"
   },
   "source": [
    "**<font color='red'>Вопрос 1. </font> Выведите размерности матриц *X_train_sparse* и *X_test_sparse* – 4 числа на одной строке через пробел: число строк и столбцов матрицы *X_train_sparse*, затем число строк и столбцов матрицы *X_test_sparse*.**"
   ]
  },
  {
   "cell_type": "code",
   "execution_count": null,
   "metadata": {
    "colab": {},
    "colab_type": "code",
    "id": "BK_Mu4uzk4RH",
    "outputId": "e61e1f1b-4420-48bf-8b1b-3a45e174024a"
   },
   "outputs": [
    {
     "name": "stdout",
     "output_type": "stream",
     "text": [
      "253561 48371 82797 48371\n"
     ]
    }
   ],
   "source": [
    "print(' '.join(map(str, X_train_sparse.shape)),\n",
    "      ' '.join(map(str, X_test_sparse.shape))\n",
    "     )"
   ]
  },
  {
   "cell_type": "markdown",
   "metadata": {
    "colab_type": "text",
    "id": "cQJyibLGk4RJ"
   },
   "source": [
    "**Сохраним в pickle-файлы объекты *X_train_sparse*, *X_test_sparse* и *y* (последний – в файл *kaggle_data/train_target.pkl*).**"
   ]
  },
  {
   "cell_type": "code",
   "execution_count": null,
   "metadata": {
    "colab": {},
    "colab_type": "code",
    "id": "f9_Narogk4RK"
   },
   "outputs": [],
   "source": [
    "with open(os.path.join(PATH_TO_DATA, 'X_train_sparse.pkl'), 'wb') as X_train_sparse_pkl:\n",
    "    pickle.dump(X_train_sparse, X_train_sparse_pkl, protocol=2)\n",
    "with open(os.path.join(PATH_TO_DATA, 'X_test_sparse.pkl'), 'wb') as X_test_sparse_pkl:\n",
    "    pickle.dump(X_test_sparse, X_test_sparse_pkl, protocol=2)\n",
    "with open(os.path.join(PATH_TO_DATA, 'train_target.pkl'), 'wb') as train_target_pkl:\n",
    "    pickle.dump(y, train_target_pkl, protocol=2)"
   ]
  },
  {
   "cell_type": "markdown",
   "metadata": {
    "colab_type": "text",
    "id": "RzvPrtvDk4RM"
   },
   "source": [
    "**Разобьем обучающую выборку на 2 части в пропорции 7/3, причем не перемешивая. Исходные данные упорядочены по времени, тестовая выборка по времени четко отделена от обучающей, это же соблюдем и здесь.**"
   ]
  },
  {
   "cell_type": "code",
   "execution_count": null,
   "metadata": {
    "colab": {},
    "colab_type": "code",
    "id": "RHNYPY6wk4RN"
   },
   "outputs": [],
   "source": [
    "train_share = int(.7 * X_train_sparse.shape[0])\n",
    "X_train, y_train = X_train_sparse[:train_share, :], y[:train_share]\n",
    "X_valid, y_valid  = X_train_sparse[train_share:, :], y[train_share:]"
   ]
  },
  {
   "cell_type": "markdown",
   "metadata": {
    "colab_type": "text",
    "collapsed": true,
    "id": "b-5CNiPzk4RP"
   },
   "source": [
    "**Создайте объект `sklearn.linear_model.SGDClassifier` с логистической функцией потерь и параметром *random_state*=17. Остальные параметры оставьте по умолчанию, разве что *n_jobs*=-1 никогда не помешает. Обучите  модель на выборке `(X_train, y_train)`.**"
   ]
  },
  {
   "cell_type": "code",
   "execution_count": null,
   "metadata": {
    "colab": {},
    "colab_type": "code",
    "id": "MziLld8Dk4RP",
    "outputId": "6a445aca-5bb5-4d27-e858-564ab852d42e"
   },
   "outputs": [
    {
     "data": {
      "text/plain": [
       "<177492x48371 sparse matrix of type '<class 'numpy.int64'>'\n",
       "\twith 1688867 stored elements in Compressed Sparse Row format>"
      ]
     },
     "execution_count": 19,
     "metadata": {
      "tags": []
     },
     "output_type": "execute_result"
    }
   ],
   "source": [
    "X_train"
   ]
  },
  {
   "cell_type": "code",
   "execution_count": null,
   "metadata": {
    "colab": {},
    "colab_type": "code",
    "id": "DDwJPI9Vk4RS"
   },
   "outputs": [],
   "source": [
    "from sklearn.linear_model import SGDClassifier\n",
    "from sklearn.metrics import roc_auc_score"
   ]
  },
  {
   "cell_type": "code",
   "execution_count": null,
   "metadata": {
    "colab": {},
    "colab_type": "code",
    "id": "BVJJ6qOFk4RU",
    "outputId": "4fc0b14f-1a2b-4765-9369-9aca0e3864c6"
   },
   "outputs": [
    {
     "data": {
      "text/plain": [
       "SGDClassifier(alpha=0.0001, average=False, class_weight=None,\n",
       "              early_stopping=False, epsilon=0.1, eta0=0.0, fit_intercept=True,\n",
       "              l1_ratio=0.15, learning_rate='optimal', loss='log', max_iter=1000,\n",
       "              n_iter_no_change=5, n_jobs=-1, penalty='l2', power_t=0.5,\n",
       "              random_state=17, shuffle=True, tol=0.001, validation_fraction=0.1,\n",
       "              verbose=0, warm_start=False)"
      ]
     },
     "execution_count": 21,
     "metadata": {
      "tags": []
     },
     "output_type": "execute_result"
    }
   ],
   "source": [
    "sgd_logit = SGDClassifier(loss='log', random_state=17, n_jobs=-1)\n",
    "sgd_logit.fit(X_train, y_train)"
   ]
  },
  {
   "cell_type": "markdown",
   "metadata": {
    "colab_type": "text",
    "id": "PpIlZ2w9k4RX"
   },
   "source": [
    "**Сделайте прогноз в виде предсказанных вероятностей того, что это сессия Элис, на отложенной выборке *(X_valid, y_valid)*.**"
   ]
  },
  {
   "cell_type": "code",
   "execution_count": null,
   "metadata": {
    "colab": {},
    "colab_type": "code",
    "id": "Thday-rwk4RX",
    "outputId": "1499c788-28b2-48e0-c465-ca608700218b"
   },
   "outputs": [
    {
     "data": {
      "text/plain": [
       "array([[9.11911413e-01, 8.80885865e-02],\n",
       "       [9.99703507e-01, 2.96493343e-04],\n",
       "       [9.99872654e-01, 1.27345522e-04],\n",
       "       ...,\n",
       "       [9.87751880e-01, 1.22481202e-02],\n",
       "       [9.99943934e-01, 5.60663172e-05],\n",
       "       [9.88685254e-01, 1.13147460e-02]])"
      ]
     },
     "execution_count": 22,
     "metadata": {
      "tags": []
     },
     "output_type": "execute_result"
    }
   ],
   "source": [
    "logit_valid_pred_proba = sgd_logit.predict_proba(X_valid)\n",
    "logit_valid_pred_proba"
   ]
  },
  {
   "cell_type": "markdown",
   "metadata": {
    "colab_type": "text",
    "id": "DqrGbtvRk4Rc"
   },
   "source": [
    "**<font color='red'>Вопрос 2. </font> Посчитайте ROC AUC логистической регрессии, обученной с помощью стохастического градиентного спуска, на отложенной выборке. Округлите до 3 знаков после разделителя.**"
   ]
  },
  {
   "cell_type": "code",
   "execution_count": null,
   "metadata": {
    "colab": {},
    "colab_type": "code",
    "id": "oUob9mAqk4Rc",
    "outputId": "105a5eab-0715-4eec-de63-7d130b72f9f9"
   },
   "outputs": [
    {
     "data": {
      "text/plain": [
       "0.934"
      ]
     },
     "execution_count": 23,
     "metadata": {
      "tags": []
     },
     "output_type": "execute_result"
    }
   ],
   "source": [
    "round(roc_auc_score(y_valid, logit_valid_pred_proba[:,1]), 3)"
   ]
  },
  {
   "cell_type": "markdown",
   "metadata": {
    "colab_type": "text",
    "id": "vDRsw2wOk4Rf"
   },
   "source": [
    "**Сделайте прогноз в виде предсказанных вероятностей отнесения к классу 1 для тестовой выборки с помощью той же *sgd_logit*, обученной уже на всей обучающей выборке (а не на 70%).**"
   ]
  },
  {
   "cell_type": "code",
   "execution_count": null,
   "metadata": {
    "colab": {},
    "colab_type": "code",
    "id": "Fb_J9zqjk4Rf",
    "outputId": "331d7f4d-55bf-4db8-ca9c-9b7a2a7a0d02"
   },
   "outputs": [
    {
     "name": "stdout",
     "output_type": "stream",
     "text": [
      "CPU times: user 828 ms, sys: 247 ms, total: 1.07 s\n",
      "Wall time: 748 ms\n"
     ]
    }
   ],
   "source": [
    "%%time\n",
    "sgd_logit.fit(X_train_sparse, y)\n",
    "logit_test_pred_proba = sgd_logit.predict_proba(X_test_sparse)"
   ]
  },
  {
   "cell_type": "markdown",
   "metadata": {
    "colab_type": "text",
    "id": "C2pnntcGk4Ri"
   },
   "source": [
    "**Запишите ответы в файл и сделайте посылку на Kaggle. Дайте своей команде (из одного человека) на Kaggle говорящее название – по шаблону \"[YDF & MIPT] Coursera_Username\", чтоб можно было легко идентифицировать Вашу посылку на [лидерборде](https://inclass.kaggle.com/c/catch-me-if-you-can-intruder-detection-through-webpage-session-tracking2/leaderboard/public).**\n",
    "\n",
    "**Результат, который мы только что получили, соответствует бейзлайну \"SGDCLassifer\" на лидерборде, задача на эту неделю – как минимум его побить.**"
   ]
  },
  {
   "cell_type": "code",
   "execution_count": null,
   "metadata": {
    "colab": {},
    "colab_type": "code",
    "id": "Jdk77lqMk4Ri"
   },
   "outputs": [],
   "source": [
    "def write_to_submission_file(predicted_labels, out_file,\n",
    "                             target='target', index_label=\"session_id\"):\n",
    "    # turn predictions into data frame and save as csv file\n",
    "    predicted_df = pd.DataFrame(predicted_labels,\n",
    "                                index = np.arange(1, predicted_labels.shape[0] + 1),\n",
    "                                columns=[target])\n",
    "    predicted_df.to_csv(out_file, index_label=index_label)"
   ]
  },
  {
   "cell_type": "code",
   "execution_count": null,
   "metadata": {
    "colab": {},
    "colab_type": "code",
    "id": "gvJndVeZk4Rk"
   },
   "outputs": [],
   "source": [
    "write_to_submission_file(logit_test_pred_proba[:,1], 'submit1.csv')"
   ]
  },
  {
   "cell_type": "markdown",
   "metadata": {
    "colab_type": "text",
    "id": "F_MghHl2k4Rn"
   },
   "source": [
    "# Самостоятельная часть\n",
    "## Create new features"
   ]
  },
  {
   "cell_type": "markdown",
   "metadata": {
    "colab_type": "text",
    "id": "dmdWP4wzk4Ro"
   },
   "source": [
    "Public leaderboard = 0.91646"
   ]
  },
  {
   "cell_type": "code",
   "execution_count": null,
   "metadata": {
    "colab": {},
    "colab_type": "code",
    "id": "3xYQ9NDMk4Ro"
   },
   "outputs": [],
   "source": [
    "features_sites = [f for f in train_df.columns if 'site' in f]\n",
    "features_time = [f for f in train_df.columns if 'time' in f]\n",
    "for f in features_time:\n",
    "    train_test_df[f] = pd.to_datetime(train_test_df[f])\n",
    "    train_df[f] = pd.to_datetime(train_df[f])\n",
    "    test_df[f] = pd.to_datetime(test_df[f])"
   ]
  },
  {
   "cell_type": "code",
   "execution_count": null,
   "metadata": {
    "colab": {},
    "colab_type": "code",
    "id": "2t3Q-6ick4Rq"
   },
   "outputs": [],
   "source": [
    "# create initial adding features\n",
    "def create_initial_new_features(data, test=False):\n",
    "    train_df = data.copy()\n",
    "    train_df['nunique_sites'] = train_df[features_sites].nunique(axis=1)\n",
    "    train_df['first_time'] = train_df[features_time].min(axis=1)\n",
    "    train_df['start_hour'] = train_df['first_time'].dt.hour\n",
    "    train_df['day_of_week'] = train_df['first_time'].dt.dayofweek\n",
    "    to_drop = features_time+['first_time'] if test else features_time+['target','first_time']\n",
    "    return train_df, train_df.drop(columns=to_drop).columns.tolist()"
   ]
  },
  {
   "cell_type": "code",
   "execution_count": null,
   "metadata": {
    "colab": {},
    "colab_type": "code",
    "id": "QFy2twG0k4Rt"
   },
   "outputs": [],
   "source": [
    "import IPython\n",
    "\n",
    "def display(*dfs):\n",
    "    for df in dfs:\n",
    "        IPython.display.display(df)"
   ]
  },
  {
   "cell_type": "code",
   "execution_count": null,
   "metadata": {
    "colab": {},
    "colab_type": "code",
    "id": "-kFCx1OLk4Rv"
   },
   "outputs": [],
   "source": [
    "def transform_ini_features(data):\n",
    "    train_df = data.copy()\n",
    "    train_df.reset_index(inplace=True, drop=True)\n",
    "    train_df['part_day'] = pd.cut(x=train_df.start_hour, bins=[0,5,11,18,24],\n",
    "                              include_lowest=True, labels=[0,1,2,3]).astype('int')\n",
    "    temp = pd.get_dummies(train_df.part_day, prefix='part_day')\n",
    "    train_df = train_df.merge(temp, left_index=True, right_index=True)\n",
    "    train_df.part_day = 0\n",
    "    \n",
    "    temp = pd.get_dummies(train_df.day_of_week, prefix='day_of_week')\n",
    "    train_df = train_df.merge(temp, left_index=True, right_index=True)\n",
    "    \n",
    "    return train_df"
   ]
  },
  {
   "cell_type": "code",
   "execution_count": null,
   "metadata": {
    "colab": {},
    "colab_type": "code",
    "id": "iXttuy7qk4Rx"
   },
   "outputs": [],
   "source": [
    "train_df2, features2 = create_initial_new_features(train_test_df)\n",
    "assert train_df2.shape[0] == train_test_df.shape[0]"
   ]
  },
  {
   "cell_type": "code",
   "execution_count": null,
   "metadata": {
    "colab": {},
    "colab_type": "code",
    "id": "vLvM3kYtk4R2"
   },
   "outputs": [],
   "source": [
    "train_df3 = transform_ini_features(train_df2)\n",
    "assert train_df3.shape[0] == train_test_df.shape[0]"
   ]
  },
  {
   "cell_type": "code",
   "execution_count": null,
   "metadata": {
    "colab": {},
    "colab_type": "code",
    "id": "erOOKEF1k4R6",
    "outputId": "260dc5d8-4527-462e-bcd3-088a9170554e"
   },
   "outputs": [
    {
     "data": {
      "text/plain": [
       "['site1',\n",
       " 'site10',\n",
       " 'site2',\n",
       " 'site3',\n",
       " 'site4',\n",
       " 'site5',\n",
       " 'site6',\n",
       " 'site7',\n",
       " 'site8',\n",
       " 'site9',\n",
       " 'target',\n",
       " 'time1',\n",
       " 'time10',\n",
       " 'time2',\n",
       " 'time3',\n",
       " 'time4',\n",
       " 'time5',\n",
       " 'time6',\n",
       " 'time7',\n",
       " 'time8',\n",
       " 'time9',\n",
       " 'nunique_sites',\n",
       " 'first_time',\n",
       " 'start_hour',\n",
       " 'day_of_week',\n",
       " 'part_day',\n",
       " 'part_day_1',\n",
       " 'part_day_2',\n",
       " 'part_day_3',\n",
       " 'day_of_week_0',\n",
       " 'day_of_week_1',\n",
       " 'day_of_week_2',\n",
       " 'day_of_week_3',\n",
       " 'day_of_week_4',\n",
       " 'day_of_week_5',\n",
       " 'day_of_week_6']"
      ]
     },
     "execution_count": 172,
     "metadata": {
      "tags": []
     },
     "output_type": "execute_result"
    }
   ],
   "source": [
    "# train_df3.drop(features_time+['target','first_time'], axis=1, inplace=True)\n",
    "train = train_df3.iloc[:train_df.shape[0]]\n",
    "test = train_df3.iloc[train_df.shape[0]:]\n",
    "train.columns.tolist()"
   ]
  },
  {
   "cell_type": "code",
   "execution_count": null,
   "metadata": {
    "colab": {},
    "colab_type": "code",
    "id": "KKU3QtgLk4R9"
   },
   "outputs": [],
   "source": [
    "import scipy\n",
    "def get_all_features(features, train_df, test_df):\n",
    "    X_train_sparse_2 = hstack((X_train_sparse, train_df[features].values))\n",
    "    X_test_sparse_2 = hstack((X_test_sparse, test_df[features].values))\n",
    "    \n",
    "    return X_train_sparse_2, X_test_sparse_2"
   ]
  },
  {
   "cell_type": "code",
   "execution_count": null,
   "metadata": {
    "colab": {},
    "colab_type": "code",
    "id": "-org4xgUk4R_",
    "outputId": "5fa78065-06f9-4fdf-8c28-d497a953bd7e"
   },
   "outputs": [
    {
     "name": "stdout",
     "output_type": "stream",
     "text": [
      "CPU times: user 114 ms, sys: 6.71 ms, total: 121 ms\n",
      "Wall time: 122 ms\n"
     ]
    }
   ],
   "source": [
    "%%time\n",
    "features_drop = features_sites + features_time + \\\n",
    "                ['target','nunique_sites',\n",
    "                 'first_time', 'start_hour', \n",
    "                 'day_of_week']\n",
    "features = train.drop(columns=features_drop).columns\n",
    "X, X_test = get_all_features(features, train, test)\n",
    "assert X_test_sparse.shape[0] == test.shape[0]"
   ]
  },
  {
   "cell_type": "code",
   "execution_count": null,
   "metadata": {
    "colab": {},
    "colab_type": "code",
    "id": "4iXdeH3Nk4SC",
    "outputId": "7e06377c-e073-4cb0-f11e-1189ac28475e"
   },
   "outputs": [
    {
     "data": {
      "text/plain": [
       "(0.9683302747322946, 0.9774898298308871)"
      ]
     },
     "execution_count": 183,
     "metadata": {
      "tags": []
     },
     "output_type": "execute_result"
    }
   ],
   "source": [
    "from sklearn.model_selection import cross_validate\n",
    "from sklearn.model_selection import TimeSeriesSplit\n",
    "\n",
    "time_split = TimeSeriesSplit(n_splits=3)\n",
    "\n",
    "sgd_logit = SGDClassifier(loss='log', random_state=17, n_jobs=-1)\n",
    "cv = cross_validate(sgd_logit, X, y, cv=time_split, scoring='roc_auc', \n",
    "                     n_jobs=-1, return_train_score=True)\n",
    "\n",
    "cv['test_score'].mean(), cv['train_score'].mean()"
   ]
  },
  {
   "cell_type": "code",
   "execution_count": null,
   "metadata": {
    "colab": {},
    "colab_type": "code",
    "id": "2qdIrWvfk4SF"
   },
   "outputs": [],
   "source": [
    "sgd_logit.fit(X, y)\n",
    "write_to_submission_file(sgd_logit.predict_proba(X_test)[:,1],\n",
    "                         'submit2.scv')"
   ]
  },
  {
   "cell_type": "markdown",
   "metadata": {
    "colab_type": "text",
    "id": "rS4njsqTk4SJ"
   },
   "source": [
    "Public score = 0.94074 better than initial 0.91646"
   ]
  },
  {
   "cell_type": "code",
   "execution_count": null,
   "metadata": {
    "colab": {},
    "colab_type": "code",
    "id": "v4s4WpGZk4SM"
   },
   "outputs": [],
   "source": [
    "def create_new_features(data, alice_top10, test=False):\n",
    "    train_df = data.copy()\n",
    "\n",
    "    train_df['sites_length'] = train_df[features_sites].notna().sum(axis=1)\n",
    "    train_df['nunique_sites_pre_session'] = train_df.nunique_sites/train_df.sites_length    \n",
    "    \n",
    "    timespam_df = train_df[features_time].diff(axis=1)\n",
    "    timespam_df[timespam_df > pd.Timedelta(90000, unit='days')] = 0\n",
    "    timespam_df['sites_length'] = train_df.sites_length\n",
    "    gr = timespam_df.groupby('sites_length')\n",
    "    to_add = gr.apply(lambda x, axis:  x.iloc[:, 1:x.sites_length.iloc[0]]\\\n",
    "                               .mean(axis=1), axis=1)\n",
    "    to_add.index = to_add.index.droplevel(0)\n",
    "    to_add.name = 'timespan_mean'\n",
    "    train_df = train_df.merge(to_add, left_index=True, right_index=True, how='left')\n",
    "    \n",
    "    train_df['n_in_alice_top10'] = train_df[features_sites].isin(alice_top10).sum(axis=1)\n",
    "    \n",
    "    to_drop = features_time+['first_time'] if test else features_time+['target','first_time']\n",
    "    return train_df, train_df.drop(columns=to_drop).columns.tolist()"
   ]
  },
  {
   "cell_type": "code",
   "execution_count": null,
   "metadata": {
    "colab": {},
    "colab_type": "code",
    "id": "g2nIUDUVk4SO",
    "outputId": "b38b4937-9e1a-44ec-e114-72d1041f329c"
   },
   "outputs": [
    {
     "data": {
      "image/png": "[encoded data removed]",
      "text/plain": [
       "<Figure size 432x288 with 1 Axes>"
      ]
     },
     "metadata": {
      "needs_background": "light",
      "tags": []
     },
     "output_type": "display_data"
    }
   ],
   "source": [
    "alice_top = train_df[train_df.target==1]\n",
    "alice_top = alice_top[features_sites].melt()['value'].value_counts()\n",
    "alice_top.plot(kind='hist', bins=1400,  xlim=(0,25))\n",
    "\n",
    "alice_top10 = alice_top.iloc[:10].index.tolist()"
   ]
  },
  {
   "cell_type": "code",
   "execution_count": null,
   "metadata": {
    "colab": {},
    "colab_type": "code",
    "id": "vYfIW5DNk4SS"
   },
   "outputs": [],
   "source": [
    "train_df4, features4 = create_new_features(train_df3, alice_top10)\n",
    "assert train_df4.shape[0] == train_df3.shape[0]"
   ]
  },
  {
   "cell_type": "code",
   "execution_count": null,
   "metadata": {
    "colab": {},
    "colab_type": "code",
    "id": "o5VoFdLdk4SX",
    "outputId": "d7edeb90-6731-49b3-d700-8d3afa1cb9b6"
   },
   "outputs": [
    {
     "data": {
      "text/plain": [
       "['site1',\n",
       " 'site10',\n",
       " 'site2',\n",
       " 'site3',\n",
       " 'site4',\n",
       " 'site5',\n",
       " 'site6',\n",
       " 'site7',\n",
       " 'site8',\n",
       " 'site9',\n",
       " 'target',\n",
       " 'time1',\n",
       " 'time10',\n",
       " 'time2',\n",
       " 'time3',\n",
       " 'time4',\n",
       " 'time5',\n",
       " 'time6',\n",
       " 'time7',\n",
       " 'time8',\n",
       " 'time9',\n",
       " 'nunique_sites',\n",
       " 'first_time',\n",
       " 'start_hour',\n",
       " 'day_of_week',\n",
       " 'part_day',\n",
       " 'part_day_1',\n",
       " 'part_day_2',\n",
       " 'part_day_3',\n",
       " 'day_of_week_0',\n",
       " 'day_of_week_1',\n",
       " 'day_of_week_2',\n",
       " 'day_of_week_3',\n",
       " 'day_of_week_4',\n",
       " 'day_of_week_5',\n",
       " 'day_of_week_6',\n",
       " 'sites_length',\n",
       " 'nunique_sites_pre_session',\n",
       " 'timespan_mean',\n",
       " 'n_in_alice_top10']"
      ]
     },
     "execution_count": 197,
     "metadata": {
      "tags": []
     },
     "output_type": "execute_result"
    }
   ],
   "source": [
    "train_df4.columns.tolist()"
   ]
  },
  {
   "cell_type": "code",
   "execution_count": null,
   "metadata": {
    "colab": {},
    "colab_type": "code",
    "id": "ast7KWl6k4Sa",
    "outputId": "cc77fbe5-5d05-465e-8107-9f9a4d9eb4cf"
   },
   "outputs": [
    {
     "name": "stdout",
     "output_type": "stream",
     "text": [
      "CPU times: user 273 ms, sys: 45.4 ms, total: 319 ms\n",
      "Wall time: 1.63 s\n"
     ]
    },
    {
     "data": {
      "text/plain": [
       "(0.9516510201200298, 0.9531293159216471)"
      ]
     },
     "execution_count": 219,
     "metadata": {
      "tags": []
     },
     "output_type": "execute_result"
    }
   ],
   "source": [
    "%%time\n",
    "train = train_df4.iloc[:train_df.shape[0]]\n",
    "test = train_df4.iloc[train_df.shape[0]:]\n",
    "\n",
    "features_drop = features_sites + features_time + \\\n",
    "                ['target', #'nunique_sites',\n",
    "                 'first_time', 'start_hour', 'day_of_week',\n",
    "#                 'part_day', 'day_of_week_0']\n",
    "                ]\n",
    "features = train.drop(columns=features_drop).columns\n",
    "train[features] = train[features].fillna(0)\n",
    "test[features] = test[features].fillna(0)\n",
    "\n",
    "from sklearn.preprocessing import StandardScaler\n",
    "\n",
    "f = ['timespan_mean']\n",
    "st_sc = StandardScaler()\n",
    "st_sc.fit(train_df4[f])\n",
    "train[f] = st_sc.transform(train[f])\n",
    "test[f] = st_sc.transform(test[f])\n",
    "\n",
    "X, X_test = get_all_features(features, train, test)\n",
    "assert X_test_sparse.shape[0] == test.shape[0]\n",
    "\n",
    "sgd_logit = SGDClassifier(loss='log', random_state=17, n_jobs=-1,\n",
    "                         penalty='l1')\n",
    "cv = cross_validate(sgd_logit, X, y, cv=time_split, scoring='roc_auc', \n",
    "                     n_jobs=-1, return_train_score=True)\n",
    "\n",
    "cv['test_score'].mean(), cv['train_score'].mean()"
   ]
  },
  {
   "cell_type": "code",
   "execution_count": null,
   "metadata": {
    "cell_style": "center",
    "colab": {},
    "colab_type": "code",
    "id": "fJoVjtPtk4Sc",
    "outputId": "e721eed9-6704-4df7-e8a0-f2e78d9a7cb0"
   },
   "outputs": [
    {
     "data": {
      "text/plain": [
       "nunique_sites                 3.059828\n",
       "part_day                      0.000000\n",
       "part_day_1                  -34.430103\n",
       "part_day_2                    5.760097\n",
       "part_day_3                   -8.150612\n",
       "day_of_week_0                 0.993607\n",
       "day_of_week_1                 0.000000\n",
       "day_of_week_2               -32.729670\n",
       "day_of_week_3                 0.000000\n",
       "day_of_week_4                 0.000000\n",
       "day_of_week_5                -2.943664\n",
       "day_of_week_6                -2.115946\n",
       "sites_length                 -1.058824\n",
       "nunique_sites_pre_session   -28.200083\n",
       "timespan_mean                -0.194789\n",
       "n_in_alice_top10              0.295527\n",
       "dtype: float64"
      ]
     },
     "execution_count": 220,
     "metadata": {
      "tags": []
     },
     "output_type": "execute_result"
    }
   ],
   "source": [
    "sgd_logit.fit(X, y)\n",
    "pd.Series(sgd_logit.coef_[0][-features.shape[0]:], index=features)"
   ]
  },
  {
   "cell_type": "code",
   "execution_count": null,
   "metadata": {
    "colab": {},
    "colab_type": "code",
    "id": "d8e9GY2Ok4Se",
    "outputId": "07b080c4-6c55-4d05-a2f8-770310900a5b"
   },
   "outputs": [
    {
     "name": "stdout",
     "output_type": "stream",
     "text": [
      "CPU times: user 310 ms, sys: 234 ms, total: 544 ms\n",
      "Wall time: 2.48 s\n"
     ]
    },
    {
     "data": {
      "text/plain": [
       "(0.9673377163559088, 0.9779651040231939)"
      ]
     },
     "execution_count": 249,
     "metadata": {
      "tags": []
     },
     "output_type": "execute_result"
    }
   ],
   "source": [
    "%%time\n",
    "train = train_df4.iloc[:train_df.shape[0]]\n",
    "test = train_df4.iloc[train_df.shape[0]:]\n",
    "\n",
    "features_drop = features_sites + features_time + \\\n",
    "                ['target', #'nunique_sites',\n",
    "                 'first_time', 'start_hour', 'day_of_week',\n",
    "                'part_day', \n",
    "                 'day_of_week_1', 'day_of_week_3', 'day_of_week_4']\n",
    "features = train.drop(columns=features_drop).columns\n",
    "train[features] = train[features].fillna(0)\n",
    "test[features] = test[features].fillna(0)\n",
    "\n",
    "from sklearn.preprocessing import StandardScaler\n",
    "\n",
    "f = ['timespan_mean']\n",
    "st_sc = StandardScaler()\n",
    "st_sc.fit(train_df4[f])\n",
    "train[f] = st_sc.transform(train[f])\n",
    "test[f] = st_sc.transform(test[f])\n",
    "\n",
    "X, X_test = get_all_features(features, train, test)\n",
    "assert X_test_sparse.shape[0] == test.shape[0]\n",
    "\n",
    "sgd_logit = SGDClassifier(loss='log', random_state=17, n_jobs=-1,\n",
    "                         penalty='l2')\n",
    "cv = cross_validate(sgd_logit, X, y, cv=time_split, scoring='roc_auc', \n",
    "                     n_jobs=-1, return_train_score=True)\n",
    "\n",
    "cv['test_score'].mean(), cv['train_score'].mean()"
   ]
  },
  {
   "cell_type": "code",
   "execution_count": null,
   "metadata": {
    "colab": {},
    "colab_type": "code",
    "id": "hjaQ0PB9k4Sh",
    "outputId": "ff80cac1-aa66-4683-ea57-3f689f1936ba"
   },
   "outputs": [
    {
     "data": {
      "text/plain": [
       "nunique_sites                0.504673\n",
       "part_day_1                  -2.821208\n",
       "part_day_2                   0.010914\n",
       "part_day_3                  -1.157553\n",
       "day_of_week_0                0.944116\n",
       "day_of_week_2               -1.888622\n",
       "day_of_week_5               -0.508488\n",
       "day_of_week_6               -1.044247\n",
       "sites_length                -0.565974\n",
       "nunique_sites_pre_session   -3.077363\n",
       "timespan_mean               -0.301790\n",
       "n_in_alice_top10             0.288302\n",
       "dtype: float64"
      ]
     },
     "execution_count": 250,
     "metadata": {
      "tags": []
     },
     "output_type": "execute_result"
    }
   ],
   "source": [
    "sgd_logit.fit(X, y)\n",
    "pd.Series(sgd_logit.coef_[0][-features.shape[0]:], index=features)"
   ]
  },
  {
   "cell_type": "code",
   "execution_count": null,
   "metadata": {
    "colab": {},
    "colab_type": "code",
    "id": "w8OWu1Z1k4Sj",
    "outputId": "4f17075f-1ce7-45af-bee1-faa0e30b03eb"
   },
   "outputs": [
    {
     "data": {
      "text/plain": [
       "['nunique_sites',\n",
       " 'sites_length',\n",
       " 'nunique_sites_pre_session',\n",
       " 'timespan_mean',\n",
       " 'n_in_alice_top10']"
      ]
     },
     "execution_count": 251,
     "metadata": {
      "tags": []
     },
     "output_type": "execute_result"
    }
   ],
   "source": [
    "features_num = []\n",
    "for f in features:\n",
    "    if train[f].nunique() > 2:\n",
    "        features_num.append(f)\n",
    "features_num"
   ]
  },
  {
   "cell_type": "code",
   "execution_count": null,
   "metadata": {
    "colab": {},
    "colab_type": "code",
    "id": "5Fo5rfDCk4S-"
   },
   "outputs": [],
   "source": [
    "train2, test2 = train.copy(), test.copy()\n",
    "train2['sites_length'] = np.where(train.sites_length == 10, 1, 0)\n",
    "test2['sites_length'] = np.where(test.sites_length == 10, 1, 0)"
   ]
  },
  {
   "cell_type": "code",
   "execution_count": null,
   "metadata": {
    "colab": {},
    "colab_type": "code",
    "id": "MWRt7Jrck4TA",
    "outputId": "3a6abce6-d4fd-475e-9790-989c329c7314"
   },
   "outputs": [
    {
     "name": "stdout",
     "output_type": "stream",
     "text": [
      "0.9695966946041478 0.9785330876192561\n",
      "CPU times: user 1.05 s, sys: 242 ms, total: 1.3 s\n",
      "Wall time: 2.29 s\n"
     ]
    },
    {
     "data": {
      "text/plain": [
       "part_day_1         -4.801622\n",
       "part_day_2         -2.314538\n",
       "part_day_3         -2.565765\n",
       "day_of_week_0       0.801061\n",
       "day_of_week_2      -1.950952\n",
       "day_of_week_5      -0.667614\n",
       "day_of_week_6      -1.110146\n",
       "timespan_mean      -0.166011\n",
       "n_in_alice_top10    0.234542\n",
       "dtype: float64"
      ]
     },
     "execution_count": 256,
     "metadata": {
      "tags": []
     },
     "output_type": "execute_result"
    }
   ],
   "source": [
    "%%time\n",
    "features_drop = features_sites + features_time + \\\n",
    "                ['target', 'nunique_sites',\n",
    "                 'first_time', 'start_hour', 'day_of_week',\n",
    "                'part_day', \n",
    "                 'day_of_week_1', 'day_of_week_3', 'day_of_week_4',\n",
    "                'sites_length', 'nunique_sites_pre_session']\n",
    "features = train.drop(columns=features_drop).columns\n",
    "# features = pd.Index(['part_day_1', 'part_day_2', 'part_day_3', \n",
    "#             'day_of_week_0', 'day_of_week_2',\n",
    "#             'day_of_week_5','day_of_week_6'])\n",
    "train[features] = train[features].fillna(0)\n",
    "test[features] = test[features].fillna(0)\n",
    "\n",
    "from sklearn.preprocessing import StandardScaler\n",
    "\n",
    "f = ['timespan_mean']\n",
    "st_sc = StandardScaler()\n",
    "st_sc.fit(train2[f])\n",
    "train2[f] = st_sc.transform(train2[f])\n",
    "test2[f] = st_sc.transform(test2[f])\n",
    "\n",
    "X, X_test = get_all_features(features, train2, test2)\n",
    "assert X_test_sparse.shape[0] == test.shape[0]\n",
    "\n",
    "sgd_logit = SGDClassifier(loss='log', random_state=17, n_jobs=-1,\n",
    "                         penalty='l2')\n",
    "cv = cross_validate(sgd_logit, X, y, cv=time_split, scoring='roc_auc', \n",
    "                     n_jobs=-1, return_train_score=True)\n",
    "\n",
    "print(cv['test_score'].mean(), cv['train_score'].mean())\n",
    "\n",
    "sgd_logit.fit(X, y)\n",
    "pd.Series(sgd_logit.coef_[0][-features.shape[0]:], index=features)"
   ]
  },
  {
   "cell_type": "code",
   "execution_count": null,
   "metadata": {
    "colab": {},
    "colab_type": "code",
    "id": "7SGsCVBDk4TF"
   },
   "outputs": [],
   "source": [
    "from sklearn.model_selection import GridSearchCV"
   ]
  },
  {
   "cell_type": "code",
   "execution_count": null,
   "metadata": {
    "colab": {},
    "colab_type": "code",
    "id": "JzP6eT_Jk4TI",
    "outputId": "1c5b4953-142b-4eaf-e89d-2837c58e1afa"
   },
   "outputs": [
    {
     "name": "stdout",
     "output_type": "stream",
     "text": [
      "Fitting 3 folds for each of 20 candidates, totalling 60 fits\n"
     ]
    },
    {
     "name": "stderr",
     "output_type": "stream",
     "text": [
      "[Parallel(n_jobs=1)]: Using backend SequentialBackend with 1 concurrent workers.\n",
      "[Parallel(n_jobs=1)]: Done  60 out of  60 | elapsed:   35.2s finished\n"
     ]
    },
    {
     "data": {
      "text/plain": [
       "(0.9739305131360805, {'alpha': 2.9763514416313192e-05})"
      ]
     },
     "execution_count": 258,
     "metadata": {
      "tags": []
     },
     "output_type": "execute_result"
    }
   ],
   "source": [
    "a_values = np.logspace(-6, 1, 20)\n",
    "\n",
    "logit_grid_searcher = GridSearchCV(estimator=sgd_logit, \n",
    "                                   param_grid={'alpha': a_values},\n",
    "                                  scoring='roc_auc', n_jobs=1, \n",
    "                                   cv=time_split, verbose=1)\n",
    "logit_grid_searcher.fit(X, y) \n",
    "logit_grid_searcher.best_score_, logit_grid_searcher.best_params_"
   ]
  },
  {
   "cell_type": "code",
   "execution_count": null,
   "metadata": {
    "colab": {},
    "colab_type": "code",
    "id": "WXSE14dfk4TL"
   },
   "outputs": [],
   "source": [
    "sgd_logit.alpha = 2.9763514416313192e-05\n",
    "sgd_logit.fit(X, y)\n",
    "write_to_submission_file(sgd_logit.predict_proba(X_test)[:,1], \n",
    "                        'submit3.csv')"
   ]
  },
  {
   "cell_type": "code",
   "execution_count": null,
   "metadata": {
    "colab": {},
    "colab_type": "code",
    "id": "YVLugLP1lBK4"
   },
   "outputs": [],
   "source": []
  },
  {
   "cell_type": "markdown",
   "metadata": {
    "colab_type": "text",
    "id": "iJrmk18Tk4TP"
   },
   "source": [
    "Public score = 0.94603  vs 0.94074 previous one"
   ]
  },
  {
   "cell_type": "markdown",
   "metadata": {
    "colab_type": "text",
    "id": "6UBtexzGk4TQ"
   },
   "source": [
    "## Критерии оценки работы (только для Peer Review в специализации):\n",
    "- Правильные ли получились размерности матриц в п. 1? (max. 2 балла)\n",
    "- Правильным ли получилось значения ROC AUC в п. 2? (max. 4 балла)\n",
    "- Побит ли бенчмарк \"sgd_logit_benchmark.csv\" на публичной части рейтинга в соревновании Kaggle? (max. 2 балла)\n",
    "- Побит ли бенчмарк \"Logit +3 features\" на публичной части рейтинга в соревновании Kaggle? (max. 2 балла)"
   ]
  },
  {
   "cell_type": "code",
   "execution_count": null,
   "metadata": {
    "colab": {},
    "colab_type": "code",
    "id": "UCtU9kW4k4TQ"
   },
   "outputs": [],
   "source": []
  },
  {
   "cell_type": "markdown",
   "metadata": {
    "colab_type": "text",
    "collapsed": true,
    "id": "8qqluqSrk4TS"
   },
   "source": [
    "## Пути улучшения\n",
    "На этой неделе дается много времени на соревнование. Не забывайте вносить хорошие идеи, к которым Вы пришли по ходу соревнования, в описание финального проекта (`html`, `pdf` или `ipynb`). Это только в случае, если вы проходите специализацию.\n",
    "Что можно попробовать:\n",
    " - Использовать ранее построенные признаки для улучшения модели (проверить их можно на меньшей выборке по 150 пользователям, отделив одного из пользователей от остальных – это быстрее)\n",
    " - Настроить параметры моделей (например, коэффициенты регуляризации)\n",
    " - Если позволяют мощности (или хватает терпения), можно попробовать смешивание (блендинг) ответов бустинга и линейной модели. [Вот](http://mlwave.com/kaggle-ensembling-guide/) один из самых известных тьюториалов по смешиванию ответов алгоритмов, также хороша [статья](https://alexanderdyakonov.wordpress.com/2017/03/10/cтекинг-stacking-и-блендинг-blending) Александра Дьяконова\n",
    " - Обратите внимание, что в соревновании также даны исходные данные о посещенных веб-страницах Элис и остальными 1557 пользователями (*train.zip*). По этим данным можно сформировать свою обучающую выборку. \n",
    "\n",
    "На 6 неделе мы пройдем большой тьюториал по Vowpal Wabbit и попробуем его в деле, на данных соревнования."
   ]
  }
 ],
 "metadata": {
  "colab": {
   "collapsed_sections": [],
   "name": "week5_sgd_kaggle.ipynb",
   "provenance": []
  },
  "kernelspec": {
   "display_name": "Python 3",
   "language": "python",
   "name": "python3"
  },
  "language_info": {
   "codemirror_mode": {
    "name": "ipython",
    "version": 3
   },
   "file_extension": ".py",
   "mimetype": "text/x-python",
   "name": "python",
   "nbconvert_exporter": "python",
   "pygments_lexer": "ipython3",
   "version": "3.8.3"
  },
  "toc": {
   "base_numbering": 1,
   "nav_menu": {},
   "number_sections": true,
   "sideBar": true,
   "skip_h1_title": false,
   "title_cell": "Table of Contents",
   "title_sidebar": "Contents",
   "toc_cell": false,
   "toc_position": {},
   "toc_section_display": true,
   "toc_window_display": false
  },
  "varInspector": {
   "cols": {
    "lenName": 16,
    "lenType": 16,
    "lenVar": 40
   },
   "kernels_config": {
    "python": {
     "delete_cmd_postfix": "",
     "delete_cmd_prefix": "del ",
     "library": "var_list.py",
     "varRefreshCmd": "print(var_dic_list())"
    },
    "r": {
     "delete_cmd_postfix": ") ",
     "delete_cmd_prefix": "rm(",
     "library": "var_list.r",
     "varRefreshCmd": "cat(var_dic_list()) "
    }
   },
   "types_to_exclude": [
    "module",
    "function",
    "builtin_function_or_method",
    "instance",
    "_Feature"
   ],
   "window_display": false
  }
 },
 "nbformat": 4,
 "nbformat_minor": 1
}
